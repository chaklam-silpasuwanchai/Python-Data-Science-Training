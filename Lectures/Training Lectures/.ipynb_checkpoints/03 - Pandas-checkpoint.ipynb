{
 "cells": [
  {
   "cell_type": "markdown",
   "metadata": {},
   "source": [
    "# Programming for Data Science and Artificial Intelligence\n",
    "\n",
    "## 3 Pandas\n",
    "\n",
    "### Readings: \n",
    "- [VANDER] Ch3\n",
    "- https://pandas.pydata.org/docs/"
   ]
  },
  {
   "cell_type": "markdown",
   "metadata": {},
   "source": [
    "Pandas is a newer package **built on top of NumPy**, and provides an efficient implementation of a DataFrame.\n",
    "\n",
    "DataFrames are essentially multidimensional arrays with attached row and column labels, and often with heterogeneous types and/or missing data\n",
    "\n",
    "Offering a convenient storage interface for labeled data, Pandas implements a number of powerful data operations familiar to users of both database frameworks and spreadsheet programs\n",
    "\n",
    "Although NumPy ndarray data structure provides essential features, its limitations become clear when we need more flexibility (e.g., attaching labels to data, working with missing data, etc.) \n",
    "\n",
    "Pandas provides efficient access to these sorts of \"data munging\" tasks that occupy much of a data scientist's time."
   ]
  },
  {
   "cell_type": "code",
   "execution_count": 1,
   "metadata": {},
   "outputs": [],
   "source": [
    "import pandas as pd"
   ]
  },
  {
   "cell_type": "markdown",
   "metadata": {},
   "source": [
    "## Series\n",
    "\n",
    "A Pandas <code>Series</code> is a one-dimensional array of indexed data. It can be created from a list or array as follows:"
   ]
  },
  {
   "cell_type": "markdown",
   "metadata": {},
   "source": [
    "### Creating a series from list"
   ]
  },
  {
   "cell_type": "code",
   "execution_count": 2,
   "metadata": {},
   "outputs": [
    {
     "name": "stdout",
     "output_type": "stream",
     "text": [
      "Pandas series from list:\n",
      " 0    0.25\n",
      "1    0.50\n",
      "2    0.75\n",
      "3    1.00\n",
      "dtype: float64\n"
     ]
    }
   ],
   "source": [
    "data_pd = pd.Series([0.25, 0.5, 0.75, 1.0])\n",
    "print(\"Pandas series from list:\\n\", data_pd)"
   ]
  },
  {
   "cell_type": "markdown",
   "metadata": {},
   "source": [
    "### Creating a series from numpy array"
   ]
  },
  {
   "cell_type": "code",
   "execution_count": 3,
   "metadata": {},
   "outputs": [
    {
     "name": "stdout",
     "output_type": "stream",
     "text": [
      "Pandas series from numpy array: \n",
      " 0    0\n",
      "1    1\n",
      "2    2\n",
      "3    3\n",
      "4    4\n",
      "dtype: int64\n"
     ]
    }
   ],
   "source": [
    "import numpy as np\n",
    "numpy_arr = np.arange(5)\n",
    "data_pd   = pd.Series(numpy_arr)\n",
    "print(\"Pandas series from numpy array: \\n\", data_pd)  # notice default index"
   ]
  },
  {
   "cell_type": "markdown",
   "metadata": {},
   "source": [
    "### Attributes"
   ]
  },
  {
   "cell_type": "code",
   "execution_count": 4,
   "metadata": {},
   "outputs": [
    {
     "name": "stdout",
     "output_type": "stream",
     "text": [
      "1: Data values:  [0 1 2 3 4]\n",
      "2: Data index:   RangeIndex(start=0, stop=5, step=1)\n"
     ]
    }
   ],
   "source": [
    "print(\"1: Data values: \", data_pd.values)  # numpy array \n",
    "print(\"2: Data index:  \", data_pd.index)  # range index is pandas object"
   ]
  },
  {
   "cell_type": "markdown",
   "metadata": {},
   "source": [
    "### Pandas and dictionary"
   ]
  },
  {
   "cell_type": "code",
   "execution_count": 5,
   "metadata": {},
   "outputs": [
    {
     "name": "stdout",
     "output_type": "stream",
     "text": [
      "1: Population['Bangkok']:  33333\n",
      "2: Population['Pathumthan':'Chiangmai']: \n",
      " Pathum Thani    22222\n",
      "Bangkok         33333\n",
      "Chiangmai       44444\n",
      "dtype: int64\n"
     ]
    }
   ],
   "source": [
    "# since pandas index system looks like dictionary, it is no surprise\n",
    "# that pandas can be created from dictionary, see this:\n",
    "some_population_dict = {'Chiangrai':    11111, \n",
    "                        'Pathum Thani': 22222,\n",
    "                        'Bangkok':      33333,\n",
    "                        'Chiangmai':    44444}\n",
    "\n",
    "data_pd = pd.Series(some_population_dict)\n",
    "print(\"1: Population['Bangkok']: \", data_pd['Bangkok'])\n",
    "\n",
    "# also supports slicing!  Notice that Chiangmai is being included as well!\n",
    "print(\"2: Population['Pathumthan':'Chiangmai']: \\n\", data_pd['Pathum Thani': 'Chiangmai'])"
   ]
  },
  {
   "cell_type": "markdown",
   "metadata": {},
   "source": [
    "## Dataframe\n",
    "\n",
    "DataFrame is an analog of a two-dimensional array with both flexible row indices and flexible column names.  DataFrame as a sequence of aligned Series objects."
   ]
  },
  {
   "cell_type": "markdown",
   "metadata": {},
   "source": [
    "### Create dataframe with two dict"
   ]
  },
  {
   "cell_type": "code",
   "execution_count": 6,
   "metadata": {},
   "outputs": [
    {
     "name": "stdout",
     "output_type": "stream",
     "text": [
      "Everything: \n",
      "              population  area\n",
      "Chiangrai        11111.0   999\n",
      "Pathum Thani     22222.0   888\n",
      "Bangkok          33333.0   777\n",
      "Chiangmai        44444.0   666\n",
      "Syria                NaN   333\n"
     ]
    }
   ],
   "source": [
    "some_population_dict = {'Chiangrai':    11111, \n",
    "                        'Pathum Thani': 22222,\n",
    "                        'Bangkok':      33333,\n",
    "                        'Chiangmai':    44444}\n",
    "some_area_dict = {'Chiangrai':  999, \n",
    "                'Pathum Thani': 888,\n",
    "                'Bangkok':      777,\n",
    "                'Chiangmai':    666,\n",
    "                 'Syria':       333}\n",
    "\n",
    "states = pd.DataFrame({'population': some_population_dict,\n",
    "                       'area': some_area_dict})\n",
    "print(\"Everything: \")\n",
    "print(states)"
   ]
  },
  {
   "cell_type": "markdown",
   "metadata": {},
   "source": [
    "### Attributes"
   ]
  },
  {
   "cell_type": "code",
   "execution_count": 7,
   "metadata": {},
   "outputs": [
    {
     "name": "stdout",
     "output_type": "stream",
     "text": [
      "Index:         Index(['Chiangrai', 'Pathum Thani', 'Bangkok', 'Chiangmai', 'Syria'], dtype='object')\n",
      "Index[-1]:     Syria\n",
      "Columns:       Index(['population', 'area'], dtype='object')\n",
      "Columns[0:1]:  Index(['population'], dtype='object')\n"
     ]
    }
   ],
   "source": [
    "print(\"Index:        \", states.index)        # pandas index object\n",
    "print(\"Index[-1]:    \", states.index[-1])    # pandas index object is similar to numpy array\n",
    "print(\"Columns:      \", states.columns)      # pandas index object\n",
    "print(\"Columns[0:1]: \", states.columns[0:1]) # notice how 1 is not included"
   ]
  },
  {
   "cell_type": "markdown",
   "metadata": {},
   "source": [
    "### Other ways to create"
   ]
  },
  {
   "cell_type": "code",
   "execution_count": 8,
   "metadata": {},
   "outputs": [
    {
     "name": "stdout",
     "output_type": "stream",
     "text": [
      "PD from series: \n",
      "               population\n",
      "Chiangrai          11111\n",
      "Pathum Thani       22222\n",
      "Bangkok            33333\n",
      "Chiangmai          44444\n",
      "PD from numpy: \n",
      "         foo       bar\n",
      "a  0.422053  0.653820\n",
      "b  0.971555  0.152072\n",
      "c  0.496383  0.066447\n"
     ]
    }
   ],
   "source": [
    "# from series\n",
    "population_series = pd.Series(some_population_dict)\n",
    "pd_from_series    = pd.DataFrame(population_series, columns=['population'])  # since it's series, we need to pass column name, if not, it will be named 0\n",
    "print(\"PD from series: \\n\", pd_from_series)\n",
    "\n",
    "# from 2D numpy array\n",
    "data_numpy    = np.random.rand(3, 2)\n",
    "index         = ['a', 'b', 'c']\n",
    "columns       = ['foo', 'bar']\n",
    "pd_from_numpy = pd.DataFrame(data_numpy, index=index, columns=columns)\n",
    "print(\"PD from numpy: \\n\", pd_from_numpy)"
   ]
  },
  {
   "cell_type": "markdown",
   "metadata": {},
   "source": [
    "## <span style=\"color:blue\"> \\\\\\ Quiz Time - Creating Series and DataFrame //</span> "
   ]
  },
  {
   "cell_type": "markdown",
   "metadata": {},
   "source": [
    " ## Series indexing/slicing"
   ]
  },
  {
   "cell_type": "code",
   "execution_count": 9,
   "metadata": {},
   "outputs": [
    {
     "name": "stdout",
     "output_type": "stream",
     "text": [
      "Data:\n",
      " a    0.25\n",
      "b    0.50\n",
      "c    0.75\n",
      "d    1.00\n",
      "dtype: float64\n"
     ]
    }
   ],
   "source": [
    "import pandas as pd\n",
    "data = pd.Series([0.25, 0.5, 0.75, 1.0],\n",
    "                 index = ['a', 'b', 'c', 'd'])\n",
    "\n",
    "print(\"Data:\\n\", data)"
   ]
  },
  {
   "cell_type": "markdown",
   "metadata": {},
   "source": [
    "### Explicit vs. Implicit index"
   ]
  },
  {
   "cell_type": "code",
   "execution_count": 10,
   "metadata": {},
   "outputs": [
    {
     "name": "stdout",
     "output_type": "stream",
     "text": [
      "Explicit index:  0.5\n",
      "Implicit index:  1.0\n"
     ]
    }
   ],
   "source": [
    "# explicit index\n",
    "print(\"Explicit index: \", data['b'])\n",
    "\n",
    "# also support implicit index, since we define index\n",
    "print(\"Implicit index: \", data[-1])"
   ]
  },
  {
   "cell_type": "code",
   "execution_count": 11,
   "metadata": {},
   "outputs": [
    {
     "name": "stdout",
     "output_type": "stream",
     "text": [
      "Data['a':'c']: \n",
      " a    0.25\n",
      "b    0.50\n",
      "c    0.75\n",
      "dtype: float64\n",
      "Data[0:2]: \n",
      " a    0.25\n",
      "b    0.50\n",
      "dtype: float64\n"
     ]
    }
   ],
   "source": [
    "# slicing with explicit index (include c)\n",
    "print(\"Data['a':'c']: \\n\", data['a':'c'])\n",
    "\n",
    "# slicing with implicit index (exclude 2)\n",
    "print(\"Data[0:2]: \\n\", data[0:2])"
   ]
  },
  {
   "cell_type": "markdown",
   "metadata": {},
   "source": [
    "### Adding values"
   ]
  },
  {
   "cell_type": "code",
   "execution_count": 12,
   "metadata": {},
   "outputs": [
    {
     "name": "stdout",
     "output_type": "stream",
     "text": [
      "Data with e: \n",
      " a     0.25\n",
      "b     0.50\n",
      "c     0.75\n",
      "d     1.00\n",
      "e    99.00\n",
      "dtype: float64\n"
     ]
    }
   ],
   "source": [
    "# extend series by assigning new index value\n",
    "data['e'] = 99\n",
    "print(\"Data with e: \\n\", data)"
   ]
  },
  {
   "cell_type": "markdown",
   "metadata": {},
   "source": [
    "### \"in\""
   ]
  },
  {
   "cell_type": "code",
   "execution_count": 13,
   "metadata": {},
   "outputs": [
    {
     "name": "stdout",
     "output_type": "stream",
     "text": [
      "a in data?:  True\n"
     ]
    }
   ],
   "source": [
    "print(\"a in data?: \", 'a' in data)  # access keys"
   ]
  },
  {
   "cell_type": "markdown",
   "metadata": {},
   "source": [
    "### keys()"
   ]
  },
  {
   "cell_type": "code",
   "execution_count": 14,
   "metadata": {},
   "outputs": [
    {
     "name": "stdout",
     "output_type": "stream",
     "text": [
      "All keys:  Index(['a', 'b', 'c', 'd', 'e'], dtype='object')\n"
     ]
    }
   ],
   "source": [
    "print(\"All keys: \", data.keys()) # pandas index object"
   ]
  },
  {
   "cell_type": "markdown",
   "metadata": {},
   "source": [
    "#### items()"
   ]
  },
  {
   "cell_type": "code",
   "execution_count": 15,
   "metadata": {},
   "outputs": [
    {
     "name": "stdout",
     "output_type": "stream",
     "text": [
      "All items:  [('a', 0.25), ('b', 0.5), ('c', 0.75), ('d', 1.0), ('e', 99.0)]\n"
     ]
    }
   ],
   "source": [
    "print(\"All items: \", list(data.items())) # zip object"
   ]
  },
  {
   "cell_type": "markdown",
   "metadata": {},
   "source": [
    "### values()"
   ]
  },
  {
   "cell_type": "code",
   "execution_count": 16,
   "metadata": {},
   "outputs": [
    {
     "name": "stdout",
     "output_type": "stream",
     "text": [
      "All values:  [ 0.25  0.5   0.75  1.   99.  ]\n"
     ]
    }
   ],
   "source": [
    "print(\"All values: \", data.values) # numpy array object"
   ]
  },
  {
   "cell_type": "markdown",
   "metadata": {},
   "source": [
    "### masking"
   ]
  },
  {
   "cell_type": "code",
   "execution_count": 17,
   "metadata": {
    "tags": []
   },
   "outputs": [
    {
     "name": "stdout",
     "output_type": "stream",
     "text": [
      "Data[(data > 0.3) & (data < 0.8)]: \n",
      " b    0.50\n",
      "c    0.75\n",
      "dtype: float64\n"
     ]
    }
   ],
   "source": [
    "print(\"Data[(data > 0.3) & (data < 0.8)]: \\n\", data[(data>0.3) & (data < 0.8)])"
   ]
  },
  {
   "cell_type": "markdown",
   "metadata": {},
   "source": [
    "### iloc vs. loc"
   ]
  },
  {
   "cell_type": "code",
   "execution_count": 18,
   "metadata": {},
   "outputs": [
    {
     "name": "stdout",
     "output_type": "stream",
     "text": [
      "Data[1]:  a\n",
      "Data[1:3]: \n",
      " 3    b\n",
      "5    c\n",
      "dtype: object\n",
      "Data loc [1]:  a\n",
      "Data loc [1:3]: \n",
      " 1    a\n",
      "3    b\n",
      "dtype: object\n",
      "Data iloc [1]:  b\n",
      "Data iloc [1:3]: \n",
      " 3    b\n",
      "5    c\n",
      "dtype: object\n"
     ]
    }
   ],
   "source": [
    "# some precaution on the possible confusion if you use explicit integer index\n",
    "# use explicit index when indexing\n",
    "data = pd.Series(['a', 'b', 'c'], index=(1, 3, 5))\n",
    "print(\"Data[1]: \", data[1])\n",
    "\n",
    "# use implicit index when slicing\n",
    "print(\"Data[1:3]: \\n\", data[1:3])\n",
    "\n",
    "# due to this possible confusion due to explicit integer index, pandas\n",
    "# provide loc and iloc\n",
    "# loc uses explicit index\n",
    "print(\"Data loc [1]: \", data.loc[1])\n",
    "print(\"Data loc [1:3]: \\n\", data.loc[1:3])  # include 3 as well\n",
    "\n",
    "#iloc uses implicit index\n",
    "print(\"Data iloc [1]: \", data.iloc[1])\n",
    "print(\"Data iloc [1:3]: \\n\", data.iloc[1:3])  # does not include 3\n",
    "\n",
    "# always use iloc for implicit index, for no unnecessary confusion!"
   ]
  },
  {
   "cell_type": "markdown",
   "metadata": {},
   "source": [
    "## DataFrame indexing/slicing/fancy Indexing"
   ]
  },
  {
   "cell_type": "code",
   "execution_count": 19,
   "metadata": {},
   "outputs": [
    {
     "name": "stdout",
     "output_type": "stream",
     "text": [
      "==data==\n",
      "                  pop  area\n",
      "Chiangrai     11111.0   999\n",
      "Pathum Thani  22222.0   888\n",
      "Bangkok       33333.0   777\n",
      "Chiangmai     44444.0   666\n",
      "Syria             NaN   333\n"
     ]
    }
   ],
   "source": [
    "some_population_dict = {'Chiangrai': 11111, \n",
    "                        'Pathum Thani': 22222,\n",
    "                        'Bangkok': 33333,\n",
    "                        'Chiangmai': 44444}\n",
    "some_area_dict = {'Chiangrai': 999, \n",
    "                'Pathum Thani': 888,\n",
    "                'Bangkok': 777,\n",
    "                'Chiangmai': 666,\n",
    "                 'Syria': 333}\n",
    "data = pd.DataFrame({'pop': some_population_dict,\n",
    "                       'area': some_area_dict})\n",
    "\n",
    "print(\"==data==\")\n",
    "print(data)"
   ]
  },
  {
   "cell_type": "markdown",
   "metadata": {},
   "source": [
    "### dictionary style access"
   ]
  },
  {
   "cell_type": "code",
   "execution_count": 20,
   "metadata": {},
   "outputs": [
    {
     "name": "stdout",
     "output_type": "stream",
     "text": [
      "==Area==\n",
      "Chiangrai       999\n",
      "Pathum Thani    888\n",
      "Bangkok         777\n",
      "Chiangmai       666\n",
      "Syria           333\n",
      "Name: area, dtype: int64\n"
     ]
    }
   ],
   "source": [
    "# dataframe can be accessed via dictionary style indexing\n",
    "print(\"==Area==\")\n",
    "print(data['area'])"
   ]
  },
  {
   "cell_type": "markdown",
   "metadata": {},
   "source": [
    "### attribute style access"
   ]
  },
  {
   "cell_type": "code",
   "execution_count": 21,
   "metadata": {},
   "outputs": [
    {
     "name": "stdout",
     "output_type": "stream",
     "text": [
      "==Area using attributes==\n",
      "Chiangrai       999\n",
      "Pathum Thani    888\n",
      "Bangkok         777\n",
      "Chiangmai       666\n",
      "Syria           333\n",
      "Name: area, dtype: int64\n",
      "Data area is same:  True\n"
     ]
    }
   ],
   "source": [
    "# we can also use attribute-style\n",
    "print(\"==Area using attributes==\")\n",
    "print(data.area)\n",
    "print(\"Data area is same: \", data.area is data['area'])"
   ]
  },
  {
   "cell_type": "markdown",
   "metadata": {},
   "source": [
    "### attribute style does not always work"
   ]
  },
  {
   "cell_type": "code",
   "execution_count": 22,
   "metadata": {},
   "outputs": [
    {
     "name": "stdout",
     "output_type": "stream",
     "text": [
      "==Do not use .pop!==\n",
      "Some pop method: \n",
      " <bound method DataFrame.pop of                   pop  area\n",
      "Chiangrai     11111.0   999\n",
      "Pathum Thani  22222.0   888\n",
      "Bangkok       33333.0   777\n",
      "Chiangmai     44444.0   666\n",
      "Syria             NaN   333>\n",
      "Data pop not the same:  False\n"
     ]
    }
   ],
   "source": [
    "# However!!, keep in mind that attribute style does not always work\n",
    "# for example, pop is a method, thus data.pop will point to some method instead\n",
    "print(\"==Do not use .pop!==\")\n",
    "print(\"Some pop method: \\n\", data.pop)\n",
    "print(\"Data pop not the same: \", data.pop is data['pop'])"
   ]
  },
  {
   "cell_type": "markdown",
   "metadata": {},
   "source": [
    "### Such access only for columns"
   ]
  },
  {
   "cell_type": "code",
   "execution_count": 23,
   "metadata": {},
   "outputs": [],
   "source": [
    "# print(\"Data['Chiangrai'] error: \", data['Chiangrai'])"
   ]
  },
  {
   "cell_type": "markdown",
   "metadata": {},
   "source": [
    "### Feature engineering"
   ]
  },
  {
   "cell_type": "code",
   "execution_count": 24,
   "metadata": {
    "scrolled": true
   },
   "outputs": [
    {
     "name": "stdout",
     "output_type": "stream",
     "text": [
      "==Feature engineering with density==\n",
      "                  pop  area    density\n",
      "Chiangrai     11111.0   999  11.122122\n",
      "Pathum Thani  22222.0   888  25.024775\n",
      "Bangkok       33333.0   777  42.899614\n",
      "Chiangmai     44444.0   666  66.732733\n",
      "Syria             NaN   333        NaN\n"
     ]
    }
   ],
   "source": [
    "print(\"==Feature engineering with density==\")\n",
    "data['density'] = data['pop'] / data['area']\n",
    "print(data)"
   ]
  },
  {
   "cell_type": "markdown",
   "metadata": {},
   "source": [
    "### iloc and loc"
   ]
  },
  {
   "cell_type": "code",
   "execution_count": 25,
   "metadata": {},
   "outputs": [
    {
     "name": "stdout",
     "output_type": "stream",
     "text": [
      "==First row using iloc==\n",
      "pop        11111.000000\n",
      "area         999.000000\n",
      "density       11.122122\n",
      "Name: Chiangrai, dtype: float64\n"
     ]
    }
   ],
   "source": [
    "# we cannot use data[0] since we do not have explicit index called 0, use iloc instead\n",
    "print(\"==First row using iloc==\")\n",
    "print(data.iloc[0])"
   ]
  },
  {
   "cell_type": "code",
   "execution_count": 26,
   "metadata": {},
   "outputs": [
    {
     "name": "stdout",
     "output_type": "stream",
     "text": [
      "==First three rows, first two columns using iloc==\n",
      "                  pop  area\n",
      "Chiangrai     11111.0   999\n",
      "Pathum Thani  22222.0   888\n",
      "Bangkok       33333.0   777\n"
     ]
    }
   ],
   "source": [
    "print(\"==First three rows, first two columns using iloc==\")\n",
    "print(data.iloc[:3, :2])"
   ]
  },
  {
   "cell_type": "code",
   "execution_count": 27,
   "metadata": {},
   "outputs": [
    {
     "name": "stdout",
     "output_type": "stream",
     "text": [
      "==Use loc for explicit index==\n",
      "                  pop\n",
      "Chiangrai     11111.0\n",
      "Pathum Thani  22222.0\n",
      "Bangkok       33333.0\n"
     ]
    }
   ],
   "source": [
    "# use loc for explicit index\n",
    "print(\"==Use loc for explicit index==\")\n",
    "print(data.loc[:'Bangkok', :'pop'])"
   ]
  },
  {
   "cell_type": "code",
   "execution_count": 28,
   "metadata": {},
   "outputs": [
    {
     "name": "stdout",
     "output_type": "stream",
     "text": [
      "==chain iloc and loc==\n",
      "                  pop  area\n",
      "Chiangrai     11111.0   999\n",
      "Pathum Thani  22222.0   888\n",
      "Bangkok       33333.0   777\n"
     ]
    }
   ],
   "source": [
    "# chaining is possible for combine\n",
    "print(\"==chain iloc and loc==\")\n",
    "print(data.loc[:'Bangkok'].iloc[:, :2])"
   ]
  },
  {
   "cell_type": "markdown",
   "metadata": {},
   "source": [
    "#### masking"
   ]
  },
  {
   "cell_type": "code",
   "execution_count": 29,
   "metadata": {},
   "outputs": [
    {
     "name": "stdout",
     "output_type": "stream",
     "text": [
      "==masking==\n",
      "                  pop    density\n",
      "Pathum Thani  22222.0  25.024775\n",
      "Bangkok       33333.0  42.899614\n",
      "Chiangmai     44444.0  66.732733\n"
     ]
    }
   ],
   "source": [
    "print(\"==masking==\")\n",
    "print(data.loc[data.density > 20, ['pop', 'density']])"
   ]
  },
  {
   "cell_type": "markdown",
   "metadata": {},
   "source": [
    "### Indexing vs. slicing"
   ]
  },
  {
   "cell_type": "code",
   "execution_count": 30,
   "metadata": {},
   "outputs": [
    {
     "name": "stdout",
     "output_type": "stream",
     "text": [
      "==Indexing refer to columns==\n",
      "Chiangrai       11111.0\n",
      "Pathum Thani    22222.0\n",
      "Bangkok         33333.0\n",
      "Chiangmai       44444.0\n",
      "Syria               NaN\n",
      "Name: pop, dtype: float64\n",
      "==Slicing refer to rows==\n",
      "                  pop  area    density\n",
      "Chiangrai     11111.0   999  11.122122\n",
      "Pathum Thani  22222.0   888  25.024775\n",
      "==Slicing can also use implicit integers==\n",
      "                  pop  area    density\n",
      "Pathum Thani  22222.0   888  25.024775\n",
      "Bangkok       33333.0   777  42.899614\n",
      "==masking are done row-wise==\n",
      "                  pop  area    density\n",
      "Pathum Thani  22222.0   888  25.024775\n",
      "Bangkok       33333.0   777  42.899614\n",
      "Chiangmai     44444.0   666  66.732733\n"
     ]
    }
   ],
   "source": [
    "### some really important convention to keep in mind###\n",
    "#1.  indexing refers to columns, while slicing refer to rows\n",
    "print(\"==Indexing refer to columns==\")\n",
    "print(data['pop'])\n",
    "#print(data['Chiangrai']) error\n",
    "\n",
    "print(\"==Slicing refer to rows==\")\n",
    "print(data['Chiangrai': 'Pathum Thani']) # include Pathum Thani\n",
    "#print(data['pop': 'area']) error\n",
    "\n",
    "print(\"==Slicing can also use implicit integers==\")\n",
    "print(data[1:3])  # not including 3\n",
    "\n",
    "print(\"==masking are done row-wise==\")\n",
    "print(data[data.density > 20])"
   ]
  },
  {
   "cell_type": "markdown",
   "metadata": {},
   "source": [
    "## <span style=\"color:blue\"> \\\\\\ Quiz Time - Indexing/slicing/fancy Indexing //</span> "
   ]
  },
  {
   "cell_type": "markdown",
   "metadata": {},
   "source": [
    "### Index alignment"
   ]
  },
  {
   "cell_type": "code",
   "execution_count": 31,
   "metadata": {},
   "outputs": [
    {
     "name": "stdout",
     "output_type": "stream",
     "text": [
      "==population / area==\n",
      "Alaska        NaN\n",
      "California    3.0\n",
      "New York      NaN\n",
      "Texas         4.0\n",
      "dtype: float64\n"
     ]
    }
   ],
   "source": [
    "area = pd.Series({'Alaska': 111, 'Texas': 222,\n",
    "                 'California': 333}, name = 'area')\n",
    "\n",
    "population = pd.Series({'California' : 999, 'Texas': 888,\n",
    "                       'New York': 777}, name = 'population')\n",
    "\n",
    "#as you can see, any missing value will be replaced with NaN\n",
    "print(\"==population / area==\")\n",
    "print(population / area)"
   ]
  },
  {
   "cell_type": "code",
   "execution_count": 32,
   "metadata": {},
   "outputs": [
    {
     "name": "stdout",
     "output_type": "stream",
     "text": [
      "==A + B==\n",
      "0    NaN\n",
      "1    5.0\n",
      "2    9.0\n",
      "3    NaN\n",
      "dtype: float64\n"
     ]
    }
   ],
   "source": [
    "#similarly\n",
    "A = pd.Series([2, 4, 6], index=[0, 1, 2])\n",
    "B = pd.Series([1, 3, 5], index=[1, 2, 3])\n",
    "print(\"==A + B==\")\n",
    "print(A + B)"
   ]
  },
  {
   "cell_type": "code",
   "execution_count": 33,
   "metadata": {
    "scrolled": true
   },
   "outputs": [
    {
     "name": "stdout",
     "output_type": "stream",
     "text": [
      "==A.add(B, fill_value=0)==\n",
      "0    2.0\n",
      "1    5.0\n",
      "2    9.0\n",
      "3    5.0\n",
      "dtype: float64\n"
     ]
    }
   ],
   "source": [
    "#we can use fill_value params in pd.add(pd)\n",
    "print(\"==A.add(B, fill_value=0)==\")  #any missing Nan values will be replaced with 0\n",
    "print(A.add(B, fill_value = 0))"
   ]
  },
  {
   "cell_type": "markdown",
   "metadata": {},
   "source": [
    "### === Task 1 ===\n",
    "\n",
    "1. Load the csv file \"howlongwelive.csv\" in the data folder into dataframe <br>\n",
    "Hint: https://www.kaggle.com/rtatman/reproducibility-tips-absolute-vs-relative-paths\n",
    "\n",
    "2. Print the first 2 rows, and last 2 rows\n",
    "\n",
    "3. Print the shape\n",
    "\n",
    "4. Print the feature (column) names\n",
    "\n",
    "5. Print the summary using .describe()\n",
    "\n",
    "6. Since Hepatatis B has a lot of nans, and highly correlate with Diptheria, drop column Hepatatis.  Also drop column Population since there are way too many nans\n",
    "\n",
    "7. Convert <code>Status</code> to 0 or 1. (0 for Developing and 1 for Developed)\n",
    "\n",
    "8. Rename column <code>thinness 1-19 years</code> to <code>thinness 10-19 years</code>\n",
    "\n",
    "9. Get all columns except Life Expectancy, and convert to numpy array called X\n",
    "\n",
    "10. Get the column life expetancy and convert to numpy array called y"
   ]
  },
  {
   "cell_type": "markdown",
   "metadata": {},
   "source": [
    "## Handling missing data"
   ]
  },
  {
   "cell_type": "markdown",
   "metadata": {},
   "source": [
    "### np.nan"
   ]
  },
  {
   "cell_type": "code",
   "execution_count": 34,
   "metadata": {},
   "outputs": [
    {
     "name": "stdout",
     "output_type": "stream",
     "text": [
      "Type of np.nan:  <class 'float'>\n",
      "Np nan - 1:      nan\n"
     ]
    }
   ],
   "source": [
    "print(\"Type of np.nan: \", type(np.nan))\n",
    "print(\"Np nan - 1:     \", np.nan - 1) #any operation with nan is nan"
   ]
  },
  {
   "cell_type": "code",
   "execution_count": 35,
   "metadata": {},
   "outputs": [
    {
     "name": "stdout",
     "output_type": "stream",
     "text": [
      "Sum:     nan\n",
      "Nansum:  8.0\n",
      "Nanmin:  1.0\n",
      "Nanmax:  4.0\n"
     ]
    }
   ],
   "source": [
    "vals2 = np.array([1, np.nan, 3, 4])\n",
    "print(\"Sum:    \", vals2.sum())\n",
    "print(\"Nansum: \", np.nansum(vals2))\n",
    "print(\"Nanmin: \", np.nanmin(vals2))\n",
    "print(\"Nanmax: \", np.nanmax(vals2))"
   ]
  },
  {
   "cell_type": "markdown",
   "metadata": {},
   "source": [
    "### isnull()"
   ]
  },
  {
   "cell_type": "code",
   "execution_count": 36,
   "metadata": {},
   "outputs": [
    {
     "name": "stdout",
     "output_type": "stream",
     "text": [
      "Is null:  0    False\n",
      "1     True\n",
      "2    False\n",
      "3     True\n",
      "dtype: bool\n"
     ]
    }
   ],
   "source": [
    "#isnull() - check any missing values\n",
    "dfs = pd.Series([1, np.nan, \"hello\", None])\n",
    "print(\"Is null: \", dfs.isnull())"
   ]
  },
  {
   "cell_type": "markdown",
   "metadata": {},
   "source": [
    "### not null"
   ]
  },
  {
   "cell_type": "code",
   "execution_count": 37,
   "metadata": {},
   "outputs": [
    {
     "name": "stdout",
     "output_type": "stream",
     "text": [
      "==Only data not null==\n",
      "0        1\n",
      "2    hello\n",
      "dtype: object\n"
     ]
    }
   ],
   "source": [
    "print(\"==Only data not null==\")\n",
    "print(dfs[dfs.notnull()])"
   ]
  },
  {
   "cell_type": "markdown",
   "metadata": {},
   "source": [
    "### dropna()"
   ]
  },
  {
   "cell_type": "code",
   "execution_count": 38,
   "metadata": {},
   "outputs": [
    {
     "name": "stdout",
     "output_type": "stream",
     "text": [
      "==Drop all na==\n",
      "0        1\n",
      "2    hello\n",
      "dtype: object\n",
      "0        1\n",
      "1      NaN\n",
      "2    hello\n",
      "3     None\n",
      "dtype: object\n"
     ]
    }
   ],
   "source": [
    "print(\"==Drop all na==\")\n",
    "print(dfs.dropna())  #this is not in place!\n",
    "print(dfs)  #this will bring back the old copy"
   ]
  },
  {
   "cell_type": "code",
   "execution_count": 39,
   "metadata": {},
   "outputs": [
    {
     "name": "stdout",
     "output_type": "stream",
     "text": [
      "Empty DataFrame\n",
      "Columns: []\n",
      "Index: [0, 1, 2, 3]\n"
     ]
    }
   ],
   "source": [
    "# drop columns with na, use axis = 1\n",
    "df = pd.DataFrame([[1, np.nan, 2],\n",
    "                  [2, 3, 5],\n",
    "                  [np.nan, 4, np.nan],\n",
    "                  [4, np.nan, np.nan]])\n",
    "\n",
    "print(df.dropna(axis=1))  #default is axis = 0"
   ]
  },
  {
   "cell_type": "code",
   "execution_count": 40,
   "metadata": {},
   "outputs": [
    {
     "name": "stdout",
     "output_type": "stream",
     "text": [
      "     0    1    2\n",
      "0  1.0  NaN  2.0\n",
      "1  2.0  3.0  5.0\n",
      "2  NaN  4.0  NaN\n",
      "3  4.0  NaN  NaN\n"
     ]
    }
   ],
   "source": [
    "#drop columns, if all values is nan\n",
    "df[3] = np.nan  #create new column\n",
    "print(df.dropna(axis=1, how=\"all\"))"
   ]
  },
  {
   "cell_type": "markdown",
   "metadata": {},
   "source": [
    "### fillna()"
   ]
  },
  {
   "cell_type": "code",
   "execution_count": 41,
   "metadata": {},
   "outputs": [
    {
     "name": "stdout",
     "output_type": "stream",
     "text": [
      "==Fill na with 0==\n",
      "     0    1    2    3\n",
      "0  1.0  0.0  2.0  0.0\n",
      "1  2.0  3.0  5.0  0.0\n",
      "2  0.0  4.0  0.0  0.0\n",
      "3  4.0  0.0  0.0  0.0\n",
      "==Fill all na with mean==\n",
      "          0    1    2   3\n",
      "0  1.000000  3.5  2.0 NaN\n",
      "1  2.000000  3.0  5.0 NaN\n",
      "2  2.333333  4.0  3.5 NaN\n",
      "3  4.000000  3.5  3.5 NaN\n",
      "replace df.mean() for col 1 with in place\n",
      "     0    1    2   3\n",
      "0  1.0  3.5  2.0 NaN\n",
      "1  2.0  3.0  5.0 NaN\n",
      "2  NaN  4.0  NaN NaN\n",
      "3  4.0  3.5  NaN NaN\n",
      "==Interpolate==\n",
      "     0    1    2   3\n",
      "0  1.0  3.5  2.0 NaN\n",
      "1  2.0  3.0  5.0 NaN\n",
      "2  3.0  4.0  5.0 NaN\n",
      "3  4.0  3.5  5.0 NaN\n"
     ]
    }
   ],
   "source": [
    "# most of the time, if you have missing values, it is advised\n",
    "# to drop them.  This is against many opinions.  \n",
    "# However, the case is that:\n",
    "# When you replace missing value with mean, you lower the variance\n",
    "# When you replace with median, you also lower the variance\n",
    "# when you replace with some value, you introduce noise\n",
    "# but first, let's see how to replace value\n",
    "\n",
    "print(\"==Fill na with 0==\")\n",
    "print(df.fillna(0))  #not in place, reminders!\n",
    "\n",
    "print(\"==Fill all na with mean==\")\n",
    "print(df.fillna(df.mean()))\n",
    "\n",
    "print(\"replace df.mean() for col 1 with in place\")\n",
    "df[1].fillna(df[1].mean(), inplace=True)  #this is in place!\n",
    "print(df)\n",
    "\n",
    "print(\"==Interpolate==\")\n",
    "print(df.interpolate(method='values'))"
   ]
  },
  {
   "cell_type": "markdown",
   "metadata": {},
   "source": [
    "## Aggregation"
   ]
  },
  {
   "cell_type": "code",
   "execution_count": 42,
   "metadata": {},
   "outputs": [
    {
     "data": {
      "text/html": [
       "<div>\n",
       "<style scoped>\n",
       "    .dataframe tbody tr th:only-of-type {\n",
       "        vertical-align: middle;\n",
       "    }\n",
       "\n",
       "    .dataframe tbody tr th {\n",
       "        vertical-align: top;\n",
       "    }\n",
       "\n",
       "    .dataframe thead th {\n",
       "        text-align: right;\n",
       "    }\n",
       "</style>\n",
       "<table border=\"1\" class=\"dataframe\">\n",
       "  <thead>\n",
       "    <tr style=\"text-align: right;\">\n",
       "      <th></th>\n",
       "      <th>class</th>\n",
       "      <th>order</th>\n",
       "      <th>max_speed</th>\n",
       "    </tr>\n",
       "  </thead>\n",
       "  <tbody>\n",
       "    <tr>\n",
       "      <th>falcon</th>\n",
       "      <td>bird</td>\n",
       "      <td>Falconiformes</td>\n",
       "      <td>389.0</td>\n",
       "    </tr>\n",
       "    <tr>\n",
       "      <th>parrot</th>\n",
       "      <td>bird</td>\n",
       "      <td>Psittaciformes</td>\n",
       "      <td>24.0</td>\n",
       "    </tr>\n",
       "    <tr>\n",
       "      <th>lion</th>\n",
       "      <td>mammal</td>\n",
       "      <td>Carnivora</td>\n",
       "      <td>80.2</td>\n",
       "    </tr>\n",
       "    <tr>\n",
       "      <th>monkey</th>\n",
       "      <td>mammal</td>\n",
       "      <td>Primates</td>\n",
       "      <td>NaN</td>\n",
       "    </tr>\n",
       "    <tr>\n",
       "      <th>leopard</th>\n",
       "      <td>mammal</td>\n",
       "      <td>Carnivora</td>\n",
       "      <td>58.0</td>\n",
       "    </tr>\n",
       "  </tbody>\n",
       "</table>\n",
       "</div>"
      ],
      "text/plain": [
       "          class           order  max_speed\n",
       "falcon     bird   Falconiformes      389.0\n",
       "parrot     bird  Psittaciformes       24.0\n",
       "lion     mammal       Carnivora       80.2\n",
       "monkey   mammal        Primates        NaN\n",
       "leopard  mammal       Carnivora       58.0"
      ]
     },
     "execution_count": 42,
     "metadata": {},
     "output_type": "execute_result"
    }
   ],
   "source": [
    "df = pd.DataFrame([('bird', 'Falconiformes', 389.0),\n",
    "                    ('bird', 'Psittaciformes', 24.0),\n",
    "                    ('mammal', 'Carnivora', 80.2),\n",
    "                    ('mammal', 'Primates', np.nan),\n",
    "                    ('mammal', 'Carnivora', 58)],\n",
    "                   index=['falcon', 'parrot', 'lion', 'monkey', 'leopard'],\n",
    "                   columns=('class', 'order', 'max_speed'))\n",
    "df"
   ]
  },
  {
   "cell_type": "code",
   "execution_count": 43,
   "metadata": {},
   "outputs": [
    {
     "data": {
      "text/html": [
       "<div>\n",
       "<style scoped>\n",
       "    .dataframe tbody tr th:only-of-type {\n",
       "        vertical-align: middle;\n",
       "    }\n",
       "\n",
       "    .dataframe tbody tr th {\n",
       "        vertical-align: top;\n",
       "    }\n",
       "\n",
       "    .dataframe thead th {\n",
       "        text-align: right;\n",
       "    }\n",
       "</style>\n",
       "<table border=\"1\" class=\"dataframe\">\n",
       "  <thead>\n",
       "    <tr style=\"text-align: right;\">\n",
       "      <th></th>\n",
       "      <th>max_speed</th>\n",
       "    </tr>\n",
       "    <tr>\n",
       "      <th>class</th>\n",
       "      <th></th>\n",
       "    </tr>\n",
       "  </thead>\n",
       "  <tbody>\n",
       "    <tr>\n",
       "      <th>bird</th>\n",
       "      <td>413.0</td>\n",
       "    </tr>\n",
       "    <tr>\n",
       "      <th>mammal</th>\n",
       "      <td>138.2</td>\n",
       "    </tr>\n",
       "  </tbody>\n",
       "</table>\n",
       "</div>"
      ],
      "text/plain": [
       "        max_speed\n",
       "class            \n",
       "bird        413.0\n",
       "mammal      138.2"
      ]
     },
     "execution_count": 43,
     "metadata": {},
     "output_type": "execute_result"
    }
   ],
   "source": [
    "grouped = df.groupby('class')  #return a special view as DataFrameGroupByObject\n",
    "grouped.sum()"
   ]
  },
  {
   "cell_type": "code",
   "execution_count": 44,
   "metadata": {},
   "outputs": [
    {
     "data": {
      "text/html": [
       "<div>\n",
       "<style scoped>\n",
       "    .dataframe tbody tr th:only-of-type {\n",
       "        vertical-align: middle;\n",
       "    }\n",
       "\n",
       "    .dataframe tbody tr th {\n",
       "        vertical-align: top;\n",
       "    }\n",
       "\n",
       "    .dataframe thead th {\n",
       "        text-align: right;\n",
       "    }\n",
       "</style>\n",
       "<table border=\"1\" class=\"dataframe\">\n",
       "  <thead>\n",
       "    <tr style=\"text-align: right;\">\n",
       "      <th></th>\n",
       "      <th>max_speed</th>\n",
       "    </tr>\n",
       "    <tr>\n",
       "      <th>order</th>\n",
       "      <th></th>\n",
       "    </tr>\n",
       "  </thead>\n",
       "  <tbody>\n",
       "    <tr>\n",
       "      <th>Carnivora</th>\n",
       "      <td>138.2</td>\n",
       "    </tr>\n",
       "    <tr>\n",
       "      <th>Falconiformes</th>\n",
       "      <td>389.0</td>\n",
       "    </tr>\n",
       "    <tr>\n",
       "      <th>Primates</th>\n",
       "      <td>0.0</td>\n",
       "    </tr>\n",
       "    <tr>\n",
       "      <th>Psittaciformes</th>\n",
       "      <td>24.0</td>\n",
       "    </tr>\n",
       "  </tbody>\n",
       "</table>\n",
       "</div>"
      ],
      "text/plain": [
       "                max_speed\n",
       "order                    \n",
       "Carnivora           138.2\n",
       "Falconiformes       389.0\n",
       "Primates              0.0\n",
       "Psittaciformes       24.0"
      ]
     },
     "execution_count": 44,
     "metadata": {},
     "output_type": "execute_result"
    }
   ],
   "source": [
    "grouped = df.groupby('order')  #return a special view as DataFrameGroupByObject\n",
    "grouped.sum()"
   ]
  },
  {
   "cell_type": "code",
   "execution_count": 45,
   "metadata": {},
   "outputs": [
    {
     "data": {
      "text/html": [
       "<div>\n",
       "<style scoped>\n",
       "    .dataframe tbody tr th:only-of-type {\n",
       "        vertical-align: middle;\n",
       "    }\n",
       "\n",
       "    .dataframe tbody tr th {\n",
       "        vertical-align: top;\n",
       "    }\n",
       "\n",
       "    .dataframe thead th {\n",
       "        text-align: right;\n",
       "    }\n",
       "</style>\n",
       "<table border=\"1\" class=\"dataframe\">\n",
       "  <thead>\n",
       "    <tr style=\"text-align: right;\">\n",
       "      <th></th>\n",
       "      <th></th>\n",
       "      <th>max_speed</th>\n",
       "    </tr>\n",
       "    <tr>\n",
       "      <th>class</th>\n",
       "      <th>order</th>\n",
       "      <th></th>\n",
       "    </tr>\n",
       "  </thead>\n",
       "  <tbody>\n",
       "    <tr>\n",
       "      <th rowspan=\"2\" valign=\"top\">bird</th>\n",
       "      <th>Falconiformes</th>\n",
       "      <td>389.0</td>\n",
       "    </tr>\n",
       "    <tr>\n",
       "      <th>Psittaciformes</th>\n",
       "      <td>24.0</td>\n",
       "    </tr>\n",
       "    <tr>\n",
       "      <th rowspan=\"2\" valign=\"top\">mammal</th>\n",
       "      <th>Carnivora</th>\n",
       "      <td>138.2</td>\n",
       "    </tr>\n",
       "    <tr>\n",
       "      <th>Primates</th>\n",
       "      <td>0.0</td>\n",
       "    </tr>\n",
       "  </tbody>\n",
       "</table>\n",
       "</div>"
      ],
      "text/plain": [
       "                       max_speed\n",
       "class  order                    \n",
       "bird   Falconiformes       389.0\n",
       "       Psittaciformes       24.0\n",
       "mammal Carnivora           138.2\n",
       "       Primates              0.0"
      ]
     },
     "execution_count": 45,
     "metadata": {},
     "output_type": "execute_result"
    }
   ],
   "source": [
    "grouped = df.groupby(['class', 'order'])\n",
    "grouped.sum()"
   ]
  },
  {
   "cell_type": "code",
   "execution_count": 46,
   "metadata": {},
   "outputs": [
    {
     "data": {
      "text/plain": [
       "class\n",
       "bird      206.5\n",
       "mammal     69.1\n",
       "Name: max_speed, dtype: float64"
      ]
     },
     "execution_count": 46,
     "metadata": {},
     "output_type": "execute_result"
    }
   ],
   "source": [
    "df.groupby(['class'])['max_speed'].median()\n",
    "# .median()\n",
    "# .min()\n",
    "# .max()\n",
    "# .std()\n",
    "# .var()\n",
    "# .sum()"
   ]
  },
  {
   "cell_type": "markdown",
   "metadata": {},
   "source": [
    "## <span style=\"color:blue\"> \\\\\\ Quiz Time - Aggregation //</span> "
   ]
  },
  {
   "cell_type": "markdown",
   "metadata": {},
   "source": [
    "### === Task 2 ===\n",
    "\n",
    "1. Continuing \"howlongwelive.csv\", check whether which column has how many missing data\n",
    "\n",
    "2. Fix all missing data using means\n",
    "\n",
    "3. Perform a <code>groupby</code> country.  Which country has the lowest/highest average life expectancy?\n",
    "\n",
    "4. Perform a <code>groupby</code> status.  Is there any strong difference between developed and developing countries in their life expectancy?\n",
    "\n",
    "5. Create another dataframe manually with 2 columns. First column is the ID column with same value as country column. Also add another column Noise_level, and populate with random values (whatever you like).  \n",
    "\n",
    "6. Merge the two datasets together based on the ID column."
   ]
  },
  {
   "cell_type": "markdown",
   "metadata": {},
   "source": [
    "## Time Series"
   ]
  },
  {
   "cell_type": "markdown",
   "metadata": {},
   "source": [
    "Pandas was developed in the context of financial modeling, so as you might expect, it contains a fairly extensive set of tools for working with dates, times, and time-indexed data.  Let’s first understand how Python treat dates and times"
   ]
  },
  {
   "cell_type": "code",
   "execution_count": 47,
   "metadata": {},
   "outputs": [
    {
     "data": {
      "text/plain": [
       "datetime.datetime(2025, 7, 4, 0, 0)"
      ]
     },
     "execution_count": 47,
     "metadata": {},
     "output_type": "execute_result"
    }
   ],
   "source": [
    "from datetime import datetime\n",
    "datetime(year=2025, month=7, day=4)"
   ]
  },
  {
   "cell_type": "markdown",
   "metadata": {},
   "source": [
    "Using the dateutil module, you can parse dates from a variety of string formats"
   ]
  },
  {
   "cell_type": "code",
   "execution_count": 48,
   "metadata": {},
   "outputs": [
    {
     "data": {
      "text/plain": [
       "datetime.datetime(2015, 7, 4, 0, 0)"
      ]
     },
     "execution_count": 48,
     "metadata": {},
     "output_type": "execute_result"
    }
   ],
   "source": [
    "from dateutil import parser\n",
    "date = parser.parse(\"4th of July, 2015\")\n",
    "date"
   ]
  },
  {
   "cell_type": "markdown",
   "metadata": {},
   "source": [
    "Once you have a datetime object, you can do things like printing the day of the week:"
   ]
  },
  {
   "cell_type": "code",
   "execution_count": 49,
   "metadata": {},
   "outputs": [
    {
     "data": {
      "text/plain": [
       "'Saturday, 07/04/15'"
      ]
     },
     "execution_count": 49,
     "metadata": {},
     "output_type": "execute_result"
    }
   ],
   "source": [
    "date.strftime('%A, %D')"
   ]
  },
  {
   "cell_type": "markdown",
   "metadata": {},
   "source": [
    "We can similarly create numpy using type np.datetime64 which is a very efficient way to store datetime"
   ]
  },
  {
   "cell_type": "code",
   "execution_count": 50,
   "metadata": {},
   "outputs": [
    {
     "data": {
      "text/plain": [
       "array('2015-07-04', dtype='datetime64[D]')"
      ]
     },
     "execution_count": 50,
     "metadata": {},
     "output_type": "execute_result"
    }
   ],
   "source": [
    "date = np.array('2015-07-04', dtype=np.datetime64)  #ISO date\n",
    "date"
   ]
  },
  {
   "cell_type": "markdown",
   "metadata": {},
   "source": [
    "Given its numpy type, we can quickly do vectorized operations on it"
   ]
  },
  {
   "cell_type": "code",
   "execution_count": 51,
   "metadata": {},
   "outputs": [
    {
     "data": {
      "text/plain": [
       "array(['2015-07-04', '2015-07-05', '2015-07-06', '2015-07-07',\n",
       "       '2015-07-08', '2015-07-09', '2015-07-10', '2015-07-11',\n",
       "       '2015-07-12', '2015-07-13', '2015-07-14', '2015-07-15'],\n",
       "      dtype='datetime64[D]')"
      ]
     },
     "execution_count": 51,
     "metadata": {},
     "output_type": "execute_result"
    }
   ],
   "source": [
    "date + np.arange(12)"
   ]
  },
  {
   "cell_type": "markdown",
   "metadata": {},
   "source": [
    "Pandas uses **Timestamp** object,  which combines the ease-of-use of datetime and dateutil with the efficient storage and vectorized interface of numpy.datetime64. From a group of these Timestamp objects, Pandas can construct a **DatetimeIndex** that can be used to index data in a Series or DataFrame"
   ]
  },
  {
   "cell_type": "code",
   "execution_count": 52,
   "metadata": {},
   "outputs": [
    {
     "name": "stdout",
     "output_type": "stream",
     "text": [
      "<class 'pandas._libs.tslibs.timestamps.Timestamp'>\n"
     ]
    },
    {
     "data": {
      "text/plain": [
       "'Saturday'"
      ]
     },
     "execution_count": 52,
     "metadata": {},
     "output_type": "execute_result"
    }
   ],
   "source": [
    "import pandas as pd\n",
    "date = pd.to_datetime(\"2015-07-04\")\n",
    "print(type(date))\n",
    "date.strftime('%A')"
   ]
  },
  {
   "cell_type": "code",
   "execution_count": 53,
   "metadata": {},
   "outputs": [
    {
     "data": {
      "text/plain": [
       "DatetimeIndex(['2015-07-04', '2015-07-05', '2015-07-06', '2015-07-07',\n",
       "               '2015-07-08', '2015-07-09', '2015-07-10', '2015-07-11',\n",
       "               '2015-07-12', '2015-07-13', '2015-07-14', '2015-07-15'],\n",
       "              dtype='datetime64[ns]', freq=None)"
      ]
     },
     "execution_count": 53,
     "metadata": {},
     "output_type": "execute_result"
    }
   ],
   "source": [
    "#perform numpy style vectorized operations using pd.to_timedelta\n",
    "date + pd.to_timedelta(np.arange(12), 'D')  #unit is nanoseconds  #does not support Y and M because each M has unequal amount of nanoseconds"
   ]
  },
  {
   "cell_type": "markdown",
   "metadata": {},
   "source": [
    "Where the Pandas time series tools really become useful is when you begin to index data by timestamps. For example, we can construct a Series object that has time indexed data:"
   ]
  },
  {
   "cell_type": "code",
   "execution_count": 54,
   "metadata": {},
   "outputs": [
    {
     "data": {
      "text/html": [
       "<div>\n",
       "<style scoped>\n",
       "    .dataframe tbody tr th:only-of-type {\n",
       "        vertical-align: middle;\n",
       "    }\n",
       "\n",
       "    .dataframe tbody tr th {\n",
       "        vertical-align: top;\n",
       "    }\n",
       "\n",
       "    .dataframe thead th {\n",
       "        text-align: right;\n",
       "    }\n",
       "</style>\n",
       "<table border=\"1\" class=\"dataframe\">\n",
       "  <thead>\n",
       "    <tr style=\"text-align: right;\">\n",
       "      <th></th>\n",
       "      <th>Apple</th>\n",
       "      <th>Orange</th>\n",
       "    </tr>\n",
       "  </thead>\n",
       "  <tbody>\n",
       "    <tr>\n",
       "      <th>2014-07-04</th>\n",
       "      <td>0.198447</td>\n",
       "      <td>0.497158</td>\n",
       "    </tr>\n",
       "    <tr>\n",
       "      <th>2014-08-04</th>\n",
       "      <td>0.696944</td>\n",
       "      <td>0.025944</td>\n",
       "    </tr>\n",
       "    <tr>\n",
       "      <th>2015-07-04</th>\n",
       "      <td>0.110923</td>\n",
       "      <td>0.527532</td>\n",
       "    </tr>\n",
       "    <tr>\n",
       "      <th>2015-08-04</th>\n",
       "      <td>0.677384</td>\n",
       "      <td>0.988142</td>\n",
       "    </tr>\n",
       "  </tbody>\n",
       "</table>\n",
       "</div>"
      ],
      "text/plain": [
       "               Apple    Orange\n",
       "2014-07-04  0.198447  0.497158\n",
       "2014-08-04  0.696944  0.025944\n",
       "2015-07-04  0.110923  0.527532\n",
       "2015-08-04  0.677384  0.988142"
      ]
     },
     "execution_count": 54,
     "metadata": {},
     "output_type": "execute_result"
    }
   ],
   "source": [
    "# index = pd.DatetimeIndex(['2014-07-04', '2014-08-04',\n",
    "#                           '2015-07-04', '2015-08-04'])\n",
    "index = pd.to_datetime(['2014-07-04', '2014-08-04',\n",
    "                          '2015-07-04', '2015-08-04'])\n",
    "data  = pd.DataFrame(np.random.rand(4,2), index = index, columns=['Apple', 'Orange'])\n",
    "data"
   ]
  },
  {
   "cell_type": "code",
   "execution_count": 55,
   "metadata": {},
   "outputs": [
    {
     "data": {
      "text/html": [
       "<div>\n",
       "<style scoped>\n",
       "    .dataframe tbody tr th:only-of-type {\n",
       "        vertical-align: middle;\n",
       "    }\n",
       "\n",
       "    .dataframe tbody tr th {\n",
       "        vertical-align: top;\n",
       "    }\n",
       "\n",
       "    .dataframe thead th {\n",
       "        text-align: right;\n",
       "    }\n",
       "</style>\n",
       "<table border=\"1\" class=\"dataframe\">\n",
       "  <thead>\n",
       "    <tr style=\"text-align: right;\">\n",
       "      <th></th>\n",
       "      <th>Apple</th>\n",
       "      <th>Orange</th>\n",
       "    </tr>\n",
       "  </thead>\n",
       "  <tbody>\n",
       "    <tr>\n",
       "      <th>2014-07-04</th>\n",
       "      <td>0.198447</td>\n",
       "      <td>0.497158</td>\n",
       "    </tr>\n",
       "    <tr>\n",
       "      <th>2014-08-04</th>\n",
       "      <td>0.696944</td>\n",
       "      <td>0.025944</td>\n",
       "    </tr>\n",
       "    <tr>\n",
       "      <th>2015-07-04</th>\n",
       "      <td>0.110923</td>\n",
       "      <td>0.527532</td>\n",
       "    </tr>\n",
       "  </tbody>\n",
       "</table>\n",
       "</div>"
      ],
      "text/plain": [
       "               Apple    Orange\n",
       "2014-07-04  0.198447  0.497158\n",
       "2014-08-04  0.696944  0.025944\n",
       "2015-07-04  0.110923  0.527532"
      ]
     },
     "execution_count": 55,
     "metadata": {},
     "output_type": "execute_result"
    }
   ],
   "source": [
    "#use slicing to access rows\n",
    "data['2014-07-04':'2015-07-04']"
   ]
  },
  {
   "cell_type": "code",
   "execution_count": 56,
   "metadata": {},
   "outputs": [
    {
     "name": "stderr",
     "output_type": "stream",
     "text": [
      "/tmp/ipykernel_16666/1707184782.py:2: FutureWarning: Indexing a DataFrame with a datetimelike index using a single string to slice the rows, like `frame[string]`, is deprecated and will be removed in a future version. Use `frame.loc[string]` instead.\n",
      "  data['2015']\n"
     ]
    },
    {
     "data": {
      "text/html": [
       "<div>\n",
       "<style scoped>\n",
       "    .dataframe tbody tr th:only-of-type {\n",
       "        vertical-align: middle;\n",
       "    }\n",
       "\n",
       "    .dataframe tbody tr th {\n",
       "        vertical-align: top;\n",
       "    }\n",
       "\n",
       "    .dataframe thead th {\n",
       "        text-align: right;\n",
       "    }\n",
       "</style>\n",
       "<table border=\"1\" class=\"dataframe\">\n",
       "  <thead>\n",
       "    <tr style=\"text-align: right;\">\n",
       "      <th></th>\n",
       "      <th>Apple</th>\n",
       "      <th>Orange</th>\n",
       "    </tr>\n",
       "  </thead>\n",
       "  <tbody>\n",
       "    <tr>\n",
       "      <th>2015-07-04</th>\n",
       "      <td>0.110923</td>\n",
       "      <td>0.527532</td>\n",
       "    </tr>\n",
       "    <tr>\n",
       "      <th>2015-08-04</th>\n",
       "      <td>0.677384</td>\n",
       "      <td>0.988142</td>\n",
       "    </tr>\n",
       "  </tbody>\n",
       "</table>\n",
       "</div>"
      ],
      "text/plain": [
       "               Apple    Orange\n",
       "2015-07-04  0.110923  0.527532\n",
       "2015-08-04  0.677384  0.988142"
      ]
     },
     "execution_count": 56,
     "metadata": {},
     "output_type": "execute_result"
    }
   ],
   "source": [
    "#there are special date-only indexing, such as passing a year\n",
    "data['2015']"
   ]
  },
  {
   "cell_type": "markdown",
   "metadata": {},
   "source": [
    "A useful method is date_range, which generates date from specified start and end"
   ]
  },
  {
   "cell_type": "code",
   "execution_count": 57,
   "metadata": {},
   "outputs": [
    {
     "data": {
      "text/plain": [
       "DatetimeIndex(['2015-07-03', '2015-07-04', '2015-07-05', '2015-07-06',\n",
       "               '2015-07-07', '2015-07-08', '2015-07-09', '2015-07-10'],\n",
       "              dtype='datetime64[ns]', freq='D')"
      ]
     },
     "execution_count": 57,
     "metadata": {},
     "output_type": "execute_result"
    }
   ],
   "source": [
    "pd.date_range('2015-07-03', '2015-07-10')"
   ]
  },
  {
   "cell_type": "code",
   "execution_count": 58,
   "metadata": {},
   "outputs": [
    {
     "data": {
      "text/plain": [
       "DatetimeIndex(['2015-07-03', '2015-07-04', '2015-07-05', '2015-07-06',\n",
       "               '2015-07-07', '2015-07-08', '2015-07-09', '2015-07-10'],\n",
       "              dtype='datetime64[ns]', freq='D')"
      ]
     },
     "execution_count": 58,
     "metadata": {},
     "output_type": "execute_result"
    }
   ],
   "source": [
    "pd.date_range('2015-07-03', periods = 8)  #instead of end, we can specify the periods"
   ]
  },
  {
   "cell_type": "code",
   "execution_count": 59,
   "metadata": {},
   "outputs": [
    {
     "data": {
      "text/plain": [
       "DatetimeIndex(['2015-07-03 00:00:00', '2015-07-03 01:00:00',\n",
       "               '2015-07-03 02:00:00', '2015-07-03 03:00:00',\n",
       "               '2015-07-03 04:00:00', '2015-07-03 05:00:00',\n",
       "               '2015-07-03 06:00:00', '2015-07-03 07:00:00'],\n",
       "              dtype='datetime64[ns]', freq='H')"
      ]
     },
     "execution_count": 59,
     "metadata": {},
     "output_type": "execute_result"
    }
   ],
   "source": [
    "# if we want 8 periods, but in hours, we use freq params\n",
    "pd.date_range('2015-07-03', periods = 8, freq='H') #try M"
   ]
  },
  {
   "cell_type": "code",
   "execution_count": 60,
   "metadata": {},
   "outputs": [
    {
     "data": {
      "text/plain": [
       "DatetimeIndex(['2015-08-01', '2015-09-01', '2015-10-01', '2015-11-01',\n",
       "               '2015-12-01', '2016-01-01', '2016-02-01', '2016-03-01',\n",
       "               '2016-04-01', '2016-05-01', '2016-06-01', '2016-07-01',\n",
       "               '2016-08-01', '2016-09-01', '2016-10-01', '2016-11-01',\n",
       "               '2016-12-01', '2017-01-01'],\n",
       "              dtype='datetime64[ns]', freq='MS')"
      ]
     },
     "execution_count": 60,
     "metadata": {},
     "output_type": "execute_result"
    }
   ],
   "source": [
    "# if we want 8 periods, but in hours, we use freq params\n",
    "pd.date_range('2015-07-03', periods = 18, freq='MS') #BH - Business Hours, MS - Month start"
   ]
  },
  {
   "cell_type": "code",
   "execution_count": 61,
   "metadata": {},
   "outputs": [
    {
     "data": {
      "text/plain": [
       "DatetimeIndex(['2015-07-03 00:00:00', '2015-07-03 02:30:00',\n",
       "               '2015-07-03 05:00:00', '2015-07-03 07:30:00',\n",
       "               '2015-07-03 10:00:00', '2015-07-03 12:30:00',\n",
       "               '2015-07-03 15:00:00', '2015-07-03 17:30:00',\n",
       "               '2015-07-03 20:00:00', '2015-07-03 22:30:00',\n",
       "               '2015-07-04 01:00:00', '2015-07-04 03:30:00',\n",
       "               '2015-07-04 06:00:00', '2015-07-04 08:30:00',\n",
       "               '2015-07-04 11:00:00', '2015-07-04 13:30:00',\n",
       "               '2015-07-04 16:00:00', '2015-07-04 18:30:00'],\n",
       "              dtype='datetime64[ns]', freq='150T')"
      ]
     },
     "execution_count": 61,
     "metadata": {},
     "output_type": "execute_result"
    }
   ],
   "source": [
    "pd.date_range('2015-07-03', periods = 18, freq='2H30T') #supports custom numbers"
   ]
  },
  {
   "cell_type": "markdown",
   "metadata": {},
   "source": [
    "## Stock"
   ]
  },
  {
   "cell_type": "code",
   "execution_count": 63,
   "metadata": {},
   "outputs": [
    {
     "data": {
      "text/html": [
       "<div>\n",
       "<style scoped>\n",
       "    .dataframe tbody tr th:only-of-type {\n",
       "        vertical-align: middle;\n",
       "    }\n",
       "\n",
       "    .dataframe tbody tr th {\n",
       "        vertical-align: top;\n",
       "    }\n",
       "\n",
       "    .dataframe thead th {\n",
       "        text-align: right;\n",
       "    }\n",
       "</style>\n",
       "<table border=\"1\" class=\"dataframe\">\n",
       "  <thead>\n",
       "    <tr style=\"text-align: right;\">\n",
       "      <th></th>\n",
       "      <th>High</th>\n",
       "      <th>Low</th>\n",
       "      <th>Open</th>\n",
       "      <th>Close</th>\n",
       "      <th>Volume</th>\n",
       "      <th>Adj Close</th>\n",
       "    </tr>\n",
       "    <tr>\n",
       "      <th>Date</th>\n",
       "      <th></th>\n",
       "      <th></th>\n",
       "      <th></th>\n",
       "      <th></th>\n",
       "      <th></th>\n",
       "      <th></th>\n",
       "    </tr>\n",
       "  </thead>\n",
       "  <tbody>\n",
       "    <tr>\n",
       "      <th>2004-08-19</th>\n",
       "      <td>51.835709</td>\n",
       "      <td>47.800831</td>\n",
       "      <td>49.813290</td>\n",
       "      <td>49.982655</td>\n",
       "      <td>44871361.0</td>\n",
       "      <td>49.982655</td>\n",
       "    </tr>\n",
       "    <tr>\n",
       "      <th>2004-08-20</th>\n",
       "      <td>54.336334</td>\n",
       "      <td>50.062355</td>\n",
       "      <td>50.316402</td>\n",
       "      <td>53.952770</td>\n",
       "      <td>22942874.0</td>\n",
       "      <td>53.952770</td>\n",
       "    </tr>\n",
       "    <tr>\n",
       "      <th>2004-08-23</th>\n",
       "      <td>56.528118</td>\n",
       "      <td>54.321388</td>\n",
       "      <td>55.168217</td>\n",
       "      <td>54.495735</td>\n",
       "      <td>18342897.0</td>\n",
       "      <td>54.495735</td>\n",
       "    </tr>\n",
       "    <tr>\n",
       "      <th>2004-08-24</th>\n",
       "      <td>55.591629</td>\n",
       "      <td>51.591621</td>\n",
       "      <td>55.412300</td>\n",
       "      <td>52.239197</td>\n",
       "      <td>15319808.0</td>\n",
       "      <td>52.239197</td>\n",
       "    </tr>\n",
       "    <tr>\n",
       "      <th>2004-08-25</th>\n",
       "      <td>53.798351</td>\n",
       "      <td>51.746044</td>\n",
       "      <td>52.284027</td>\n",
       "      <td>52.802086</td>\n",
       "      <td>9232276.0</td>\n",
       "      <td>52.802086</td>\n",
       "    </tr>\n",
       "  </tbody>\n",
       "</table>\n",
       "</div>"
      ],
      "text/plain": [
       "                 High        Low       Open      Close      Volume  Adj Close\n",
       "Date                                                                         \n",
       "2004-08-19  51.835709  47.800831  49.813290  49.982655  44871361.0  49.982655\n",
       "2004-08-20  54.336334  50.062355  50.316402  53.952770  22942874.0  53.952770\n",
       "2004-08-23  56.528118  54.321388  55.168217  54.495735  18342897.0  54.495735\n",
       "2004-08-24  55.591629  51.591621  55.412300  52.239197  15319808.0  52.239197\n",
       "2004-08-25  53.798351  51.746044  52.284027  52.802086   9232276.0  52.802086"
      ]
     },
     "execution_count": 63,
     "metadata": {},
     "output_type": "execute_result"
    }
   ],
   "source": [
    "from pandas_datareader import data\n",
    "import os\n",
    "# os.environ['http_proxy'] = 'http://192.41.170.23:3128'\n",
    "# os.environ['https_proxy'] = 'http:/192.41.170.23:3128'\n",
    "\n",
    "goog = data.DataReader('GOOG', start='2004', end='2016',\n",
    "                      data_source='yahoo')\n",
    "\n",
    "goog.head()"
   ]
  },
  {
   "cell_type": "code",
   "execution_count": 64,
   "metadata": {},
   "outputs": [
    {
     "data": {
      "text/plain": [
       "<AxesSubplot:xlabel='Date'>"
      ]
     },
     "execution_count": 64,
     "metadata": {},
     "output_type": "execute_result"
    },
    {
     "data": {
      "image/png": "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",
      "text/plain": [
       "<Figure size 432x288 with 1 Axes>"
      ]
     },
     "metadata": {
      "needs_background": "light"
     },
     "output_type": "display_data"
    }
   ],
   "source": [
    "import matplotlib.pyplot as plt\n",
    "\n",
    "goog_close = goog['Close']\n",
    "goog_close.plot()"
   ]
  },
  {
   "cell_type": "markdown",
   "metadata": {},
   "source": [
    "One common need for time series data is resampling at a higher or lower frequency. This can be done using the resample() method, or the much simpler asfreq() method. The primary difference between the two is that resample() is fundamentally a data aggregation, while asfreq() is fundamentally a data selection.\n",
    "\n",
    "Taking a look at the Google closing price, let's compare what the two return when we down-sample the data. Here we will resample the data at the end of business year:"
   ]
  },
  {
   "cell_type": "markdown",
   "metadata": {},
   "source": [
    "#### resample"
   ]
  },
  {
   "cell_type": "markdown",
   "metadata": {},
   "source": [
    "<center><img src=\"../figures/03.01-pd-resample.png\" width=500 height=500 /></center>\n"
   ]
  },
  {
   "cell_type": "markdown",
   "metadata": {},
   "source": [
    "#### asfreq"
   ]
  },
  {
   "cell_type": "markdown",
   "metadata": {},
   "source": [
    "<center><img src=\"../figures/03.02-pd-asfreq.png\" width=500 height=500 /></center>"
   ]
  },
  {
   "cell_type": "code",
   "execution_count": 65,
   "metadata": {},
   "outputs": [
    {
     "data": {
      "text/plain": [
       "<AxesSubplot:xlabel='Date'>"
      ]
     },
     "execution_count": 65,
     "metadata": {},
     "output_type": "execute_result"
    },
    {
     "data": {
      "image/png": "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",
      "text/plain": [
       "<Figure size 432x288 with 1 Axes>"
      ]
     },
     "metadata": {
      "needs_background": "light"
     },
     "output_type": "display_data"
    }
   ],
   "source": [
    "goog_close.plot(alpha=0.2, style='-')\n",
    "goog_close.resample('BA').mean().plot(style='o')  #BA = Business Year End\n",
    "goog_close.asfreq('BA').plot(style='--')\n",
    "\n",
    "#Notice the difference: at each point, resample reports the average \n",
    "#of the previous year, while asfreq reports the value at the end of the \n",
    "#year.\n",
    "\n",
    "# orange dots represent goog_close.resample()\n",
    "# green dashes represent goog_close.asfreq()"
   ]
  },
  {
   "cell_type": "code",
   "execution_count": 66,
   "metadata": {},
   "outputs": [
    {
     "data": {
      "text/plain": [
       "2019-01-01    0\n",
       "2019-01-02    1\n",
       "2019-01-03    2\n",
       "2019-01-04    3\n",
       "2019-01-05    4\n",
       "Freq: D, dtype: int64"
      ]
     },
     "execution_count": 66,
     "metadata": {},
     "output_type": "execute_result"
    }
   ],
   "source": [
    "#difference between resample and asfreq\n",
    "ts = pd.Series(range(365), index = pd.date_range(start='20190101', \n",
    "                                                end='20191231',\n",
    "                                                freq = 'D'))\n",
    "ts.head()"
   ]
  },
  {
   "cell_type": "code",
   "execution_count": 67,
   "metadata": {},
   "outputs": [
    {
     "data": {
      "text/plain": [
       "2019-03-31     89\n",
       "2019-06-30    180\n",
       "2019-09-30    272\n",
       "2019-12-31    364\n",
       "Freq: Q-DEC, dtype: int64"
      ]
     },
     "execution_count": 67,
     "metadata": {},
     "output_type": "execute_result"
    }
   ],
   "source": [
    "ts.asfreq(freq='Q')  #Quarter"
   ]
  },
  {
   "cell_type": "code",
   "execution_count": 68,
   "metadata": {},
   "outputs": [
    {
     "data": {
      "text/plain": [
       "226.25"
      ]
     },
     "execution_count": 68,
     "metadata": {},
     "output_type": "execute_result"
    }
   ],
   "source": [
    "# this is not the average of each quarter, but the average of the last\n",
    "# day of each quarter\n",
    "ts.asfreq(freq='Q').mean()   #(89+180+272+364)/4"
   ]
  },
  {
   "cell_type": "code",
   "execution_count": 69,
   "metadata": {},
   "outputs": [
    {
     "data": {
      "text/plain": [
       "2019-03-31     44.5\n",
       "2019-06-30    135.0\n",
       "2019-09-30    226.5\n",
       "2019-12-31    318.5\n",
       "Freq: Q-DEC, dtype: float64"
      ]
     },
     "execution_count": 69,
     "metadata": {},
     "output_type": "execute_result"
    }
   ],
   "source": [
    "bins = ts.resample('Q')  # return DateTimeIndexResampler which is like GroupBy object\n",
    "# it actually create some groups\n",
    "\n",
    "#this is actually the average of each quarter\n",
    "bins.groups\n",
    "bins.mean()  # think of resample as groupby, (you can call mean, sum, apply, just like group by)"
   ]
  },
  {
   "cell_type": "markdown",
   "metadata": {},
   "source": [
    "Pandas has two closely related methods: shift() and tshift() In short, the difference between them is that shift() shifts the data, while tshift() shifts the index. In both cases, the shift is specified in multiples of the frequency.  Here we will both shift() and tshift() by 900 days;"
   ]
  },
  {
   "cell_type": "code",
   "execution_count": 70,
   "metadata": {},
   "outputs": [
    {
     "name": "stderr",
     "output_type": "stream",
     "text": [
      "/tmp/ipykernel_16666/6833285.py:7: FutureWarning: tshift is deprecated and will be removed in a future version. Please use shift instead.\n",
      "  goog_close.tshift(900).plot(ax=ax[2])  # simply shift the index\n"
     ]
    },
    {
     "data": {
      "text/plain": [
       "<AxesSubplot:xlabel='Date'>"
      ]
     },
     "execution_count": 70,
     "metadata": {},
     "output_type": "execute_result"
    },
    {
     "data": {
      "image/png": "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",
      "text/plain": [
       "<Figure size 432x288 with 3 Axes>"
      ]
     },
     "metadata": {
      "needs_background": "light"
     },
     "output_type": "display_data"
    }
   ],
   "source": [
    "fig, ax = plt.subplots(3, sharey=True)\n",
    "\n",
    "goog_close = goog_close.asfreq('D', method='pad')\n",
    "\n",
    "goog_close.plot(ax=ax[0])\n",
    "goog_close.shift(900).plot(ax=ax[1])  # shift the data\n",
    "goog_close.tshift(900).plot(ax=ax[2])  # simply shift the index"
   ]
  },
  {
   "cell_type": "markdown",
   "metadata": {},
   "source": [
    "Example\n",
    "<center><img src=\"../figures/03.04-pd-shift.png\" width=300 height=300 /></center>"
   ]
  },
  {
   "cell_type": "code",
   "execution_count": 71,
   "metadata": {},
   "outputs": [
    {
     "name": "stderr",
     "output_type": "stream",
     "text": [
      "/tmp/ipykernel_16666/2184123071.py:5: FutureWarning: tshift is deprecated and will be removed in a future version. Please use shift instead.\n",
      "  ROI = 100 * (goog_close.tshift(-365) / goog_close)\n"
     ]
    },
    {
     "data": {
      "text/plain": [
       "'\\nThis helps us to see the overall trend in Google stock: \\nthus far, the most profitable times to invest in Google \\nhave been (unsurprisingly, in retrospect) shortly after its IPO, and \\nin the middle of the 2009 recession.\\n'"
      ]
     },
     "execution_count": 71,
     "metadata": {},
     "output_type": "execute_result"
    },
    {
     "data": {
      "image/png": "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",
      "text/plain": [
       "<Figure size 432x288 with 1 Axes>"
      ]
     },
     "metadata": {
      "needs_background": "light"
     },
     "output_type": "display_data"
    }
   ],
   "source": [
    "# why shift?\n",
    "# A common context for this type of shift is in computing differences \n",
    "# over time. For example, we use shifted values to compute the one-year \n",
    "# return on investment for Google stock over the course of the dataset:\n",
    "ROI = 100 * (goog_close.tshift(-365) / goog_close)\n",
    "ROI.plot()\n",
    "plt.ylabel('Return on Investment')\n",
    "\n",
    "'''\n",
    "This helps us to see the overall trend in Google stock: \n",
    "thus far, the most profitable times to invest in Google \n",
    "have been (unsurprisingly, in retrospect) shortly after its IPO, and \n",
    "in the middle of the 2009 recession.\n",
    "'''"
   ]
  },
  {
   "cell_type": "markdown",
   "metadata": {},
   "source": [
    "Example\n",
    "<center><img src=\"../figures/03.05-pd-shiftexample.png\" width=300 height=300 /></center>"
   ]
  },
  {
   "cell_type": "code",
   "execution_count": 72,
   "metadata": {},
   "outputs": [
    {
     "data": {
      "text/plain": [
       "Rolling [window=365,center=True,axis=0,method=single]"
      ]
     },
     "execution_count": 72,
     "metadata": {},
     "output_type": "execute_result"
    }
   ],
   "source": [
    "## Rolling window\n",
    "rolling = goog_close.rolling(365, center = True)\n",
    "rolling"
   ]
  },
  {
   "cell_type": "code",
   "execution_count": 73,
   "metadata": {},
   "outputs": [
    {
     "data": {
      "text/plain": [
       "<AxesSubplot:xlabel='Date'>"
      ]
     },
     "execution_count": 73,
     "metadata": {},
     "output_type": "execute_result"
    },
    {
     "data": {
      "image/png": "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",
      "text/plain": [
       "<Figure size 432x288 with 1 Axes>"
      ]
     },
     "metadata": {
      "needs_background": "light"
     },
     "output_type": "display_data"
    }
   ],
   "source": [
    "data = pd.DataFrame({'input': goog_close,\n",
    "                   'one_year rolling mean': rolling.mean(),\n",
    "                   'one_year rolling std': rolling.std()})\n",
    "\n",
    "data.plot(style=['-', '--', ':'])"
   ]
  },
  {
   "cell_type": "markdown",
   "metadata": {},
   "source": [
    "Example of rolling sum\n",
    "<center><img src=\"../figures/03.03-pd-rollingwindow.png\" width=300 height=300 /></center>"
   ]
  },
  {
   "cell_type": "markdown",
   "metadata": {},
   "source": [
    "## <span style=\"color:blue\"> \\\\\\ Quiz Time - Time Series //</span> "
   ]
  },
  {
   "cell_type": "markdown",
   "metadata": {},
   "source": [
    "## Bicycle Counts"
   ]
  },
  {
   "cell_type": "code",
   "execution_count": 1,
   "metadata": {},
   "outputs": [],
   "source": [
    "import pandas as pd\n",
    "# Example: Visualizing Seattle Bicycle Counts\n",
    "data = pd.read_csv('data/FremontBridge.csv')"
   ]
  },
  {
   "cell_type": "code",
   "execution_count": 2,
   "metadata": {},
   "outputs": [
    {
     "data": {
      "text/html": [
       "<div>\n",
       "<style scoped>\n",
       "    .dataframe tbody tr th:only-of-type {\n",
       "        vertical-align: middle;\n",
       "    }\n",
       "\n",
       "    .dataframe tbody tr th {\n",
       "        vertical-align: top;\n",
       "    }\n",
       "\n",
       "    .dataframe thead th {\n",
       "        text-align: right;\n",
       "    }\n",
       "</style>\n",
       "<table border=\"1\" class=\"dataframe\">\n",
       "  <thead>\n",
       "    <tr style=\"text-align: right;\">\n",
       "      <th></th>\n",
       "      <th>Fremont Bridge East Sidewalk</th>\n",
       "      <th>Fremont Bridge West Sidewalk</th>\n",
       "    </tr>\n",
       "    <tr>\n",
       "      <th>Date</th>\n",
       "      <th></th>\n",
       "      <th></th>\n",
       "    </tr>\n",
       "  </thead>\n",
       "  <tbody>\n",
       "    <tr>\n",
       "      <th>2019-03-31 23:00:00</th>\n",
       "      <td>6.0</td>\n",
       "      <td>10.0</td>\n",
       "    </tr>\n",
       "    <tr>\n",
       "      <th>2019-03-31 22:00:00</th>\n",
       "      <td>7.0</td>\n",
       "      <td>14.0</td>\n",
       "    </tr>\n",
       "    <tr>\n",
       "      <th>2019-03-31 21:00:00</th>\n",
       "      <td>18.0</td>\n",
       "      <td>15.0</td>\n",
       "    </tr>\n",
       "    <tr>\n",
       "      <th>2019-03-31 20:00:00</th>\n",
       "      <td>26.0</td>\n",
       "      <td>31.0</td>\n",
       "    </tr>\n",
       "    <tr>\n",
       "      <th>2019-03-31 19:00:00</th>\n",
       "      <td>30.0</td>\n",
       "      <td>58.0</td>\n",
       "    </tr>\n",
       "  </tbody>\n",
       "</table>\n",
       "</div>"
      ],
      "text/plain": [
       "                     Fremont Bridge East Sidewalk  \\\n",
       "Date                                                \n",
       "2019-03-31 23:00:00                           6.0   \n",
       "2019-03-31 22:00:00                           7.0   \n",
       "2019-03-31 21:00:00                          18.0   \n",
       "2019-03-31 20:00:00                          26.0   \n",
       "2019-03-31 19:00:00                          30.0   \n",
       "\n",
       "                     Fremont Bridge West Sidewalk  \n",
       "Date                                               \n",
       "2019-03-31 23:00:00                          10.0  \n",
       "2019-03-31 22:00:00                          14.0  \n",
       "2019-03-31 21:00:00                          15.0  \n",
       "2019-03-31 20:00:00                          31.0  \n",
       "2019-03-31 19:00:00                          58.0  "
      ]
     },
     "execution_count": 2,
     "metadata": {},
     "output_type": "execute_result"
    }
   ],
   "source": [
    "data = pd.read_csv('data/FremontBridge.csv', index_col='Date',\n",
    "                  parse_dates=True)\n",
    "data.head()"
   ]
  },
  {
   "cell_type": "code",
   "execution_count": 3,
   "metadata": {},
   "outputs": [
    {
     "data": {
      "text/html": [
       "<div>\n",
       "<style scoped>\n",
       "    .dataframe tbody tr th:only-of-type {\n",
       "        vertical-align: middle;\n",
       "    }\n",
       "\n",
       "    .dataframe tbody tr th {\n",
       "        vertical-align: top;\n",
       "    }\n",
       "\n",
       "    .dataframe thead th {\n",
       "        text-align: right;\n",
       "    }\n",
       "</style>\n",
       "<table border=\"1\" class=\"dataframe\">\n",
       "  <thead>\n",
       "    <tr style=\"text-align: right;\">\n",
       "      <th></th>\n",
       "      <th>West</th>\n",
       "      <th>East</th>\n",
       "    </tr>\n",
       "    <tr>\n",
       "      <th>Date</th>\n",
       "      <th></th>\n",
       "      <th></th>\n",
       "    </tr>\n",
       "  </thead>\n",
       "  <tbody>\n",
       "    <tr>\n",
       "      <th>2019-03-31 23:00:00</th>\n",
       "      <td>6.0</td>\n",
       "      <td>10.0</td>\n",
       "    </tr>\n",
       "    <tr>\n",
       "      <th>2019-03-31 22:00:00</th>\n",
       "      <td>7.0</td>\n",
       "      <td>14.0</td>\n",
       "    </tr>\n",
       "    <tr>\n",
       "      <th>2019-03-31 21:00:00</th>\n",
       "      <td>18.0</td>\n",
       "      <td>15.0</td>\n",
       "    </tr>\n",
       "    <tr>\n",
       "      <th>2019-03-31 20:00:00</th>\n",
       "      <td>26.0</td>\n",
       "      <td>31.0</td>\n",
       "    </tr>\n",
       "    <tr>\n",
       "      <th>2019-03-31 19:00:00</th>\n",
       "      <td>30.0</td>\n",
       "      <td>58.0</td>\n",
       "    </tr>\n",
       "  </tbody>\n",
       "</table>\n",
       "</div>"
      ],
      "text/plain": [
       "                     West  East\n",
       "Date                           \n",
       "2019-03-31 23:00:00   6.0  10.0\n",
       "2019-03-31 22:00:00   7.0  14.0\n",
       "2019-03-31 21:00:00  18.0  15.0\n",
       "2019-03-31 20:00:00  26.0  31.0\n",
       "2019-03-31 19:00:00  30.0  58.0"
      ]
     },
     "execution_count": 3,
     "metadata": {},
     "output_type": "execute_result"
    }
   ],
   "source": [
    "data.columns = ['West', 'East']  #rename\n",
    "data.head()"
   ]
  },
  {
   "cell_type": "code",
   "execution_count": 4,
   "metadata": {},
   "outputs": [],
   "source": [
    "# check any missing values\n",
    "data.isna().sum()\n",
    "\n",
    "# fillna with 0\n",
    "data.fillna(0, inplace=True)\n",
    "\n",
    "# feature engineering\n",
    "data['Total'] = data['East'] + data['West']"
   ]
  },
  {
   "cell_type": "code",
   "execution_count": 5,
   "metadata": {},
   "outputs": [
    {
     "data": {
      "text/html": [
       "<div>\n",
       "<style scoped>\n",
       "    .dataframe tbody tr th:only-of-type {\n",
       "        vertical-align: middle;\n",
       "    }\n",
       "\n",
       "    .dataframe tbody tr th {\n",
       "        vertical-align: top;\n",
       "    }\n",
       "\n",
       "    .dataframe thead th {\n",
       "        text-align: right;\n",
       "    }\n",
       "</style>\n",
       "<table border=\"1\" class=\"dataframe\">\n",
       "  <thead>\n",
       "    <tr style=\"text-align: right;\">\n",
       "      <th></th>\n",
       "      <th>West</th>\n",
       "      <th>East</th>\n",
       "      <th>Total</th>\n",
       "    </tr>\n",
       "    <tr>\n",
       "      <th>Date</th>\n",
       "      <th></th>\n",
       "      <th></th>\n",
       "      <th></th>\n",
       "    </tr>\n",
       "  </thead>\n",
       "  <tbody>\n",
       "    <tr>\n",
       "      <th>2019-03-31 23:00:00</th>\n",
       "      <td>6.0</td>\n",
       "      <td>10.0</td>\n",
       "      <td>16.0</td>\n",
       "    </tr>\n",
       "    <tr>\n",
       "      <th>2019-03-31 22:00:00</th>\n",
       "      <td>7.0</td>\n",
       "      <td>14.0</td>\n",
       "      <td>21.0</td>\n",
       "    </tr>\n",
       "    <tr>\n",
       "      <th>2019-03-31 21:00:00</th>\n",
       "      <td>18.0</td>\n",
       "      <td>15.0</td>\n",
       "      <td>33.0</td>\n",
       "    </tr>\n",
       "    <tr>\n",
       "      <th>2019-03-31 20:00:00</th>\n",
       "      <td>26.0</td>\n",
       "      <td>31.0</td>\n",
       "      <td>57.0</td>\n",
       "    </tr>\n",
       "    <tr>\n",
       "      <th>2019-03-31 19:00:00</th>\n",
       "      <td>30.0</td>\n",
       "      <td>58.0</td>\n",
       "      <td>88.0</td>\n",
       "    </tr>\n",
       "  </tbody>\n",
       "</table>\n",
       "</div>"
      ],
      "text/plain": [
       "                     West  East  Total\n",
       "Date                                  \n",
       "2019-03-31 23:00:00   6.0  10.0   16.0\n",
       "2019-03-31 22:00:00   7.0  14.0   21.0\n",
       "2019-03-31 21:00:00  18.0  15.0   33.0\n",
       "2019-03-31 20:00:00  26.0  31.0   57.0\n",
       "2019-03-31 19:00:00  30.0  58.0   88.0"
      ]
     },
     "execution_count": 5,
     "metadata": {},
     "output_type": "execute_result"
    }
   ],
   "source": [
    "data.head()"
   ]
  },
  {
   "cell_type": "code",
   "execution_count": 6,
   "metadata": {},
   "outputs": [
    {
     "data": {
      "text/plain": [
       "Text(0, 0.5, 'Weekly bicycle count')"
      ]
     },
     "execution_count": 6,
     "metadata": {},
     "output_type": "execute_result"
    },
    {
     "data": {
      "image/png": "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\n",
      "text/plain": [
       "<Figure size 432x288 with 1 Axes>"
      ]
     },
     "metadata": {
      "needs_background": "light"
     },
     "output_type": "display_data"
    }
   ],
   "source": [
    "# let do some plot, checking on weekly trend\n",
    "\n",
    "import matplotlib.pyplot as plt\n",
    "import numpy as np\n",
    "\n",
    "weekly = data.resample('W').agg('sum')  #can also do .sum()\n",
    "weekly.plot(style=[\":\", \"--\", '-'])\n",
    "plt.ylabel('Weekly bicycle count')\n",
    "\n",
    "# seems like people bicycle in summer more than winter"
   ]
  },
  {
   "cell_type": "code",
   "execution_count": 7,
   "metadata": {},
   "outputs": [
    {
     "data": {
      "text/plain": [
       "<matplotlib.axes._subplots.AxesSubplot at 0x7f9fe5d00b80>"
      ]
     },
     "execution_count": 7,
     "metadata": {},
     "output_type": "execute_result"
    },
    {
     "data": {
      "image/png": "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\n",
      "text/plain": [
       "<Figure size 432x288 with 1 Axes>"
      ]
     },
     "metadata": {
      "needs_background": "light"
     },
     "output_type": "display_data"
    }
   ],
   "source": [
    "# let's look at what time people usually bicycle\n",
    "by_time = data.groupby(data.index.time).mean()\n",
    "by_time.plot()\n",
    "# hourly_ticks = 4 * 60 * 60 * np.arange(6)   #every four hours\n",
    "# by_time.plot(xticks=hourly_ticks, style=[':', '--', '-'])"
   ]
  },
  {
   "cell_type": "code",
   "execution_count": 8,
   "metadata": {},
   "outputs": [
    {
     "data": {
      "text/plain": [
       "<matplotlib.axes._subplots.AxesSubplot at 0x7f9fe7e915b0>"
      ]
     },
     "execution_count": 8,
     "metadata": {},
     "output_type": "execute_result"
    },
    {
     "data": {
      "image/png": "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\n",
      "text/plain": [
       "<Figure size 432x288 with 1 Axes>"
      ]
     },
     "metadata": {
      "needs_background": "light"
     },
     "output_type": "display_data"
    }
   ],
   "source": [
    "# how about days?\n",
    "by_day = data.groupby(data.index.dayofweek).mean()\n",
    "by_day.index = ['Mon', 'Tues', 'Wed', 'Thurs', 'Fri', 'Sat', 'Sun']\n",
    "by_day.plot(style=[':', '--', '-'])"
   ]
  },
  {
   "cell_type": "markdown",
   "metadata": {},
   "source": [
    "### === Task 3 ===\n",
    "\n",
    "1. Load \"data/appl_1980_2014.csv\" into df\n",
    "\n",
    "2. Transform Date column to datetime type\n",
    "\n",
    "3. Then filter only with year not less than 1987\n",
    "\n",
    "4. Sort the index in an ascending order (oldest date first) - use sort_index\n",
    "\n",
    "5. We want to know how apple does on end of every month, thus get the mean value for each columns, resample at last buiness day of each month (i.e., BM)\n",
    "\n",
    "6. BTW, how many months do we have in our data?\n",
    "\n",
    "7. Compare the differences between this year and last year High column, using shift(), where the differences is simply this_year - last_year.  Plot this graph, where x-axis is date, and y-axis is the gain/loss\n",
    "\n",
    "8. Perform a rolling mean (moving average) of Close with window size of 100 days\n",
    "\n",
    "9. Load microsoft data using this code <code>microsoft = data.DataReader('MSFT', start='1987', end='2014', data_source='yahoo')</code>.  Compare Apple and Microsoft of their return rate of \"close\" price based on year 2000 onward, where the formula is simply <code>close price / close price [0]</code> where close price [0] is simply the first close price of year 2000."
   ]
  }
 ],
 "metadata": {
  "kernelspec": {
   "display_name": "Python 3",
   "language": "python",
   "name": "python3"
  },
  "language_info": {
   "codemirror_mode": {
    "name": "ipython",
    "version": 3
   },
   "file_extension": ".py",
   "mimetype": "text/x-python",
   "name": "python",
   "nbconvert_exporter": "python",
   "pygments_lexer": "ipython3",
<<<<<<< HEAD
   "version": "3.6.9"
=======
   "version": "3.8.3"
>>>>>>> 4d89d6ac5e19997f4d02a7e2f4aa395971031c0b
  }
 },
 "nbformat": 4,
 "nbformat_minor": 4
}
