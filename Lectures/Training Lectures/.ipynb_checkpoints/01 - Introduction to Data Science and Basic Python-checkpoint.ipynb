{
 "cells": [
  {
   "cell_type": "markdown",
   "id": "e1f6c7ef-aaf9-4b73-83a9-d8d296dbdfc2",
   "metadata": {},
   "source": [
    "# Data Science Training\n",
    "\n",
    "## 1 Introduction to Data Science and Basic Python\n",
    "\n",
    "### Readings: \n",
    "- https://docs.python.org/3/tutorial/"
   ]
  },
  {
   "cell_type": "markdown",
   "id": "54baac7d-db9d-4281-a609-b0c6a2976f76",
   "metadata": {},
   "source": [
    "## Data Science\n",
    "\n",
    "Data science is all about using **data to solve problems** and can be applied in any fields. The problems that can be solved using data science could be decision making such as detecting transaction fraud. Or a product recommendation such as which song to listen to? Or predicting the outcome such as sale forecast? So, the core job of a data scientist is to understand the data, extract useful information out of it and apply this in solving the problems.\n",
    "\n",
    "In short data science involves 3 fields of knowledge - Domain knowledge, mathematics and statistics, and programming."
   ]
  },
  {
   "cell_type": "markdown",
   "id": "d6c1ab86-586d-4f3c-b7a6-3d99af5fad83",
   "metadata": {},
   "source": [
    "<center><img src=\"../figures/01.01-DataScience.png\" width=300 height=300 /></center>"
   ]
  },
  {
   "cell_type": "markdown",
   "id": "108af01d-7ce7-4ae7-a062-f82e8501ada7",
   "metadata": {},
   "source": [
    "## Data Science Process"
   ]
  },
  {
   "cell_type": "markdown",
   "id": "c15d1351-adce-44c5-ae7c-f699355182d4",
   "metadata": {},
   "source": [
    "<center><img src=\"../figures/01.02-DataScienceProcess.png\" width=800 height=800 /></center>"
   ]
  },
  {
   "cell_type": "markdown",
   "id": "35ba42e0-bae8-41b5-86b6-a3681039e2ce",
   "metadata": {},
   "source": [
    "### 1 Exploratory Data Analysis\n",
    "#### 1.1 Obtaining Data\n",
    "The very first step of any data science project is straightforward, that is to collect and obtain the data you need.\n",
    "\n",
    "##### 1.2 Scrubbing Data\n",
    "Scrubbing data process is to “clean” and filter the data. Remember the **“garbage in, garbage out”** philosophy in which if the data used is unfiltered and irrelevant, the results of the analysis will not mean anything as well. \n",
    "\n",
    "#### 1.3 Exploring Data\n",
    "First of all, you will need to inspect the data and all its properties. There are different types of data like numerical data, categorical data, ordinal and nominal data etc. With that, there are different types of data characteristics which will require you to handle them differently.\n",
    "\n",
    "Then, the next step is to compute descriptive statistics to extract features and test significant variables. The term “Feature” used in Machine Learning or Modelling, is the data features that help us to identify the characteristics that represent the data. For example, “Name”, “Age”, “Gender” are typical features of members or employees dataset.\n",
    "\n",
    "Lastly, we will utilise data visualisation to help us to identify significant patterns and trends in our data. We can gain a better picture through simple charts like line charts or bar charts to help us to understand the importance of the data.\n",
    "\n",
    "### 2 Data Analysis\n",
    "#### 2.1 Modelling Data\n",
    "This step is **“where the magic happens”.**\n",
    "\n",
    "Once again, before reaching to this stage, bear in mind that the scrubbing and exploring stage is crucial in order for this process to make sense. So take your time on those stages instead of jumping right to this process.\n",
    "\n",
    "One of the first things you need to do in modelling data, is to reduce the dimensionality of your data set. Not all your features or values are essential to predicting your model. Hence, what you need to do is to select the relevant ones that will contribute to the prediction of results you are looking for.\n",
    "\n",
    "Afterwards, it is to select the appropriate model to solve your data science problems. In short, we use regression and predictions for forecasting future values, and classification to identify, and clustering to group values.\n",
    "\n",
    "#### 2.2 Interpreting Data\n",
    "We are at the final and **most important step** of the data science project, that is, interpreting data. Interpreting data basically refers to the presentation of your data, delivering the results in such a way that is able to answer the business questions you asked when you first started the project, together with the actionable insights that is found through data science."
   ]
  },
  {
   "cell_type": "code",
   "execution_count": null,
   "id": "0462973d-bf1e-4b6f-98fa-09ac2a95d377",
   "metadata": {},
   "outputs": [],
   "source": []
  }
 ],
 "metadata": {
  "kernelspec": {
   "display_name": "Python 3 (ipykernel)",
   "language": "python",
   "name": "python3"
  },
  "language_info": {
   "codemirror_mode": {
    "name": "ipython",
    "version": 3
   },
   "file_extension": ".py",
   "mimetype": "text/x-python",
   "name": "python",
   "nbconvert_exporter": "python",
   "pygments_lexer": "ipython3",
   "version": "3.9.7"
  }
 },
 "nbformat": 4,
 "nbformat_minor": 5
}
