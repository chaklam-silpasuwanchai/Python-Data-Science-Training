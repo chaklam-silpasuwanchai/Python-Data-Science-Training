{
 "cells": [
  {
   "cell_type": "markdown",
   "metadata": {},
   "source": [
    "# Workshop - Supplement Sales Prediction\n",
    "\n",
    "### Context\n",
    "\n",
    "Your Client WOMart is a leading nutrition and supplement retail chain that offers a comprehensive range of products for all your wellness and fitness needs.\n",
    "\n",
    "WOMart follows a multi-channel distribution strategy with 350+ retail stores spread across 100+ cities.\n",
    "\n",
    "Effective forecasting for store sales gives essential insight into upcoming cash flow, meaning WOMart can more accurately plan the cashflow at the store level.\n",
    "\n",
    "Sales data for 18 months from 365 stores of WOMart is available along with information on Store Type, Location Type for each store, Region Code for every store, Discount provided by the store on every day, Number of Orders everyday etc.\n",
    "\n",
    "Your task is to predict the store sales for each store in the test set for the next two months."
   ]
  },
  {
   "cell_type": "markdown",
   "metadata": {},
   "source": [
    "#### Train Data ( sales-prediction-TRAIN.csv )\n",
    "Columns Definition\n",
    "\n",
    "- ID : Unique Identifier for a row\n",
    "- Store_id : Unique id for each Store\n",
    "- Store_Type : Type of the Store\n",
    "- Location_Type : Type of the location where Store is located\n",
    "- Region_Code : Code of the Region where Store is located\n",
    "- Date : Information about the Date\n",
    "- Holiday : If there is holiday on the given Date, 1 : Yes, 0 : No\n",
    "- Discount : If discount is offered by store on the given Date, Yes/ No\n",
    "- #Orders : Number of Orders received by the Store on the given Day\n",
    "- Sales : Total Sale for the Store on the given Day\n",
    "\n",
    "#### Test Data ( sales-prediction-TEST.csv )\n",
    "Columns Definition\n",
    "\n",
    "- ID : Unique Identifier for a row\n",
    "- Store_id : Unique id for each Store\n",
    "- Store_Type : Type of the Store\n",
    "- Location_Type : Type of the location where Store is located\n",
    "- Region_Code : Code of the Region where Store is located\n",
    "- Date : Information about the Date\n",
    "- Holiday : If there is holiday on the given Date, 1 : Yes, 0 : No\n",
    "- Discount : If discount is offered by store on the given Date, Yes/ No\n"
   ]
  },
  {
   "cell_type": "markdown",
   "metadata": {},
   "source": [
    "### Process\n",
    "\n",
    "### Section 01: Exploratory Data Analysis\n",
    "- Load and view the Dataset\n",
    "- Are there any null values? How will you handle them?\n",
    "- Are there any outlier ? How will you handle them?\n",
    "- Do you notice any patterns or anomalies in the data? Can you plot them?\n",
    "\n",
    "### Section 02: Data Analysis\n",
    "- Is it a regression/ classification problem?\n",
    "- Is it a supervised/ unsupervised problem?"
   ]
  },
  {
   "cell_type": "markdown",
   "metadata": {},
   "source": [
    "#### Required Libraries"
   ]
  },
  {
   "cell_type": "code",
   "execution_count": 1,
   "metadata": {},
   "outputs": [],
   "source": [
    "# !pip3 install seaborn==0.11.2\n",
    "# !pip3 install xgboost"
   ]
  },
  {
   "cell_type": "markdown",
   "metadata": {},
   "source": [
    "## 1) Exploratory Data Analysis\n",
    "\n",
    "- Load and view the Dataset\n",
    "- Are there any null values? How will you handle them?\n",
    "- Are there any outlier ? How will you handle them?\n",
    "- Do you notice any patterns or anomalies in the data? Can you plot them?"
   ]
  },
  {
   "cell_type": "markdown",
   "metadata": {},
   "source": [
    "### 1.1) Load and view the Dataset"
   ]
  },
  {
   "cell_type": "code",
   "execution_count": 3,
   "metadata": {},
   "outputs": [],
   "source": [
    "# Import Pandas\n",
    "import pandas as pd\n",
    "import numpy as np\n",
    "\n",
    "# Import the 2 dataset from these paths\n",
    "# 'data/sales-prediction-train.csv'\n",
    "# 'data/sales-prediction-test.csv'\n",
    "\n",
    "train_data = # < your code here >\n",
    "test_data  = # < your code here >\n",
    "\n",
    "# train_data = train_data.sample(n=10000)\n",
    "# test_data = test_data.sample(n=2000)"
   ]
  },
  {
   "cell_type": "code",
   "execution_count": 4,
   "metadata": {},
   "outputs": [
    {
     "name": "stdout",
     "output_type": "stream",
     "text": [
      "Training data shape :  (10000, 10)\n",
      "Test data shape     :  (2000, 8)\n"
     ]
    }
   ],
   "source": [
    "# Check the shape of Training and Test set\n",
    "# < your code here >"
   ]
  },
  {
   "cell_type": "code",
   "execution_count": 5,
   "metadata": {},
   "outputs": [
    {
     "data": {
      "text/html": [
       "<div>\n",
       "<style scoped>\n",
       "    .dataframe tbody tr th:only-of-type {\n",
       "        vertical-align: middle;\n",
       "    }\n",
       "\n",
       "    .dataframe tbody tr th {\n",
       "        vertical-align: top;\n",
       "    }\n",
       "\n",
       "    .dataframe thead th {\n",
       "        text-align: right;\n",
       "    }\n",
       "</style>\n",
       "<table border=\"1\" class=\"dataframe\">\n",
       "  <thead>\n",
       "    <tr style=\"text-align: right;\">\n",
       "      <th></th>\n",
       "      <th>ID</th>\n",
       "      <th>Store_id</th>\n",
       "      <th>Store_Type</th>\n",
       "      <th>Location_Type</th>\n",
       "      <th>Region_Code</th>\n",
       "      <th>Date</th>\n",
       "      <th>Holiday</th>\n",
       "      <th>Discount</th>\n",
       "      <th>#Order</th>\n",
       "      <th>Sales</th>\n",
       "    </tr>\n",
       "  </thead>\n",
       "  <tbody>\n",
       "    <tr>\n",
       "      <th>0</th>\n",
       "      <td>T1069472</td>\n",
       "      <td>261</td>\n",
       "      <td>S4</td>\n",
       "      <td>L2</td>\n",
       "      <td>R1</td>\n",
       "      <td>2018-07-10</td>\n",
       "      <td>0</td>\n",
       "      <td>No</td>\n",
       "      <td>63</td>\n",
       "      <td>36393.0</td>\n",
       "    </tr>\n",
       "    <tr>\n",
       "      <th>1</th>\n",
       "      <td>T1034180</td>\n",
       "      <td>14</td>\n",
       "      <td>S3</td>\n",
       "      <td>L2</td>\n",
       "      <td>R4</td>\n",
       "      <td>2018-04-04</td>\n",
       "      <td>0</td>\n",
       "      <td>No</td>\n",
       "      <td>61</td>\n",
       "      <td>39735.0</td>\n",
       "    </tr>\n",
       "    <tr>\n",
       "      <th>2</th>\n",
       "      <td>T1055565</td>\n",
       "      <td>21</td>\n",
       "      <td>S3</td>\n",
       "      <td>L2</td>\n",
       "      <td>R4</td>\n",
       "      <td>2018-06-02</td>\n",
       "      <td>0</td>\n",
       "      <td>Yes</td>\n",
       "      <td>111</td>\n",
       "      <td>80709.0</td>\n",
       "    </tr>\n",
       "    <tr>\n",
       "      <th>3</th>\n",
       "      <td>T1177550</td>\n",
       "      <td>131</td>\n",
       "      <td>S4</td>\n",
       "      <td>L2</td>\n",
       "      <td>R1</td>\n",
       "      <td>2019-05-02</td>\n",
       "      <td>0</td>\n",
       "      <td>Yes</td>\n",
       "      <td>178</td>\n",
       "      <td>108405.0</td>\n",
       "    </tr>\n",
       "    <tr>\n",
       "      <th>4</th>\n",
       "      <td>T1071391</td>\n",
       "      <td>179</td>\n",
       "      <td>S1</td>\n",
       "      <td>L1</td>\n",
       "      <td>R2</td>\n",
       "      <td>2018-07-15</td>\n",
       "      <td>0</td>\n",
       "      <td>Yes</td>\n",
       "      <td>78</td>\n",
       "      <td>52419.0</td>\n",
       "    </tr>\n",
       "  </tbody>\n",
       "</table>\n",
       "</div>"
      ],
      "text/plain": [
       "         ID  Store_id Store_Type Location_Type Region_Code        Date  \\\n",
       "0  T1069472       261         S4            L2          R1  2018-07-10   \n",
       "1  T1034180        14         S3            L2          R4  2018-04-04   \n",
       "2  T1055565        21         S3            L2          R4  2018-06-02   \n",
       "3  T1177550       131         S4            L2          R1  2019-05-02   \n",
       "4  T1071391       179         S1            L1          R2  2018-07-15   \n",
       "\n",
       "   Holiday Discount  #Order     Sales  \n",
       "0        0       No      63   36393.0  \n",
       "1        0       No      61   39735.0  \n",
       "2        0      Yes     111   80709.0  \n",
       "3        0      Yes     178  108405.0  \n",
       "4        0      Yes      78   52419.0  "
      ]
     },
     "execution_count": 5,
     "metadata": {},
     "output_type": "execute_result"
    }
   ],
   "source": [
    "# Let's see the \"head\" of the training set\n",
    "# < your code here >\n"
   ]
  },
  {
   "cell_type": "code",
   "execution_count": 6,
   "metadata": {},
   "outputs": [
    {
     "name": "stdout",
     "output_type": "stream",
     "text": [
      "<class 'pandas.core.frame.DataFrame'>\n",
      "RangeIndex: 10000 entries, 0 to 9999\n",
      "Data columns (total 10 columns):\n",
      " #   Column         Non-Null Count  Dtype  \n",
      "---  ------         --------------  -----  \n",
      " 0   ID             10000 non-null  object \n",
      " 1   Store_id       10000 non-null  int64  \n",
      " 2   Store_Type     10000 non-null  object \n",
      " 3   Location_Type  10000 non-null  object \n",
      " 4   Region_Code    10000 non-null  object \n",
      " 5   Date           10000 non-null  object \n",
      " 6   Holiday        10000 non-null  int64  \n",
      " 7   Discount       10000 non-null  object \n",
      " 8   #Order         10000 non-null  int64  \n",
      " 9   Sales          10000 non-null  float64\n",
      "dtypes: float64(1), int64(3), object(6)\n",
      "memory usage: 781.4+ KB\n"
     ]
    }
   ],
   "source": [
    "# Let's see the \"info\" of the training set\n",
    "# Notice that this will tell us the  Non-null counts and the dtypes of each colum\n",
    "# < your code here >\n"
   ]
  },
  {
   "cell_type": "code",
   "execution_count": 7,
   "metadata": {},
   "outputs": [
    {
     "data": {
      "text/html": [
       "<div>\n",
       "<style scoped>\n",
       "    .dataframe tbody tr th:only-of-type {\n",
       "        vertical-align: middle;\n",
       "    }\n",
       "\n",
       "    .dataframe tbody tr th {\n",
       "        vertical-align: top;\n",
       "    }\n",
       "\n",
       "    .dataframe thead th {\n",
       "        text-align: right;\n",
       "    }\n",
       "</style>\n",
       "<table border=\"1\" class=\"dataframe\">\n",
       "  <thead>\n",
       "    <tr style=\"text-align: right;\">\n",
       "      <th></th>\n",
       "      <th>ID</th>\n",
       "      <th>Store_id</th>\n",
       "      <th>Store_Type</th>\n",
       "      <th>Location_Type</th>\n",
       "      <th>Region_Code</th>\n",
       "      <th>Date</th>\n",
       "      <th>Holiday</th>\n",
       "      <th>Discount</th>\n",
       "      <th>#Order</th>\n",
       "      <th>Sales</th>\n",
       "    </tr>\n",
       "  </thead>\n",
       "  <tbody>\n",
       "    <tr>\n",
       "      <th>0</th>\n",
       "      <td>T1069472</td>\n",
       "      <td>261</td>\n",
       "      <td>S4</td>\n",
       "      <td>L2</td>\n",
       "      <td>R1</td>\n",
       "      <td>2018-07-10</td>\n",
       "      <td>0</td>\n",
       "      <td>0</td>\n",
       "      <td>63</td>\n",
       "      <td>36393.0</td>\n",
       "    </tr>\n",
       "    <tr>\n",
       "      <th>1</th>\n",
       "      <td>T1034180</td>\n",
       "      <td>14</td>\n",
       "      <td>S3</td>\n",
       "      <td>L2</td>\n",
       "      <td>R4</td>\n",
       "      <td>2018-04-04</td>\n",
       "      <td>0</td>\n",
       "      <td>0</td>\n",
       "      <td>61</td>\n",
       "      <td>39735.0</td>\n",
       "    </tr>\n",
       "    <tr>\n",
       "      <th>2</th>\n",
       "      <td>T1055565</td>\n",
       "      <td>21</td>\n",
       "      <td>S3</td>\n",
       "      <td>L2</td>\n",
       "      <td>R4</td>\n",
       "      <td>2018-06-02</td>\n",
       "      <td>0</td>\n",
       "      <td>1</td>\n",
       "      <td>111</td>\n",
       "      <td>80709.0</td>\n",
       "    </tr>\n",
       "    <tr>\n",
       "      <th>3</th>\n",
       "      <td>T1177550</td>\n",
       "      <td>131</td>\n",
       "      <td>S4</td>\n",
       "      <td>L2</td>\n",
       "      <td>R1</td>\n",
       "      <td>2019-05-02</td>\n",
       "      <td>0</td>\n",
       "      <td>1</td>\n",
       "      <td>178</td>\n",
       "      <td>108405.0</td>\n",
       "    </tr>\n",
       "    <tr>\n",
       "      <th>4</th>\n",
       "      <td>T1071391</td>\n",
       "      <td>179</td>\n",
       "      <td>S1</td>\n",
       "      <td>L1</td>\n",
       "      <td>R2</td>\n",
       "      <td>2018-07-15</td>\n",
       "      <td>0</td>\n",
       "      <td>1</td>\n",
       "      <td>78</td>\n",
       "      <td>52419.0</td>\n",
       "    </tr>\n",
       "  </tbody>\n",
       "</table>\n",
       "</div>"
      ],
      "text/plain": [
       "         ID  Store_id Store_Type Location_Type Region_Code        Date  \\\n",
       "0  T1069472       261         S4            L2          R1  2018-07-10   \n",
       "1  T1034180        14         S3            L2          R4  2018-04-04   \n",
       "2  T1055565        21         S3            L2          R4  2018-06-02   \n",
       "3  T1177550       131         S4            L2          R1  2019-05-02   \n",
       "4  T1071391       179         S1            L1          R2  2018-07-15   \n",
       "\n",
       "   Holiday  Discount  #Order     Sales  \n",
       "0        0         0      63   36393.0  \n",
       "1        0         0      61   39735.0  \n",
       "2        0         1     111   80709.0  \n",
       "3        0         1     178  108405.0  \n",
       "4        0         1      78   52419.0  "
      ]
     },
     "execution_count": 7,
     "metadata": {},
     "output_type": "execute_result"
    }
   ],
   "source": [
    "# Values in the 'Discount' column are still 'Yes' / 'No'\n",
    "# Let's replace 'Yes' with 1 and 'No' with 0\n",
    "\n",
    "train_data['Discount'] = train_data['Discount'].map({'Yes': 1, 'No': 0})\n",
    "\n",
    "# Do tha same with 'test_data'\n",
    "# < your code here >\n",
    "\n",
    "\n",
    "# see the head of test_data to check if it's done\n",
    "# < your code here >\n"
   ]
  },
  {
   "cell_type": "code",
   "execution_count": 8,
   "metadata": {},
   "outputs": [
    {
     "name": "stdout",
     "output_type": "stream",
     "text": [
      "<class 'pandas.core.frame.DataFrame'>\n",
      "RangeIndex: 10000 entries, 0 to 9999\n",
      "Data columns (total 10 columns):\n",
      " #   Column         Non-Null Count  Dtype         \n",
      "---  ------         --------------  -----         \n",
      " 0   ID             10000 non-null  object        \n",
      " 1   Store_id       10000 non-null  int64         \n",
      " 2   Store_Type     10000 non-null  object        \n",
      " 3   Location_Type  10000 non-null  object        \n",
      " 4   Region_Code    10000 non-null  object        \n",
      " 5   Date           10000 non-null  datetime64[ns]\n",
      " 6   Holiday        10000 non-null  int64         \n",
      " 7   Discount       10000 non-null  int64         \n",
      " 8   #Order         10000 non-null  int64         \n",
      " 9   Sales          10000 non-null  float64       \n",
      "dtypes: datetime64[ns](1), float64(1), int64(4), object(4)\n",
      "memory usage: 781.4+ KB\n"
     ]
    }
   ],
   "source": [
    "# Let's change the data type of the columns with date or time data into 'datetime'\n",
    "train_data['Date'] = pd.to_datetime(train_data.Date)\n",
    "\n",
    "# do the same thing with test_data\n",
    "# < your code here >\n",
    "\n",
    "\n",
    "# check if the data type has been changed\n",
    "# < your code here >\n"
   ]
  },
  {
   "cell_type": "markdown",
   "metadata": {},
   "source": [
    "### 1.2) Are there any null values? How will you handle them?"
   ]
  },
  {
   "cell_type": "code",
   "execution_count": 9,
   "metadata": {},
   "outputs": [
    {
     "name": "stdout",
     "output_type": "stream",
     "text": [
      "Missing values in Train data : \n",
      " ID               0\n",
      "Store_id         0\n",
      "Store_Type       0\n",
      "Location_Type    0\n",
      "Region_Code      0\n",
      "Date             0\n",
      "Holiday          0\n",
      "Discount         0\n",
      "#Order           0\n",
      "Sales            0\n",
      "dtype: int64\n",
      "==============================\n",
      "Missing values in Test data : \n",
      " ID               0\n",
      "Store_id         0\n",
      "Store_Type       0\n",
      "Location_Type    0\n",
      "Region_Code      0\n",
      "Date             0\n",
      "Holiday          0\n",
      "Discount         0\n",
      "dtype: int64\n"
     ]
    }
   ],
   "source": [
    "# Let's check for missing values in the Training and Test set with isnull()\n",
    "print('Missing values in Train data : \\n', train_data.isnull().sum() )\n",
    "print(\"=\"*30)\n",
    "\n",
    "# Do the same thing with test_data\n",
    "# < your code here >\n"
   ]
  },
  {
   "cell_type": "markdown",
   "metadata": {},
   "source": [
    "##### There's no missing value ! Yay !!!"
   ]
  },
  {
   "cell_type": "markdown",
   "metadata": {},
   "source": [
    "### 1.3) Are there any outlier ? How will you handle them?"
   ]
  },
  {
   "cell_type": "code",
   "execution_count": 10,
   "metadata": {},
   "outputs": [
    {
     "data": {
      "image/png": "[encoded data removed]",
      "text/plain": [
       "<Figure size 864x1008 with 16 Axes>"
      ]
     },
     "metadata": {
      "needs_background": "light"
     },
     "output_type": "display_data"
    }
   ],
   "source": [
    "# Let's check the outliers of all numerical columns \n",
    "\n",
    "# First, import numpy and matplotlib.pyplot\n",
    "# < your code here >\n",
    "\n",
    "\n",
    "# Select only 'Sales' and '#Order' columns for plotting\n",
    "df_to_plot = train_data[['Sales', '#Order']]\n",
    "\n",
    "# plot box plots of 'Sales' and '#Order'\n",
    "df_to_plot.plot(subplots=True, layout=(4,4), kind='box', figsize=(12,14), patch_artist=True)\n",
    "plt.subplots_adjust(wspace=0.5);"
   ]
  },
  {
   "cell_type": "markdown",
   "metadata": {},
   "source": [
    "##### #Order and Sales contain outliers, but the distribution do not indicate data entry errors. Let's leave them like this."
   ]
  },
  {
   "cell_type": "markdown",
   "metadata": {},
   "source": [
    "### 1.4) Do you notice any patterns or anomalies in the data? Can you plot them?"
   ]
  },
  {
   "cell_type": "markdown",
   "metadata": {},
   "source": [
    "#### Distribution Plots for categorical data"
   ]
  },
  {
   "cell_type": "code",
   "execution_count": 11,
   "metadata": {},
   "outputs": [
    {
     "data": {
      "image/png": "[encoded data removed]",
      "text/plain": [
       "<Figure size 360x360 with 1 Axes>"
      ]
     },
     "metadata": {},
     "output_type": "display_data"
    }
   ],
   "source": [
    "# import seaborn\n",
    "import seaborn as sns\n",
    "sns.set_theme(style=\"whitegrid\") # seaborn 0.11.2\n",
    "\n",
    "# Plot a distribution plot of 'Store_Type'\n",
    "sns.displot(train_data['Store_Type'])\n",
    "plt.title('Store_Type', size=16)\n",
    "plt.ylabel('count');"
   ]
  },
  {
   "cell_type": "code",
   "execution_count": 12,
   "metadata": {},
   "outputs": [
    {
     "data": {
      "text/plain": [
       "Text(-1.6650000000000063, 0.5, 'count')"
      ]
     },
     "execution_count": 12,
     "metadata": {},
     "output_type": "execute_result"
    },
    {
     "data": {
      "image/png": "[encoded data removed]",
      "text/plain": [
       "<Figure size 360x360 with 1 Axes>"
      ]
     },
     "metadata": {},
     "output_type": "display_data"
    }
   ],
   "source": [
    "# plot a distribution plot of 'Location_Type'\n",
    "# < your code here >\n"
   ]
  },
  {
   "cell_type": "code",
   "execution_count": 13,
   "metadata": {},
   "outputs": [
    {
     "data": {
      "text/plain": [
       "Text(-1.6650000000000063, 0.5, 'count')"
      ]
     },
     "execution_count": 13,
     "metadata": {},
     "output_type": "execute_result"
    },
    {
     "data": {
      "image/png": "[encoded data removed]",
      "text/plain": [
       "<Figure size 360x360 with 1 Axes>"
      ]
     },
     "metadata": {},
     "output_type": "display_data"
    }
   ],
   "source": [
    "# plot a distribution plot of 'Region_Code'\n",
    "# < your code here >\n"
   ]
  },
  {
   "cell_type": "code",
   "execution_count": 14,
   "metadata": {},
   "outputs": [
    {
     "data": {
      "text/plain": [
       "Text(-1.6650000000000063, 0.5, 'count')"
      ]
     },
     "execution_count": 14,
     "metadata": {},
     "output_type": "execute_result"
    },
    {
     "data": {
      "image/png": "[encoded data removed]",
      "text/plain": [
       "<Figure size 360x360 with 1 Axes>"
      ]
     },
     "metadata": {},
     "output_type": "display_data"
    }
   ],
   "source": [
    "# plot a distribution plot of 'Holiday'\n",
    "# < your code here >\n"
   ]
  },
  {
   "cell_type": "code",
   "execution_count": 15,
   "metadata": {},
   "outputs": [
    {
     "data": {
      "text/plain": [
       "Text(-1.6650000000000063, 0.5, 'count')"
      ]
     },
     "execution_count": 15,
     "metadata": {},
     "output_type": "execute_result"
    },
    {
     "data": {
      "image/png": "[encoded data removed]",
      "text/plain": [
       "<Figure size 360x360 with 1 Axes>"
      ]
     },
     "metadata": {},
     "output_type": "display_data"
    }
   ],
   "source": [
    "# plot a distribution plot of 'Discount'\n",
    "# < your code here >\n"
   ]
  },
  {
   "cell_type": "markdown",
   "metadata": {},
   "source": [
    "#### Distribution Plots for Numerical Data"
   ]
  },
  {
   "cell_type": "code",
   "execution_count": 16,
   "metadata": {},
   "outputs": [
    {
     "data": {
      "image/png": "[encoded data removed]",
      "text/plain": [
       "<Figure size 360x360 with 1 Axes>"
      ]
     },
     "metadata": {},
     "output_type": "display_data"
    }
   ],
   "source": [
    "# plot a distribution plot of '#Order'\n",
    "# < your code here >\n"
   ]
  },
  {
   "cell_type": "code",
   "execution_count": 17,
   "metadata": {},
   "outputs": [
    {
     "data": {
      "image/png": "[encoded data removed]",
      "text/plain": [
       "<Figure size 360x360 with 1 Axes>"
      ]
     },
     "metadata": {},
     "output_type": "display_data"
    }
   ],
   "source": [
    "# plot a distribution plot of 'Sales'\n",
    "# < your code here >\n"
   ]
  },
  {
   "cell_type": "markdown",
   "metadata": {},
   "source": [
    "#### Box Plots\n",
    "Let's plot some box plots to see the relationships between some of the attributes with 'Sales'"
   ]
  },
  {
   "cell_type": "code",
   "execution_count": 18,
   "metadata": {},
   "outputs": [
    {
     "data": {
      "image/png": "[encoded data removed]",
      "text/plain": [
       "<Figure size 288x288 with 1 Axes>"
      ]
     },
     "metadata": {},
     "output_type": "display_data"
    }
   ],
   "source": [
    "# Make a boxplot with x as 'Store_Type' and y as 'Sales'\n",
    "plt.figure(figsize=(4,4))\n",
    "sns.boxplot(x='Store_Type', y='Sales', data=train_data);"
   ]
  },
  {
   "cell_type": "code",
   "execution_count": 19,
   "metadata": {},
   "outputs": [
    {
     "data": {
      "image/png": "[encoded data removed]",
      "text/plain": [
       "<Figure size 288x288 with 1 Axes>"
      ]
     },
     "metadata": {},
     "output_type": "display_data"
    }
   ],
   "source": [
    "# Make a boxplot with x as 'Location_Type' and y as 'Sales'\n",
    "# < your code here >\n"
   ]
  },
  {
   "cell_type": "code",
   "execution_count": 20,
   "metadata": {},
   "outputs": [
    {
     "data": {
      "image/png": "[encoded data removed]",
      "text/plain": [
       "<Figure size 288x288 with 1 Axes>"
      ]
     },
     "metadata": {},
     "output_type": "display_data"
    }
   ],
   "source": [
    "# Make a boxplot with x as 'Region_Code' and y as 'Sales'\n",
    "# < your code here >\n"
   ]
  },
  {
   "cell_type": "code",
   "execution_count": 21,
   "metadata": {},
   "outputs": [
    {
     "data": {
      "image/png": "[encoded data removed]",
      "text/plain": [
       "<Figure size 288x288 with 1 Axes>"
      ]
     },
     "metadata": {},
     "output_type": "display_data"
    }
   ],
   "source": [
    "# Make a boxplot with x as 'Holiday' and y as 'Sales'\n",
    "# < your code here >\n"
   ]
  },
  {
   "cell_type": "code",
   "execution_count": 22,
   "metadata": {},
   "outputs": [
    {
     "data": {
      "image/png": "[encoded data removed]",
      "text/plain": [
       "<Figure size 288x288 with 1 Axes>"
      ]
     },
     "metadata": {},
     "output_type": "display_data"
    }
   ],
   "source": [
    "# Make a boxplot with x as 'Discount' and y as 'Sales'\n",
    "# < your code here >\n"
   ]
  },
  {
   "cell_type": "markdown",
   "metadata": {},
   "source": [
    "### Let's do some more Visualization"
   ]
  },
  {
   "cell_type": "markdown",
   "metadata": {},
   "source": [
    "#### Which are the best stores (by number of sells)?"
   ]
  },
  {
   "cell_type": "code",
   "execution_count": 23,
   "metadata": {},
   "outputs": [
    {
     "data": {
      "text/plain": [
       "<matplotlib.axes._subplots.AxesSubplot at 0x7f33e7584550>"
      ]
     },
     "execution_count": 23,
     "metadata": {},
     "output_type": "execute_result"
    },
    {
     "data": {
      "image/png": "[encoded data removed]",
      "text/plain": [
       "<Figure size 432x288 with 1 Axes>"
      ]
     },
     "metadata": {},
     "output_type": "display_data"
    }
   ],
   "source": [
    "# First, get the sum of sales of each store\n",
    "# Hint : do groupby 'Store_id' then sum their 'Sales' column\n",
    "# < your code here >\n",
    "\n",
    "\n",
    "# Sort the 'Sales' value from high to low\n",
    "# < your code here >\n",
    "\n",
    "\n",
    "# Select the top 20 stores with highest sales\n",
    "top_best_stores = best_stores.head(20).reset_index(drop=True)\n",
    "\n",
    "# Plot a barplot with 'Store_id' as x and 'Sales' as y\n",
    "sns.barplot(x='Store_id', y='Sales', data=top_best_stores, order = top_best_stores['Store_id'] )"
   ]
  },
  {
   "cell_type": "markdown",
   "metadata": {},
   "source": [
    "#### Which month has the highest Sales ?"
   ]
  },
  {
   "cell_type": "code",
   "execution_count": 24,
   "metadata": {},
   "outputs": [
    {
     "data": {
      "text/plain": [
       "Text(0, 0.5, 'Number of Sales')"
      ]
     },
     "execution_count": 24,
     "metadata": {},
     "output_type": "execute_result"
    },
    {
     "data": {
      "image/png": "[encoded data removed]",
      "text/plain": [
       "<Figure size 648x432 with 1 Axes>"
      ]
     },
     "metadata": {},
     "output_type": "display_data"
    }
   ],
   "source": [
    "# Best months by sells\n",
    "best_month = train_data.copy()\n",
    "best_month['Month'] = best_month['Date'].apply(lambda x: x.strftime('%b-%Y')) \n",
    "best_month = best_month.groupby(['Month'], as_index=False)['Sales'].sum()  \n",
    "\n",
    "# Visualization\n",
    "fig, ax = plt.subplots(figsize =(9, 6))\n",
    "\n",
    "best_month_1 = best_month.sort_values('Sales', ascending = False).head(1)\n",
    "\n",
    "ax.plot(best_month.Month, best_month.Sales, marker='o', markerfacecolor='grey', color = 'gray', markersize=9)\n",
    "ax.plot(best_month_1.Month, best_month_1.Sales, marker='o', markerfacecolor='#5495c9', color = '#5495c9', markersize=16)\n",
    "\n",
    "plt.xticks(rotation=30)\n",
    "\n",
    "# Remove ticks\n",
    "ax.xaxis.set_ticks_position('none')\n",
    "ax.yaxis.set_ticks_position('none')\n",
    "\n",
    "# Remove axes splines\n",
    "for i in ['top', 'bottom', 'left', 'right']:\n",
    "    ax.spines[i].set_visible(False)\n",
    "\n",
    "# Labels titles\n",
    "plt.ylabel('Number of Sales', fontsize=11, labelpad=20)"
   ]
  },
  {
   "cell_type": "markdown",
   "metadata": {},
   "source": [
    "#### Holiday Distribution by Sales"
   ]
  },
  {
   "cell_type": "code",
   "execution_count": 25,
   "metadata": {},
   "outputs": [
    {
     "data": {
      "image/png": "[encoded data removed]",
      "text/plain": [
       "<Figure size 648x432 with 1 Axes>"
      ]
     },
     "metadata": {},
     "output_type": "display_data"
    }
   ],
   "source": [
    "# Holidays Distribution\n",
    "holiday = train_data.groupby(['Holiday'], as_index=False)['Sales'].sum()    \n",
    "holiday['Holiday'] = holiday['Holiday'].astype(str)\n",
    "\n",
    "# Visualization\n",
    "fig = plt.figure(figsize =(9, 6))\n",
    "\n",
    "plt.pie(holiday['Sales'], \n",
    "        explode=(0.2, 0), \n",
    "        labels=['Not Holidays', 'Holidays'], \n",
    "        colors= ['lightskyblue', 'lightcoral'],\n",
    "        autopct='%1.1f%%', \n",
    "        shadow=True, \n",
    "        startangle=200)\n",
    "        \n",
    "plt.axis('equal')\n",
    "plt.show()"
   ]
  },
  {
   "cell_type": "markdown",
   "metadata": {},
   "source": [
    "## 2) Statistical Analysis"
   ]
  },
  {
   "cell_type": "markdown",
   "metadata": {},
   "source": [
    "In this workshop we will be training a machine learning model for Sales Prediction"
   ]
  },
  {
   "cell_type": "markdown",
   "metadata": {},
   "source": [
    "The independent variables or X will be:\n",
    "\n",
    "- Store_Type\n",
    "- Location_Type\n",
    "- Region_Code\n",
    "- Date\n",
    "- Holiday\n",
    "- Discount\n",
    "\n",
    "The dependent variable or y we will use in our model would be:\n",
    "- Sales"
   ]
  },
  {
   "cell_type": "code",
   "execution_count": 26,
   "metadata": {},
   "outputs": [],
   "source": [
    "# Remove column \"ID\" and \"Store_id\"\n",
    "train_data = train_data.drop(columns=['ID','Store_id'], axis=1)\n",
    "\n",
    "# do the same thing for test_data\n",
    "# < your code here >\n"
   ]
  },
  {
   "cell_type": "code",
   "execution_count": 27,
   "metadata": {},
   "outputs": [
    {
     "name": "stdout",
     "output_type": "stream",
     "text": [
      "<class 'pandas.core.frame.DataFrame'>\n",
      "RangeIndex: 10000 entries, 0 to 9999\n",
      "Data columns (total 8 columns):\n",
      " #   Column         Non-Null Count  Dtype         \n",
      "---  ------         --------------  -----         \n",
      " 0   Store_Type     10000 non-null  object        \n",
      " 1   Location_Type  10000 non-null  object        \n",
      " 2   Region_Code    10000 non-null  object        \n",
      " 3   Date           10000 non-null  datetime64[ns]\n",
      " 4   Holiday        10000 non-null  int64         \n",
      " 5   Discount       10000 non-null  int64         \n",
      " 6   #Order         10000 non-null  int64         \n",
      " 7   Sales          10000 non-null  float64       \n",
      "dtypes: datetime64[ns](1), float64(1), int64(3), object(3)\n",
      "memory usage: 625.1+ KB\n"
     ]
    }
   ],
   "source": [
    "# Change the data type of 'Holiday', 'Discount' to int\n",
    "train_data[['Holiday', 'Discount']] = train_data[['Holiday', 'Discount']].astype(int)\n",
    "\n",
    "# do the same thing for test_data\n",
    "# < your code here >\n",
    "\n",
    "train_data.info()"
   ]
  },
  {
   "cell_type": "code",
   "execution_count": 28,
   "metadata": {},
   "outputs": [],
   "source": [
    "# Function for converting categorical column into one-hot encoded\n",
    "from sklearn.preprocessing import OneHotEncoder\n",
    "def convert_to_onehot(column_name, train_data, test_data=None, enc_column_names=None):\n",
    "    enc = OneHotEncoder(handle_unknown='ignore')\n",
    "    # Fit\n",
    "    enc.fit(train_data[[column_name]])\n",
    "    \n",
    "    if enc_column_names is None:\n",
    "        enc_column_names = list(enc.categories_[0])\n",
    "#         print(enc_column_names)\n",
    "    else: enc_column_names = enc_column_names\n",
    "    \n",
    "    # Transform\n",
    "    enc_df = pd.DataFrame(enc.transform(train_data[[column_name]]).toarray(), columns=enc_column_names)\n",
    "    \n",
    "    # Join with the original df \n",
    "    train_data = train_data.join(enc_df)\n",
    "    # drop the original columns\n",
    "    train_data = train_data.drop(columns=[column_name], axis=1)\n",
    "                            \n",
    "    if test_data is not None:\n",
    "        enc_df = pd.DataFrame(enc.transform(test_data[[column_name]]).toarray(), columns=enc_column_names)\n",
    "        test_data = test_data.join(enc_df)\n",
    "        test_data = test_data.drop(columns=[column_name], axis=1)\n",
    "        return train_data, test_data\n",
    "        \n",
    "    return train_data"
   ]
  },
  {
   "cell_type": "code",
   "execution_count": 29,
   "metadata": {},
   "outputs": [
    {
     "name": "stdout",
     "output_type": "stream",
     "text": [
      "<class 'pandas.core.frame.DataFrame'>\n",
      "RangeIndex: 10000 entries, 0 to 9999\n",
      "Data columns (total 11 columns):\n",
      " #   Column         Non-Null Count  Dtype         \n",
      "---  ------         --------------  -----         \n",
      " 0   Location_Type  10000 non-null  object        \n",
      " 1   Region_Code    10000 non-null  object        \n",
      " 2   Date           10000 non-null  datetime64[ns]\n",
      " 3   Holiday        10000 non-null  int64         \n",
      " 4   Discount       10000 non-null  int64         \n",
      " 5   #Order         10000 non-null  int64         \n",
      " 6   Sales          10000 non-null  float64       \n",
      " 7   S1             10000 non-null  float64       \n",
      " 8   S2             10000 non-null  float64       \n",
      " 9   S3             10000 non-null  float64       \n",
      " 10  S4             10000 non-null  float64       \n",
      "dtypes: datetime64[ns](1), float64(5), int64(3), object(2)\n",
      "memory usage: 859.5+ KB\n"
     ]
    }
   ],
   "source": [
    "# Use the function given above to one-hot Encode categorical variables of 'Store_Type', 'Location_Type' and 'Region_Code'\n",
    "train_data, test_data = convert_to_onehot('Store_Type', train_data, test_data)\n",
    "\n",
    "train_data.info()"
   ]
  },
  {
   "cell_type": "code",
   "execution_count": 30,
   "metadata": {},
   "outputs": [
    {
     "name": "stdout",
     "output_type": "stream",
     "text": [
      "<class 'pandas.core.frame.DataFrame'>\n",
      "RangeIndex: 10000 entries, 0 to 9999\n",
      "Data columns (total 18 columns):\n",
      " #   Column    Non-Null Count  Dtype         \n",
      "---  ------    --------------  -----         \n",
      " 0   Date      10000 non-null  datetime64[ns]\n",
      " 1   Holiday   10000 non-null  int64         \n",
      " 2   Discount  10000 non-null  int64         \n",
      " 3   #Order    10000 non-null  int64         \n",
      " 4   Sales     10000 non-null  float64       \n",
      " 5   S1        10000 non-null  float64       \n",
      " 6   S2        10000 non-null  float64       \n",
      " 7   S3        10000 non-null  float64       \n",
      " 8   S4        10000 non-null  float64       \n",
      " 9   L1        10000 non-null  float64       \n",
      " 10  L2        10000 non-null  float64       \n",
      " 11  L3        10000 non-null  float64       \n",
      " 12  L4        10000 non-null  float64       \n",
      " 13  L5        10000 non-null  float64       \n",
      " 14  R1        10000 non-null  float64       \n",
      " 15  R2        10000 non-null  float64       \n",
      " 16  R3        10000 non-null  float64       \n",
      " 17  R4        10000 non-null  float64       \n",
      "dtypes: datetime64[ns](1), float64(14), int64(3)\n",
      "memory usage: 1.4 MB\n"
     ]
    }
   ],
   "source": [
    "# do the same for column 'Location_Type' and 'Region_Code'\n",
    "# < your code here >\n",
    "\n",
    "train_data.info()"
   ]
  },
  {
   "cell_type": "code",
   "execution_count": 31,
   "metadata": {},
   "outputs": [
    {
     "name": "stdout",
     "output_type": "stream",
     "text": [
      "<class 'pandas.core.frame.DataFrame'>\n",
      "RangeIndex: 10000 entries, 0 to 9999\n",
      "Data columns (total 42 columns):\n",
      " #   Column    Non-Null Count  Dtype  \n",
      "---  ------    --------------  -----  \n",
      " 0   Holiday   10000 non-null  int64  \n",
      " 1   Discount  10000 non-null  int64  \n",
      " 2   #Order    10000 non-null  int64  \n",
      " 3   Sales     10000 non-null  float64\n",
      " 4   S1        10000 non-null  float64\n",
      " 5   S2        10000 non-null  float64\n",
      " 6   S3        10000 non-null  float64\n",
      " 7   S4        10000 non-null  float64\n",
      " 8   L1        10000 non-null  float64\n",
      " 9   L2        10000 non-null  float64\n",
      " 10  L3        10000 non-null  float64\n",
      " 11  L4        10000 non-null  float64\n",
      " 12  L5        10000 non-null  float64\n",
      " 13  R1        10000 non-null  float64\n",
      " 14  R2        10000 non-null  float64\n",
      " 15  R3        10000 non-null  float64\n",
      " 16  R4        10000 non-null  float64\n",
      " 17  2018      10000 non-null  float64\n",
      " 18  2019      10000 non-null  float64\n",
      " 19  jan       10000 non-null  float64\n",
      " 20  feb       10000 non-null  float64\n",
      " 21  mar       10000 non-null  float64\n",
      " 22  apr       10000 non-null  float64\n",
      " 23  may       10000 non-null  float64\n",
      " 24  jun       10000 non-null  float64\n",
      " 25  jul       10000 non-null  float64\n",
      " 26  aug       10000 non-null  float64\n",
      " 27  sep       10000 non-null  float64\n",
      " 28  oct       10000 non-null  float64\n",
      " 29  nov       10000 non-null  float64\n",
      " 30  dec       10000 non-null  float64\n",
      " 31  mon       10000 non-null  float64\n",
      " 32  tue       10000 non-null  float64\n",
      " 33  wed       10000 non-null  float64\n",
      " 34  thu       10000 non-null  float64\n",
      " 35  fri       10000 non-null  float64\n",
      " 36  sat       10000 non-null  float64\n",
      " 37  sun       10000 non-null  float64\n",
      " 38  q1        10000 non-null  float64\n",
      " 39  q2        10000 non-null  float64\n",
      " 40  q3        10000 non-null  float64\n",
      " 41  q4        10000 non-null  float64\n",
      "dtypes: float64(39), int64(3)\n",
      "memory usage: 3.2 MB\n"
     ]
    }
   ],
   "source": [
    "# One-hot encoding the Dates\n",
    "\n",
    "# separate the Year, Month, Day_of_week, Weekday, Quater out from the Datetime object\n",
    "train_data['Year'] = train_data['Date'].dt.year\n",
    "train_data['Month'] = train_data['Date'].dt.month\n",
    "train_data['Day_of_week'] = train_data['Date'].dt.dayofweek\n",
    "train_data['Quarter'] = train_data['Date'].dt.quarter\n",
    "\n",
    "# do the same thing with test_data\n",
    "# < your code here >\n",
    "\n",
    "# after getting all the attributes, drop the original Date column\n",
    "train_data = train_data.drop(['Date'], axis = 1)\n",
    "\n",
    "# do the same thing with test_data\n",
    "# < your code here >\n",
    "\n",
    "# one-hot encode 'Year', 'Month', 'Day_of_week', 'Quarter'\n",
    "train_data, test_data = convert_to_onehot('Year', train_data, test_data)\n",
    "train_data, test_data = convert_to_onehot('Month', train_data, test_data, enc_column_names = ['jan', 'feb', 'mar', 'apr', 'may', 'jun', 'jul', 'aug', 'sep', 'oct', 'nov', 'dec'])\n",
    "train_data, test_data = convert_to_onehot('Day_of_week', train_data, test_data, enc_column_names = ['mon', 'tue', 'wed', 'thu', 'fri', 'sat', 'sun'])\n",
    "train_data, test_data = convert_to_onehot('Quarter', train_data, test_data, enc_column_names = ['q1', 'q2', 'q3', 'q4'])\n",
    "\n",
    "train_data.info()"
   ]
  },
  {
   "cell_type": "code",
   "execution_count": 32,
   "metadata": {},
   "outputs": [
    {
     "data": {
      "image/png": "[encoded data removed]",
      "text/plain": [
       "<Figure size 720x720 with 1 Axes>"
      ]
     },
     "metadata": {},
     "output_type": "display_data"
    }
   ],
   "source": [
    "# Checking the target's correlation with other variables will be helpful to determine with features are not crucial for the prediction.\n",
    "corr = train_data[train_data.columns].corr()['Sales'][:].sort_values(ascending=True).to_frame()\n",
    "corr = corr.drop(corr[corr.Sales > 0.90].index)\n",
    "\n",
    "ax = corr.plot.barh(y='Sales', rot=0, color = np.where(corr['Sales'] < 0, 'crimson', '#89CFF0'), figsize=(10,10))"
   ]
  },
  {
   "cell_type": "code",
   "execution_count": 33,
   "metadata": {},
   "outputs": [
    {
     "name": "stdout",
     "output_type": "stream",
     "text": [
      "(10000, 42)\n",
      "(2000, 40)\n"
     ]
    }
   ],
   "source": [
    "# print shape of train and test data\n",
    "# < your code here >"
   ]
  },
  {
   "cell_type": "code",
   "execution_count": 34,
   "metadata": {},
   "outputs": [
    {
     "data": {
      "text/html": [
       "<div>\n",
       "<style scoped>\n",
       "    .dataframe tbody tr th:only-of-type {\n",
       "        vertical-align: middle;\n",
       "    }\n",
       "\n",
       "    .dataframe tbody tr th {\n",
       "        vertical-align: top;\n",
       "    }\n",
       "\n",
       "    .dataframe thead th {\n",
       "        text-align: right;\n",
       "    }\n",
       "</style>\n",
       "<table border=\"1\" class=\"dataframe\">\n",
       "  <thead>\n",
       "    <tr style=\"text-align: right;\">\n",
       "      <th></th>\n",
       "      <th>Holiday</th>\n",
       "      <th>Discount</th>\n",
       "      <th>S1</th>\n",
       "      <th>S2</th>\n",
       "      <th>S3</th>\n",
       "      <th>S4</th>\n",
       "      <th>L1</th>\n",
       "      <th>L2</th>\n",
       "      <th>L3</th>\n",
       "      <th>L4</th>\n",
       "      <th>...</th>\n",
       "      <th>tue</th>\n",
       "      <th>wed</th>\n",
       "      <th>thu</th>\n",
       "      <th>fri</th>\n",
       "      <th>sat</th>\n",
       "      <th>sun</th>\n",
       "      <th>q1</th>\n",
       "      <th>q2</th>\n",
       "      <th>q3</th>\n",
       "      <th>q4</th>\n",
       "    </tr>\n",
       "  </thead>\n",
       "  <tbody>\n",
       "    <tr>\n",
       "      <th>0</th>\n",
       "      <td>0.0</td>\n",
       "      <td>0.0</td>\n",
       "      <td>0.0</td>\n",
       "      <td>1.0</td>\n",
       "      <td>0.0</td>\n",
       "      <td>0.0</td>\n",
       "      <td>0.0</td>\n",
       "      <td>0.0</td>\n",
       "      <td>1.0</td>\n",
       "      <td>0.0</td>\n",
       "      <td>...</td>\n",
       "      <td>0.0</td>\n",
       "      <td>0.0</td>\n",
       "      <td>0.0</td>\n",
       "      <td>1.0</td>\n",
       "      <td>0.0</td>\n",
       "      <td>0.0</td>\n",
       "      <td>0.0</td>\n",
       "      <td>0.0</td>\n",
       "      <td>1.0</td>\n",
       "      <td>0.0</td>\n",
       "    </tr>\n",
       "    <tr>\n",
       "      <th>1</th>\n",
       "      <td>0.0</td>\n",
       "      <td>0.0</td>\n",
       "      <td>1.0</td>\n",
       "      <td>0.0</td>\n",
       "      <td>0.0</td>\n",
       "      <td>0.0</td>\n",
       "      <td>1.0</td>\n",
       "      <td>0.0</td>\n",
       "      <td>0.0</td>\n",
       "      <td>0.0</td>\n",
       "      <td>...</td>\n",
       "      <td>1.0</td>\n",
       "      <td>0.0</td>\n",
       "      <td>0.0</td>\n",
       "      <td>0.0</td>\n",
       "      <td>0.0</td>\n",
       "      <td>0.0</td>\n",
       "      <td>0.0</td>\n",
       "      <td>1.0</td>\n",
       "      <td>0.0</td>\n",
       "      <td>0.0</td>\n",
       "    </tr>\n",
       "    <tr>\n",
       "      <th>2</th>\n",
       "      <td>0.0</td>\n",
       "      <td>0.0</td>\n",
       "      <td>0.0</td>\n",
       "      <td>1.0</td>\n",
       "      <td>0.0</td>\n",
       "      <td>0.0</td>\n",
       "      <td>0.0</td>\n",
       "      <td>0.0</td>\n",
       "      <td>0.0</td>\n",
       "      <td>0.0</td>\n",
       "      <td>...</td>\n",
       "      <td>0.0</td>\n",
       "      <td>0.0</td>\n",
       "      <td>0.0</td>\n",
       "      <td>1.0</td>\n",
       "      <td>0.0</td>\n",
       "      <td>0.0</td>\n",
       "      <td>0.0</td>\n",
       "      <td>0.0</td>\n",
       "      <td>1.0</td>\n",
       "      <td>0.0</td>\n",
       "    </tr>\n",
       "    <tr>\n",
       "      <th>3</th>\n",
       "      <td>0.0</td>\n",
       "      <td>1.0</td>\n",
       "      <td>0.0</td>\n",
       "      <td>1.0</td>\n",
       "      <td>0.0</td>\n",
       "      <td>0.0</td>\n",
       "      <td>1.0</td>\n",
       "      <td>0.0</td>\n",
       "      <td>0.0</td>\n",
       "      <td>0.0</td>\n",
       "      <td>...</td>\n",
       "      <td>0.0</td>\n",
       "      <td>1.0</td>\n",
       "      <td>0.0</td>\n",
       "      <td>0.0</td>\n",
       "      <td>0.0</td>\n",
       "      <td>0.0</td>\n",
       "      <td>0.0</td>\n",
       "      <td>0.0</td>\n",
       "      <td>1.0</td>\n",
       "      <td>0.0</td>\n",
       "    </tr>\n",
       "    <tr>\n",
       "      <th>4</th>\n",
       "      <td>0.0</td>\n",
       "      <td>0.0</td>\n",
       "      <td>0.0</td>\n",
       "      <td>1.0</td>\n",
       "      <td>0.0</td>\n",
       "      <td>0.0</td>\n",
       "      <td>0.0</td>\n",
       "      <td>0.0</td>\n",
       "      <td>0.0</td>\n",
       "      <td>0.0</td>\n",
       "      <td>...</td>\n",
       "      <td>0.0</td>\n",
       "      <td>1.0</td>\n",
       "      <td>0.0</td>\n",
       "      <td>0.0</td>\n",
       "      <td>0.0</td>\n",
       "      <td>0.0</td>\n",
       "      <td>0.0</td>\n",
       "      <td>0.0</td>\n",
       "      <td>1.0</td>\n",
       "      <td>0.0</td>\n",
       "    </tr>\n",
       "    <tr>\n",
       "      <th>...</th>\n",
       "      <td>...</td>\n",
       "      <td>...</td>\n",
       "      <td>...</td>\n",
       "      <td>...</td>\n",
       "      <td>...</td>\n",
       "      <td>...</td>\n",
       "      <td>...</td>\n",
       "      <td>...</td>\n",
       "      <td>...</td>\n",
       "      <td>...</td>\n",
       "      <td>...</td>\n",
       "      <td>...</td>\n",
       "      <td>...</td>\n",
       "      <td>...</td>\n",
       "      <td>...</td>\n",
       "      <td>...</td>\n",
       "      <td>...</td>\n",
       "      <td>...</td>\n",
       "      <td>...</td>\n",
       "      <td>...</td>\n",
       "      <td>...</td>\n",
       "    </tr>\n",
       "    <tr>\n",
       "      <th>1995</th>\n",
       "      <td>0.0</td>\n",
       "      <td>0.0</td>\n",
       "      <td>0.0</td>\n",
       "      <td>0.0</td>\n",
       "      <td>1.0</td>\n",
       "      <td>0.0</td>\n",
       "      <td>0.0</td>\n",
       "      <td>1.0</td>\n",
       "      <td>0.0</td>\n",
       "      <td>0.0</td>\n",
       "      <td>...</td>\n",
       "      <td>0.0</td>\n",
       "      <td>0.0</td>\n",
       "      <td>1.0</td>\n",
       "      <td>0.0</td>\n",
       "      <td>0.0</td>\n",
       "      <td>0.0</td>\n",
       "      <td>0.0</td>\n",
       "      <td>0.0</td>\n",
       "      <td>1.0</td>\n",
       "      <td>0.0</td>\n",
       "    </tr>\n",
       "    <tr>\n",
       "      <th>1996</th>\n",
       "      <td>0.0</td>\n",
       "      <td>1.0</td>\n",
       "      <td>0.0</td>\n",
       "      <td>0.0</td>\n",
       "      <td>0.0</td>\n",
       "      <td>1.0</td>\n",
       "      <td>1.0</td>\n",
       "      <td>0.0</td>\n",
       "      <td>0.0</td>\n",
       "      <td>0.0</td>\n",
       "      <td>...</td>\n",
       "      <td>0.0</td>\n",
       "      <td>0.0</td>\n",
       "      <td>0.0</td>\n",
       "      <td>0.0</td>\n",
       "      <td>0.0</td>\n",
       "      <td>1.0</td>\n",
       "      <td>0.0</td>\n",
       "      <td>1.0</td>\n",
       "      <td>0.0</td>\n",
       "      <td>0.0</td>\n",
       "    </tr>\n",
       "    <tr>\n",
       "      <th>1997</th>\n",
       "      <td>0.0</td>\n",
       "      <td>1.0</td>\n",
       "      <td>1.0</td>\n",
       "      <td>0.0</td>\n",
       "      <td>0.0</td>\n",
       "      <td>0.0</td>\n",
       "      <td>0.0</td>\n",
       "      <td>0.0</td>\n",
       "      <td>1.0</td>\n",
       "      <td>0.0</td>\n",
       "      <td>...</td>\n",
       "      <td>0.0</td>\n",
       "      <td>0.0</td>\n",
       "      <td>0.0</td>\n",
       "      <td>0.0</td>\n",
       "      <td>1.0</td>\n",
       "      <td>0.0</td>\n",
       "      <td>0.0</td>\n",
       "      <td>1.0</td>\n",
       "      <td>0.0</td>\n",
       "      <td>0.0</td>\n",
       "    </tr>\n",
       "    <tr>\n",
       "      <th>1998</th>\n",
       "      <td>0.0</td>\n",
       "      <td>1.0</td>\n",
       "      <td>0.0</td>\n",
       "      <td>0.0</td>\n",
       "      <td>0.0</td>\n",
       "      <td>1.0</td>\n",
       "      <td>0.0</td>\n",
       "      <td>1.0</td>\n",
       "      <td>0.0</td>\n",
       "      <td>0.0</td>\n",
       "      <td>...</td>\n",
       "      <td>0.0</td>\n",
       "      <td>0.0</td>\n",
       "      <td>0.0</td>\n",
       "      <td>1.0</td>\n",
       "      <td>0.0</td>\n",
       "      <td>0.0</td>\n",
       "      <td>0.0</td>\n",
       "      <td>0.0</td>\n",
       "      <td>1.0</td>\n",
       "      <td>0.0</td>\n",
       "    </tr>\n",
       "    <tr>\n",
       "      <th>1999</th>\n",
       "      <td>0.0</td>\n",
       "      <td>1.0</td>\n",
       "      <td>0.0</td>\n",
       "      <td>0.0</td>\n",
       "      <td>0.0</td>\n",
       "      <td>1.0</td>\n",
       "      <td>0.0</td>\n",
       "      <td>1.0</td>\n",
       "      <td>0.0</td>\n",
       "      <td>0.0</td>\n",
       "      <td>...</td>\n",
       "      <td>0.0</td>\n",
       "      <td>0.0</td>\n",
       "      <td>0.0</td>\n",
       "      <td>0.0</td>\n",
       "      <td>0.0</td>\n",
       "      <td>0.0</td>\n",
       "      <td>0.0</td>\n",
       "      <td>1.0</td>\n",
       "      <td>0.0</td>\n",
       "      <td>0.0</td>\n",
       "    </tr>\n",
       "  </tbody>\n",
       "</table>\n",
       "<p>2000 rows × 40 columns</p>\n",
       "</div>"
      ],
      "text/plain": [
       "      Holiday  Discount   S1   S2   S3   S4   L1   L2   L3   L4  ...  tue  \\\n",
       "0         0.0       0.0  0.0  1.0  0.0  0.0  0.0  0.0  1.0  0.0  ...  0.0   \n",
       "1         0.0       0.0  1.0  0.0  0.0  0.0  1.0  0.0  0.0  0.0  ...  1.0   \n",
       "2         0.0       0.0  0.0  1.0  0.0  0.0  0.0  0.0  0.0  0.0  ...  0.0   \n",
       "3         0.0       1.0  0.0  1.0  0.0  0.0  1.0  0.0  0.0  0.0  ...  0.0   \n",
       "4         0.0       0.0  0.0  1.0  0.0  0.0  0.0  0.0  0.0  0.0  ...  0.0   \n",
       "...       ...       ...  ...  ...  ...  ...  ...  ...  ...  ...  ...  ...   \n",
       "1995      0.0       0.0  0.0  0.0  1.0  0.0  0.0  1.0  0.0  0.0  ...  0.0   \n",
       "1996      0.0       1.0  0.0  0.0  0.0  1.0  1.0  0.0  0.0  0.0  ...  0.0   \n",
       "1997      0.0       1.0  1.0  0.0  0.0  0.0  0.0  0.0  1.0  0.0  ...  0.0   \n",
       "1998      0.0       1.0  0.0  0.0  0.0  1.0  0.0  1.0  0.0  0.0  ...  0.0   \n",
       "1999      0.0       1.0  0.0  0.0  0.0  1.0  0.0  1.0  0.0  0.0  ...  0.0   \n",
       "\n",
       "      wed  thu  fri  sat  sun   q1   q2   q3   q4  \n",
       "0     0.0  0.0  1.0  0.0  0.0  0.0  0.0  1.0  0.0  \n",
       "1     0.0  0.0  0.0  0.0  0.0  0.0  1.0  0.0  0.0  \n",
       "2     0.0  0.0  1.0  0.0  0.0  0.0  0.0  1.0  0.0  \n",
       "3     1.0  0.0  0.0  0.0  0.0  0.0  0.0  1.0  0.0  \n",
       "4     1.0  0.0  0.0  0.0  0.0  0.0  0.0  1.0  0.0  \n",
       "...   ...  ...  ...  ...  ...  ...  ...  ...  ...  \n",
       "1995  0.0  1.0  0.0  0.0  0.0  0.0  0.0  1.0  0.0  \n",
       "1996  0.0  0.0  0.0  0.0  1.0  0.0  1.0  0.0  0.0  \n",
       "1997  0.0  0.0  0.0  1.0  0.0  0.0  1.0  0.0  0.0  \n",
       "1998  0.0  0.0  1.0  0.0  0.0  0.0  0.0  1.0  0.0  \n",
       "1999  0.0  0.0  0.0  0.0  0.0  0.0  1.0  0.0  0.0  \n",
       "\n",
       "[2000 rows x 40 columns]"
      ]
     },
     "execution_count": 34,
     "metadata": {},
     "output_type": "execute_result"
    }
   ],
   "source": [
    "def clean_dataset(df):\n",
    "    assert isinstance(df, pd.DataFrame), \"df needs to be a pd.DataFrame\"\n",
    "    df.dropna(inplace=True)\n",
    "    indices_to_keep = ~df.isin([np.nan, np.inf, -np.inf]).any(1)\n",
    "    return df[indices_to_keep].astype(np.float64)\n",
    "\n",
    "clean_dataset(train_data)\n",
    "clean_dataset(test_data)"
   ]
  },
  {
   "cell_type": "code",
   "execution_count": 35,
   "metadata": {},
   "outputs": [
    {
     "name": "stdout",
     "output_type": "stream",
     "text": [
      "(10000, 40)\n",
      "(10000,)\n",
      "(2000, 40)\n"
     ]
    }
   ],
   "source": [
    "X_train = train_data.drop(columns=['Sales', '#Order'], axis=1).to_numpy()\n",
    "y_train = train_data.loc[:, ['Sales']].to_numpy().squeeze(1)\n",
    "\n",
    "X_test = test_data.to_numpy()\n",
    "\n",
    "print(X_train.shape)\n",
    "print(y_train.shape)\n",
    "\n",
    "print(X_test.shape)"
   ]
  },
  {
   "cell_type": "markdown",
   "metadata": {},
   "source": [
    "### Split the Data"
   ]
  },
  {
   "cell_type": "code",
   "execution_count": 36,
   "metadata": {},
   "outputs": [],
   "source": [
    "from sklearn.model_selection import train_test_split\n",
    "\n",
    "# < your code here >"
   ]
  },
  {
   "cell_type": "code",
   "execution_count": 37,
   "metadata": {},
   "outputs": [],
   "source": [
    "from sklearn.preprocessing import StandardScaler\n",
    "sc = StandardScaler()\n",
    "\n",
    "X_train = sc.fit_transform(X_train)\n",
    "X_val = sc.transform(X_val)"
   ]
  },
  {
   "cell_type": "markdown",
   "metadata": {},
   "source": [
    "### Is it a Regression or Classification problem ?\n",
    "\n",
    "Given the independent variables, we would like to predict the continuous value of Sales amount so this is a Regression problem.\n",
    "\n",
    "### Is it a Supervised or Unsupervised problem ?\n",
    "\n",
    "We got the train data that include the real Sales value so our model can learn from that. Hence, this is a supervised problem.\n",
    "\n",
    "\n",
    "Thus, we will be using Supervised Regression Models."
   ]
  },
  {
   "cell_type": "code",
   "execution_count": 39,
   "metadata": {},
   "outputs": [],
   "source": [
    "from sklearn.linear_model import LinearRegression\n",
    "from sklearn.svm import SVR\n",
    "from sklearn.neighbors import KNeighborsRegressor\n",
    "from sklearn.tree import DecisionTreeRegressor\n",
    "from sklearn.ensemble import RandomForestRegressor\n",
    "from xgboost import XGBRegressor\n",
    "\n",
    "# Libraries for model evaluation\n",
    "from sklearn.metrics import mean_squared_error, mean_absolute_error\n",
    "\n",
    "def predictive_models(X_train, y_train, X_test, y_test):\n",
    "    # models that we will be using, put them in a list\n",
    "    algorithms = [SVR(), KNeighborsRegressor(), DecisionTreeRegressor(random_state = 0), \n",
    "                  RandomForestRegressor(n_estimators = 100, random_state = 0), \n",
    "                 XGBRegressor()]\n",
    "    # The names of the models\n",
    "    algorithm_names = [\"SVR\", \"KNeighbors Regressor\", \"Decision-Tree Regressor\", \"Random-Forest Regressor\", \"XGBRegressor\"]\n",
    "    \n",
    "    # Create 3 lists which we will be appending values caluclated during training to\n",
    "    Mean_Squared_Error_Training = []\n",
    "    Mean_Absolute_Error_Training = []\n",
    "    Accuracy_Training = []\n",
    "    \n",
    "    # Create 3 lists which we will be appending values caluclated during testing to\n",
    "    Mean_Squared_Error_Testing = []\n",
    "    Mean_Absolute_Error_Testing = []\n",
    "    Accuracy_Testing = []\n",
    "    \n",
    "    # Regression models\n",
    "    for i in algorithms:\n",
    "        model = i\n",
    "        \n",
    "        # fit your model\n",
    "        # Your code here\n",
    "        model.fit(X_train,y_train)  #fit means learn the pattern\n",
    "        \n",
    "        # Predict your model, one for X_test and one for X_train\n",
    "        # Your code here\n",
    "        y_test_predict = model.predict(X_test)   #predict, which means asking the model to predict UNSEEN data\n",
    "        y_train_predict = model.predict(X_train)\n",
    "        \n",
    "        # Calculate mean square error and mean absolute error of traing data\n",
    "        mse_1 = round(mean_squared_error(y_train, y_train_predict),4)\n",
    "        mae_1 = round(mean_absolute_error(y_train, y_train_predict),4)\n",
    "        \n",
    "        # Calculate mean square error and mean absolute error of testing data\n",
    "        # Your code here\n",
    "        mse_2 = round(mean_squared_error(y_test, y_test_predict),4)\n",
    "        mae_2 = round(mean_absolute_error(y_test, y_test_predict),4)\n",
    "        \n",
    "        # Appending the Errors into the list for training data\n",
    "        Mean_Squared_Error_Training.append(mse_1)\n",
    "        Mean_Absolute_Error_Training.append(mae_1)\n",
    "                \n",
    "        # Appending the Errors into the list for testing data\n",
    "        Mean_Squared_Error_Testing.append(mse_2)\n",
    "        Mean_Absolute_Error_Testing.append(mae_2)\n",
    "        \n",
    "    # Creating DataFrame for Logs of Models and their errors    \n",
    "    results = pd.DataFrame({\"Models\":algorithm_names,\n",
    "                            \"Mean Squared Error Training\":Mean_Squared_Error_Training,\n",
    "                            \"Mean Absolute Error Training\":Mean_Absolute_Error_Training,      \n",
    "                            \"Mean Squared Error Testing\":Mean_Squared_Error_Testing,\n",
    "                            \"Mean Absolute Error Testing\":Mean_Absolute_Error_Testing})\n",
    "\n",
    "    return results"
   ]
  },
  {
   "cell_type": "code",
   "execution_count": 41,
   "metadata": {},
   "outputs": [
    {
     "data": {
      "text/html": [
       "<div>\n",
       "<style scoped>\n",
       "    .dataframe tbody tr th:only-of-type {\n",
       "        vertical-align: middle;\n",
       "    }\n",
       "\n",
       "    .dataframe tbody tr th {\n",
       "        vertical-align: top;\n",
       "    }\n",
       "\n",
       "    .dataframe thead th {\n",
       "        text-align: right;\n",
       "    }\n",
       "</style>\n",
       "<table border=\"1\" class=\"dataframe\">\n",
       "  <thead>\n",
       "    <tr style=\"text-align: right;\">\n",
       "      <th></th>\n",
       "      <th>Models</th>\n",
       "      <th>Mean Squared Error Training</th>\n",
       "      <th>Mean Absolute Error Training</th>\n",
       "      <th>Mean Squared Error Testing</th>\n",
       "      <th>Mean Absolute Error Testing</th>\n",
       "    </tr>\n",
       "  </thead>\n",
       "  <tbody>\n",
       "    <tr>\n",
       "      <th>0</th>\n",
       "      <td>SVR</td>\n",
       "      <td>3.488314e+08</td>\n",
       "      <td>13567.4706</td>\n",
       "      <td>3.536017e+08</td>\n",
       "      <td>13679.8616</td>\n",
       "    </tr>\n",
       "    <tr>\n",
       "      <th>1</th>\n",
       "      <td>KNeighbors Regressor</td>\n",
       "      <td>1.108208e+08</td>\n",
       "      <td>7585.5625</td>\n",
       "      <td>1.785819e+08</td>\n",
       "      <td>9521.4379</td>\n",
       "    </tr>\n",
       "    <tr>\n",
       "      <th>2</th>\n",
       "      <td>Decision-Tree Regressor</td>\n",
       "      <td>4.043327e+07</td>\n",
       "      <td>3368.3863</td>\n",
       "      <td>2.085373e+08</td>\n",
       "      <td>10138.9481</td>\n",
       "    </tr>\n",
       "    <tr>\n",
       "      <th>3</th>\n",
       "      <td>Random-Forest Regressor</td>\n",
       "      <td>4.913262e+07</td>\n",
       "      <td>4675.7204</td>\n",
       "      <td>1.610829e+08</td>\n",
       "      <td>8743.4084</td>\n",
       "    </tr>\n",
       "    <tr>\n",
       "      <th>4</th>\n",
       "      <td>XGBRegressor</td>\n",
       "      <td>6.739865e+07</td>\n",
       "      <td>5749.4200</td>\n",
       "      <td>1.438898e+08</td>\n",
       "      <td>8218.3478</td>\n",
       "    </tr>\n",
       "  </tbody>\n",
       "</table>\n",
       "</div>"
      ],
      "text/plain": [
       "                    Models  Mean Squared Error Training  \\\n",
       "0                      SVR                 3.488314e+08   \n",
       "1     KNeighbors Regressor                 1.108208e+08   \n",
       "2  Decision-Tree Regressor                 4.043327e+07   \n",
       "3  Random-Forest Regressor                 4.913262e+07   \n",
       "4             XGBRegressor                 6.739865e+07   \n",
       "\n",
       "   Mean Absolute Error Training  Mean Squared Error Testing  \\\n",
       "0                    13567.4706                3.536017e+08   \n",
       "1                     7585.5625                1.785819e+08   \n",
       "2                     3368.3863                2.085373e+08   \n",
       "3                     4675.7204                1.610829e+08   \n",
       "4                     5749.4200                1.438898e+08   \n",
       "\n",
       "   Mean Absolute Error Testing  \n",
       "0                   13679.8616  \n",
       "1                    9521.4379  \n",
       "2                   10138.9481  \n",
       "3                    8743.4084  \n",
       "4                    8218.3478  "
      ]
     },
     "execution_count": 41,
     "metadata": {},
     "output_type": "execute_result"
    }
   ],
   "source": [
    "results = predictive_models(X_train, y_train, X_val, y_val)\n",
    "results"
   ]
  },
  {
   "cell_type": "markdown",
   "metadata": {},
   "source": [
    "After we have selected the best model for our data, let's train the model again and test the performance on our validation set"
   ]
  },
  {
   "cell_type": "code",
   "execution_count": 45,
   "metadata": {},
   "outputs": [
    {
     "name": "stdout",
     "output_type": "stream",
     "text": [
      "mse =  143889761.18951625\n",
      "mae =  8218.347818889648\n",
      "r2 =  0.5833498213043409\n"
     ]
    }
   ],
   "source": [
    "from sklearn.metrics import mean_squared_error, mean_absolute_error, r2_score\n",
    "\n",
    "# < your code here >"
   ]
  },
  {
   "cell_type": "code",
   "execution_count": 46,
   "metadata": {},
   "outputs": [
    {
     "data": {
      "image/png": "[encoded data removed]",
      "text/plain": [
       "<Figure size 1152x648 with 1 Axes>"
      ]
     },
     "metadata": {},
     "output_type": "display_data"
    }
   ],
   "source": [
    "test = pd.DataFrame(\n",
    "    {'Predicted Sales':y_val_pred, 'Actual Sales':y_val}\n",
    ")\n",
    "\n",
    "fig= plt.figure(\n",
    "    figsize=(16, 9)\n",
    ")\n",
    "\n",
    "test = test.reset_index()\n",
    "test = test.drop(\n",
    "    ['index'],axis=1\n",
    ")\n",
    "\n",
    "plt.plot(test[:50])\n",
    "plt.legend(['Actual Sales','Predicted Sales'])\n",
    "plt.title('Actual & Predicted Sales')\n",
    "plt.show()"
   ]
  },
  {
   "cell_type": "markdown",
   "metadata": {},
   "source": [
    "#### Let's also try to predict the sales of test_data set"
   ]
  },
  {
   "cell_type": "code",
   "execution_count": 48,
   "metadata": {},
   "outputs": [
    {
     "name": "stdout",
     "output_type": "stream",
     "text": [
      "   Holiday  Discount   S1   S2   S3   S4   L1   L2   L3   L4  ...  tue  wed  \\\n",
      "0        0         0  0.0  1.0  0.0  0.0  0.0  0.0  1.0  0.0  ...  0.0  0.0   \n",
      "1        0         0  1.0  0.0  0.0  0.0  1.0  0.0  0.0  0.0  ...  1.0  0.0   \n",
      "2        0         0  0.0  1.0  0.0  0.0  0.0  0.0  0.0  0.0  ...  0.0  0.0   \n",
      "3        0         1  0.0  1.0  0.0  0.0  1.0  0.0  0.0  0.0  ...  0.0  1.0   \n",
      "4        0         0  0.0  1.0  0.0  0.0  0.0  0.0  0.0  0.0  ...  0.0  1.0   \n",
      "5        0         1  0.0  1.0  0.0  0.0  0.0  0.0  0.0  0.0  ...  0.0  0.0   \n",
      "6        0         1  1.0  0.0  0.0  0.0  0.0  0.0  0.0  1.0  ...  0.0  0.0   \n",
      "7        0         1  1.0  0.0  0.0  0.0  0.0  1.0  0.0  0.0  ...  0.0  0.0   \n",
      "8        0         1  0.0  1.0  0.0  0.0  0.0  0.0  0.0  0.0  ...  0.0  0.0   \n",
      "9        0         0  0.0  1.0  0.0  0.0  0.0  0.0  0.0  0.0  ...  0.0  0.0   \n",
      "\n",
      "   thu  fri  sat  sun   q1   q2   q3   q4  \n",
      "0  0.0  1.0  0.0  0.0  0.0  0.0  1.0  0.0  \n",
      "1  0.0  0.0  0.0  0.0  0.0  1.0  0.0  0.0  \n",
      "2  0.0  1.0  0.0  0.0  0.0  0.0  1.0  0.0  \n",
      "3  0.0  0.0  0.0  0.0  0.0  0.0  1.0  0.0  \n",
      "4  0.0  0.0  0.0  0.0  0.0  0.0  1.0  0.0  \n",
      "5  0.0  0.0  1.0  0.0  0.0  1.0  0.0  0.0  \n",
      "6  0.0  1.0  0.0  0.0  0.0  1.0  0.0  0.0  \n",
      "7  0.0  1.0  0.0  0.0  0.0  1.0  0.0  0.0  \n",
      "8  0.0  0.0  0.0  0.0  0.0  0.0  1.0  0.0  \n",
      "9  1.0  0.0  0.0  0.0  0.0  1.0  0.0  0.0  \n",
      "\n",
      "[10 rows x 40 columns]\n",
      "[24842.016 33129.82  21118.967 34318.844 18800.346 31272.092 35845.17\n",
      " 51421.96  30374.424 23588.219]\n"
     ]
    }
   ],
   "source": [
    "# < your code here >"
   ]
  },
  {
   "cell_type": "markdown",
   "metadata": {},
   "source": [
    "### Reference : \n",
    "\n",
    "https://www.kaggle.com/miguelfzzz/store-sales-prediction-analysis/data?select=TEST_FINAL.csv\n",
    "\n",
    "https://www.kaggle.com/knightbearr/suplement-sales-prediction-easy-way-knightbearr\n",
    "\n",
    "https://www.kaggle.com/miguelfzzz/store-sales-prediction-analysis/notebook"
   ]
  },
  {
   "cell_type": "code",
   "execution_count": null,
   "metadata": {},
   "outputs": [],
   "source": []
  }
 ],
 "metadata": {
  "kernelspec": {
   "display_name": "Python 3",
   "language": "python",
   "name": "python3"
  },
  "language_info": {
   "codemirror_mode": {
    "name": "ipython",
    "version": 3
   },
   "file_extension": ".py",
   "mimetype": "text/x-python",
   "name": "python",
   "nbconvert_exporter": "python",
   "pygments_lexer": "ipython3",
   "version": "3.8.3"
  }
 },
 "nbformat": 4,
 "nbformat_minor": 4
}
