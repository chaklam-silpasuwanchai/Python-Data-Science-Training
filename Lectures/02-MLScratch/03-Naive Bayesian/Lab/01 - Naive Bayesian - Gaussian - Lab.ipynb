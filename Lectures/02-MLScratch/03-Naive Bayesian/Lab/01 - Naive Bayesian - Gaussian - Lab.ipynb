{
 "cells": [
  {
   "cell_type": "markdown",
   "source": [
    "# 01 - Naive Bayesian - Gaussian - Lab"
   ],
   "metadata": {}
  },
  {
   "cell_type": "markdown",
   "source": [
    "===Task===\n",
    "\n",
    "- Generate a 2 class data using sklearn.\n",
    "- Put Gaussian Naive Bayesian Classification into class\n",
    "- Fit the model on the data then calculate accuracy accordingly."
   ],
   "metadata": {}
  },
  {
   "cell_type": "code",
   "execution_count": null,
   "source": [
    "# <your code here>"
   ],
   "outputs": [],
   "metadata": {}
  }
 ],
 "metadata": {
  "kernelspec": {
   "display_name": "Python 3",
   "language": "python",
   "name": "python3"
  },
  "language_info": {
   "codemirror_mode": {
    "name": "ipython",
    "version": 3
   },
   "file_extension": ".py",
   "mimetype": "text/x-python",
   "name": "python",
   "nbconvert_exporter": "python",
   "pygments_lexer": "ipython3",
   "version": "3.8.3"
  }
 },
 "nbformat": 4,
 "nbformat_minor": 4
}