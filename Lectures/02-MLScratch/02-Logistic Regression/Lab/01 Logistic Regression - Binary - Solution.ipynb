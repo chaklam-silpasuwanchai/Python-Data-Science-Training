{
 "cells": [
  {
   "cell_type": "markdown",
   "id": "bored-penny",
   "metadata": {},
   "source": [
    "### === Task ==="
   ]
  },
  {
   "cell_type": "code",
   "execution_count": 1,
   "id": "located-white",
   "metadata": {},
   "outputs": [
    {
     "data": {
      "text/plain": [
       "<matplotlib.collections.PathCollection at 0x7f2abd3805c0>"
      ]
     },
     "execution_count": 1,
     "metadata": {},
     "output_type": "execute_result"
    }
   ],
   "source": [
    "from sklearn import linear_model\n",
    "from sklearn.datasets import make_classification, make_blobs\n",
    "from sklearn.model_selection import train_test_split\n",
    "from sklearn.preprocessing import StandardScaler\n",
    "import matplotlib.pyplot as plt\n",
    "import numpy as np\n",
    "\n",
    "X, y = make_blobs(n_samples=500, centers=2, n_features=2,\n",
    "                  random_state=0)\n",
    "\n",
    "plt.scatter(X[:, 0], X[:, 1], marker='o', c=y,\n",
    "            s=25, edgecolor='k')"
   ]
  },
  {
   "cell_type": "markdown",
   "id": "verbal-maple",
   "metadata": {},
   "source": [
    "1. Put everything into a class called LogisticRegression. The training method should be \"minibatch\".\n",
    "\n",
    "2. Perform a classification on the data given above.\n",
    "\n",
    "2. Plot training losses as number of iters increases.\n",
    "\n",
    "3. Write a class called classification_report containing 4 functions (Accuracy, Recall, Precision, F1) and use it to evaluate your model.\n"
   ]
  },
  {
   "cell_type": "code",
   "execution_count": 2,
   "id": "otherwise-consequence",
   "metadata": {},
   "outputs": [],
   "source": [
    "# feature scaling helps reaching convergence faster\n",
    "scaler = StandardScaler()\n",
    "X = scaler.fit_transform(X)\n",
    "\n",
    "X_train, X_test, y_train, y_test = train_test_split(X, y, test_size=0.3)\n",
    "\n",
    "intercept = np.ones((X_train.shape[0], 1))\n",
    "X_train   = np.concatenate((intercept, X_train), axis=1)  # add intercept\n",
    "intercept = np.ones((X_test.shape[0], 1))\n",
    "X_test    = np.concatenate((intercept, X_test), axis=1)  # add intercept"
   ]
  },
  {
   "cell_type": "code",
   "execution_count": 3,
   "id": "comparative-employee",
   "metadata": {},
   "outputs": [],
   "source": [
    "class LogisticRegression:\n",
    "    \n",
    "    def __init__(self, alpha=0.0001, max_iter=20000, loss_old=10000):\n",
    "        self.alpha = alpha\n",
    "        self.max_iter = max_iter\n",
    "        self.loss_old = loss_old\n",
    "        \n",
    "    def fit(self, X, y):\n",
    "        self.w = np.zeros(X.shape[1])\n",
    "        l_rate = 0.01\n",
    "        self.losses = []\n",
    "        self.iters = []\n",
    "        \n",
    "        #10% of data\n",
    "        # minibatch\n",
    "        batch_size = int(0.1 * X.shape[0])\n",
    "        for i in range(self.max_iter):\n",
    "            ix = np.random.randint(0, X.shape[0]) #<----with replacement\n",
    "            batch_X = X[ix:ix+batch_size]\n",
    "            batch_y = y[ix:ix+batch_size]\n",
    "            loss, grad = self.gradient(batch_X, batch_y)\n",
    "            if i % 500 == 0:\n",
    "                print(f\"Loss at iteration {i}\", loss)\n",
    "                self.losses.append(loss)\n",
    "                self.iters.append(i)\n",
    "            self.w = self.w - self.alpha * grad            \n",
    "\n",
    "    def gradient(self, X, y):\n",
    "        m = X.shape[0]\n",
    "        h = self.h_theta(X)\n",
    "        error = h - y\n",
    "        # putting negative sign for negative log likelihood\n",
    "        loss = - np.sum(y * np.log(h) + (1 - y) * np.log(1 - h))\n",
    "        grad = np.dot(X.T, error)\n",
    "        return loss, grad\n",
    "\n",
    "    def sigmoid(self, x):\n",
    "        return 1 / (1 + np.exp(-x))\n",
    "\n",
    "    def h_theta(self, X):\n",
    "        return self.sigmoid(X @ self.w)\n",
    "\n",
    "    def predict(self, X_test):\n",
    "        yhat = np.round(self.sigmoid(X_test @ self.w))\n",
    "        return yhat\n",
    "    \n",
    "    def plot(self):\n",
    "        plt.plot(self.iters , self.losses, label = \"Train Losses\")\n",
    "        plt.title(\"Losses\")\n",
    "        plt.xlabel(\"epoch\")\n",
    "        plt.ylabel(\"losses\")\n",
    "        plt.legend()\n",
    "        "
   ]
  },
  {
   "cell_type": "code",
   "execution_count": 4,
   "id": "severe-laser",
   "metadata": {},
   "outputs": [
    {
     "name": "stdout",
     "output_type": "stream",
     "text": [
      "Loss at iteration 0 24.26015131959808\n",
      "Loss at iteration 500 15.770734336385047\n",
      "Loss at iteration 1000 11.01516700693183\n",
      "Loss at iteration 1500 10.016493806121556\n",
      "Loss at iteration 2000 8.147759710791851\n",
      "Loss at iteration 2500 8.771784523524994\n",
      "Loss at iteration 3000 8.281532125800801\n",
      "Loss at iteration 3500 7.279208062433803\n",
      "Loss at iteration 4000 7.630943432572861\n",
      "Loss at iteration 4500 6.542089695297688\n",
      "Loss at iteration 5000 4.830070930683319\n",
      "Loss at iteration 5500 4.884876512729243\n",
      "Loss at iteration 6000 6.032797969769993\n",
      "Loss at iteration 6500 4.574354214528965\n",
      "Loss at iteration 7000 4.833576329682971\n",
      "Loss at iteration 7500 5.88370964492721\n",
      "Loss at iteration 8000 5.478287780843163\n",
      "Loss at iteration 8500 6.281665492281201\n",
      "Loss at iteration 9000 5.27896998522375\n",
      "Loss at iteration 9500 2.391479091956878\n",
      "Loss at iteration 10000 5.591610404905481\n",
      "Loss at iteration 10500 6.139824166990125\n",
      "Loss at iteration 11000 4.235801526579834\n",
      "Loss at iteration 11500 0.7605128270277965\n",
      "Loss at iteration 12000 4.803036853712222\n",
      "Loss at iteration 12500 8.196844843655718\n",
      "Loss at iteration 13000 3.8026696398623514\n",
      "Loss at iteration 13500 7.703852216871903\n",
      "Loss at iteration 14000 5.000480139215775\n",
      "Loss at iteration 14500 2.4550058880606356\n",
      "Loss at iteration 15000 3.347450428164687\n",
      "Loss at iteration 15500 4.564191124395253\n",
      "Loss at iteration 16000 4.6664328388333765\n",
      "Loss at iteration 16500 4.67647693202224\n",
      "Loss at iteration 17000 7.398224776573188\n",
      "Loss at iteration 17500 3.340498429025162\n",
      "Loss at iteration 18000 0.6456083031952948\n",
      "Loss at iteration 18500 3.7113160604913427\n",
      "Loss at iteration 19000 3.031942763199102\n",
      "Loss at iteration 19500 3.5577299066587873\n"
     ]
    },
    {
     "data": {
      "image/png": "[encoded data removed]",
      "text/plain": [
       "<matplotlib.figure.Figure at 0x7f2abd35e780>"
      ]
     },
     "metadata": {
      "needs_background": "light"
     },
     "output_type": "display_data"
    }
   ],
   "source": [
    "model = LogisticRegression()\n",
    "model.fit(X_train, y_train)\n",
    "yhat = model.predict(X_test)\n",
    "model.plot()"
   ]
  },
  {
   "cell_type": "code",
   "execution_count": 5,
   "id": "shaped-bumper",
   "metadata": {},
   "outputs": [],
   "source": [
    "class classification_reports():\n",
    "    \n",
    "    def __init__(self, actual, predicted):\n",
    "        self.actual = actual\n",
    "        self.predicted = predicted\n",
    "        \n",
    "        self.TP = sum((self.actual == 1) & (self.predicted == 1))\n",
    "        self.TN = sum((self.actual == 0) & (self.predicted == 0))\n",
    "        self.FN = sum((self.actual == 1) & (self.predicted == 0))\n",
    "        self.FP = sum((self.actual == 0) & (self.predicted == 1))\n",
    "        \n",
    "    def accuracy(self):\n",
    "        self.acc = 100 * (self.TP + self.TN)/ float( self.TP + self.TN + self.FN + self.FP)\n",
    "        return self.acc\n",
    "    \n",
    "    def recall(self):\n",
    "        self.recall = (100* self.TP)/ float(self.TP + self.FN)\n",
    "        return self.recall\n",
    "        \n",
    "    def precision(self):\n",
    "        self.precision = 100* (self.TP)/ float(self.TP + self.FP)\n",
    "        return self.precision\n",
    "        \n",
    "    def f1(self):\n",
    "        self.f1 = 2 * self.precision * self.recall / (self.precision + self.recall)\n",
    "        return self.f1\n"
   ]
  },
  {
   "cell_type": "code",
   "execution_count": 6,
   "id": "announced-classification",
   "metadata": {},
   "outputs": [
    {
     "name": "stdout",
     "output_type": "stream",
     "text": [
      "Accuracy: 98.66666666666667\n",
      "Recall: 98.59154929577464\n",
      "Precision: 98.59154929577464\n",
      "F1: 98.59154929577463\n",
      "Report:               precision    recall  f1-score   support\n",
      "\n",
      "          0       0.99      0.99      0.99        79\n",
      "          1       0.99      0.99      0.99        71\n",
      "\n",
      "avg / total       0.99      0.99      0.99       150\n",
      "\n"
     ]
    }
   ],
   "source": [
    "# From scratch\n",
    "report = classification_reports(y_test, yhat)\n",
    "print(f\"Accuracy: {report.accuracy()}\")\n",
    "print(f\"Recall: {report.recall()}\")\n",
    "print(f\"Precision: {report.precision()}\")\n",
    "print(f\"F1: {report.f1()}\")\n",
    "\n",
    "# sklearn way\n",
    "from sklearn.metrics import classification_report\n",
    "print(\"Report: \", classification_report(y_test, yhat))"
   ]
  },
  {
   "cell_type": "code",
   "execution_count": null,
   "id": "secure-monthly",
   "metadata": {},
   "outputs": [],
   "source": []
  }
 ],
 "metadata": {
  "kernelspec": {
   "display_name": "Python 3",
   "language": "python",
   "name": "python3"
  },
  "language_info": {
   "codemirror_mode": {
    "name": "ipython",
    "version": 3
   },
   "file_extension": ".py",
   "mimetype": "text/x-python",
   "name": "python",
   "nbconvert_exporter": "python",
   "pygments_lexer": "ipython3",
   "version": "3.6.9"
  }
 },
 "nbformat": 4,
 "nbformat_minor": 5
}
