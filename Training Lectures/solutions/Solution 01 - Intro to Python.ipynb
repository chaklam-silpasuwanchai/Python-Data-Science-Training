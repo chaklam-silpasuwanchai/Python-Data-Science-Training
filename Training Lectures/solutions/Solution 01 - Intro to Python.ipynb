{
 "cells": [
  {
   "cell_type": "markdown",
   "metadata": {},
   "source": [
    "### === Task 1 ===\n",
    "\n",
    "1. Declare two strings with value \"3\" and \"4\". Converting them to int, and then perform addition\n",
    "\n",
    "2. Declare a variable x = 10, and then print a f-string saying \"my variable x = 10\" where 10 is from the x value.\n",
    "\n",
    "3. Perform a calculation of (10 mod 4 / 2) and convert to integer\n",
    "\n",
    "4. Get input from user using input(), and then print the type of the input <br>\n",
    "Hint: https://www.geeksforgeeks.org/taking-input-in-python/\n",
    "\n",
    "5. Declare three strings: \"Chaky\", \"John\", \"Tom\", and concatenate (connect) them into \"Chaky, John, Tom\""
   ]
  },
  {
   "cell_type": "code",
   "execution_count": 1,
   "metadata": {},
   "outputs": [
    {
     "name": "stdout",
     "output_type": "stream",
     "text": [
      "7\n"
     ]
    }
   ],
   "source": [
    "#1 Declare two strings with value \"3\" and \"4\". Add them by first converting them to int, and then perform addition\n",
    "a, b = \"3\", \"4\"\n",
    "print(int(a) + int(b))"
   ]
  },
  {
   "cell_type": "code",
   "execution_count": 2,
   "metadata": {},
   "outputs": [
    {
     "name": "stdout",
     "output_type": "stream",
     "text": [
      "my variable is 10\n"
     ]
    }
   ],
   "source": [
    "#2 Declare a variable x = 10, and then print a f-string saying \"my variable x = 10\" where 10 is from the x value, not hard-coded\n",
    "x = 10\n",
    "print(f\"my variable is {x}\")"
   ]
  },
  {
   "cell_type": "code",
   "execution_count": 3,
   "metadata": {},
   "outputs": [
    {
     "data": {
      "text/plain": [
       "1"
      ]
     },
     "execution_count": 3,
     "metadata": {},
     "output_type": "execute_result"
    }
   ],
   "source": [
    "#3 Perform a calculation of 10 mod 4 / 2 and convert to integer\n",
    "int(10 % 4 / 2)"
   ]
  },
  {
   "cell_type": "code",
   "execution_count": 4,
   "metadata": {},
   "outputs": [
    {
     "name": "stdout",
     "output_type": "stream",
     "text": [
      "3\n",
      "<class 'str'>\n"
     ]
    }
   ],
   "source": [
    "#4 Get input from user using input(), and then print the type of the input\n",
    "a = input()\n",
    "print(type(a))"
   ]
  },
  {
   "cell_type": "code",
   "execution_count": 5,
   "metadata": {},
   "outputs": [
    {
     "name": "stdout",
     "output_type": "stream",
     "text": [
      "Chaky, John, Tom\n"
     ]
    }
   ],
   "source": [
    "#5 Declare three strings: \"Chaky\", \"John\", \"Tom\", and concatenate them into \"Chaky, John, Tom\"\n",
    "a, b, c = \"Chaky\", \"John\", \"Tom\"\n",
    "print(a + \", \" + b + \", \" + c)"
   ]
  },
  {
   "cell_type": "markdown",
   "metadata": {},
   "source": [
    "### === Task 2 ===\n",
    "\n",
    "1. Get input from user using input().  If the number is less than 5, print \"less than\".  Otherwise, print \"higher than\". <br>\n",
    "Note: input() always returns str\n",
    "\n",
    "2. Write a simple number guessing game using pseudocode.  The program generates a random integer.  It then accepts input from users for a integer.  After the user input, the system outputs one of the three possible states whether the number is higher, lower or equal to the target integer.  If it is wrong, it will keep asking users for input.  Feel free to make any assumption for anything not stated."
   ]
  },
  {
   "cell_type": "code",
   "execution_count": 6,
   "metadata": {},
   "outputs": [
    {
     "name": "stdout",
     "output_type": "stream",
     "text": [
      "3\n",
      "less than\n"
     ]
    }
   ],
   "source": [
    "#1 Get input from user using input().  If the number is less than 5, print \"less than\".  Otherwise, print \"higher than\".\n",
    "a = int(input())\n",
    "if a < 5:\n",
    "    print(\"less than\")\n",
    "else:\n",
    "    print(\"higher than\")"
   ]
  },
  {
   "cell_type": "code",
   "execution_count": 7,
   "metadata": {},
   "outputs": [
    {
     "name": "stdout",
     "output_type": "stream",
     "text": [
      "Please input an integer: 32\n",
      "too high\n",
      "Please input an integer: 21\n",
      "too less\n",
      "Please input an integer: 31\n",
      "too high\n",
      "Please input an integer: 26\n",
      "Yay, you got it!\n"
     ]
    }
   ],
   "source": [
    "#2 Write a simple number guessing game using pseudocode.\n",
    "import random\n",
    "secret = random.randint(0, 100)\n",
    "guess = -1\n",
    "\n",
    "while(secret != guess):\n",
    "    guess = int(input(\"Please input an integer: \"))\n",
    "    if(guess < secret):\n",
    "        print(\"too less\")\n",
    "    elif(guess > secret):\n",
    "        print(\"too high\")\n",
    "        \n",
    "print(\"Yay, you got it!\")"
   ]
  },
  {
   "cell_type": "markdown",
   "metadata": {},
   "source": [
    "### === Task 3 ===\n",
    "\n",
    "1. Declare a string \"Python is cool\".  Get the first 6 letters \"Python\".\n",
    "\n",
    "2. Similarly, print the last 4 letters \"cool\".\n",
    "\n",
    "3. Print the \"is\"\n",
    "\n",
    "4. Declare a string \"Malkahc\".  Print them reversely.\n",
    "\n",
    "5. Declare a string \"dffdfPkyktkhkokn\".  Print by skipping \"dffdf\", and then from that index onward, skip the even letters, i.e., the \"k\".  It should print \"Python\"\n",
    "\n",
    "6. Generate a list from 0 to 9\n",
    "\n",
    "7. Generate a list from 1 to 9 \n",
    "\n",
    "8. Generate a list from -9 to 9 skipping even numbers\n",
    "\n",
    "9. Continuing, append value 10 to list\n",
    "\n",
    "10. Continuing, check the index of value -1\n",
    "\n",
    "11. Continuing, check the length of list\n",
    "\n",
    "12. Continuing, remove the value 10\n",
    "\n",
    "13. Continuing, remove whatever value at index 5\n",
    "\n",
    "14. Continuing, check whether value -20 is in the list\n",
    "\n",
    "15. Continuing, shuffle the list, and then perform sort()\n",
    "\n",
    "16. Continuing, print all the values of the list by looping them\n",
    "\n",
    "17. Continuing, randomly choose one value from the list\n",
    "\n",
    "18. Continuing, print all the posible paired-permutations\n",
    "\n",
    "19. Continuing, using list comprehension, add 1 to all value in the list\n",
    "\n",
    "20. Continuing, using a for loop and enumerate, print the value in the list, as well as their index\n",
    "\n",
    "21. Create two list of length 3. One list contains your friends name, and another list contains their makeup ID number.  Using zip, print the name along the ID number\n",
    "\n",
    "22. Create a list containing [1, 1, 2, 2].  Using set, print the unique values.  Then print the length of this unique set.\n",
    "\n",
    "23. See below code.  Print only the eeg signal and event separately from this nested list using (1) for loop, (2) list comprehension\n",
    "\n",
    "24. Continuing, print only the eeg signal with event = 2 using list comprehension"
   ]
  },
  {
   "cell_type": "code",
   "execution_count": 8,
   "metadata": {},
   "outputs": [
    {
     "name": "stdout",
     "output_type": "stream",
     "text": [
      "Python\n"
     ]
    }
   ],
   "source": [
    "#1 Declare a string \"Python is cool\".  Get the first 6 letters \"Python\".\n",
    "a = \"Python is cool\"\n",
    "print(a[:6])"
   ]
  },
  {
   "cell_type": "code",
   "execution_count": 9,
   "metadata": {},
   "outputs": [
    {
     "name": "stdout",
     "output_type": "stream",
     "text": [
      "cool\n"
     ]
    }
   ],
   "source": [
    "#2 Similarly, print the last 4 letters \"cool\".\n",
    "print(a[-4:])"
   ]
  },
  {
   "cell_type": "code",
   "execution_count": 10,
   "metadata": {},
   "outputs": [
    {
     "name": "stdout",
     "output_type": "stream",
     "text": [
      "is\n"
     ]
    }
   ],
   "source": [
    "#3 Print the \"is\"\n",
    "print(a[7:9])"
   ]
  },
  {
   "cell_type": "code",
   "execution_count": 11,
   "metadata": {},
   "outputs": [
    {
     "name": "stdout",
     "output_type": "stream",
     "text": [
      "chaklam\n"
     ]
    }
   ],
   "source": [
    "#4 Declare a string \"Malkahc\".  Print them reversely.\n",
    "a = \"malkahc\"\n",
    "print(a[::-1])"
   ]
  },
  {
   "cell_type": "code",
   "execution_count": 12,
   "metadata": {},
   "outputs": [
    {
     "name": "stdout",
     "output_type": "stream",
     "text": [
      "Python\n"
     ]
    }
   ],
   "source": [
    "#5 Declare a string \"dffdfPkyktkhkokn\".  Print by skipping \"dffdf\", and then from that index onward, skip the even letters, i.e., the \"k\".  It should print \"Python\"\n",
    "a = \"dffdfPkyktkhkokn\"\n",
    "print(a[5::2])"
   ]
  },
  {
   "cell_type": "code",
   "execution_count": 13,
   "metadata": {},
   "outputs": [
    {
     "name": "stdout",
     "output_type": "stream",
     "text": [
      "[0, 1, 2, 3, 4, 5, 6, 7, 8, 9]\n"
     ]
    }
   ],
   "source": [
    "#6. Generate a list from 0 to 9\n",
    "a = list(range(10))\n",
    "print(a)"
   ]
  },
  {
   "cell_type": "code",
   "execution_count": 14,
   "metadata": {},
   "outputs": [
    {
     "name": "stdout",
     "output_type": "stream",
     "text": [
      "[1, 2, 3, 4, 5, 6, 7, 8, 9]\n"
     ]
    }
   ],
   "source": [
    "#7. Generate a list from 1 to 9 \n",
    "a = list(range(1, 10))\n",
    "print(a)"
   ]
  },
  {
   "cell_type": "code",
   "execution_count": 15,
   "metadata": {},
   "outputs": [
    {
     "name": "stdout",
     "output_type": "stream",
     "text": [
      "[-9, -7, -5, -3, -1, 1, 3, 5, 7, 9]\n"
     ]
    }
   ],
   "source": [
    "#8. Generate a list from -9 to 9 skipping even numbers\n",
    "a = list(range(-9, 10, 2))\n",
    "print(a)"
   ]
  },
  {
   "cell_type": "code",
   "execution_count": 16,
   "metadata": {},
   "outputs": [
    {
     "name": "stdout",
     "output_type": "stream",
     "text": [
      "[-9, -7, -5, -3, -1, 1, 3, 5, 7, 9, 10]\n"
     ]
    }
   ],
   "source": [
    "#9. Continuing, append number 10 to list\n",
    "a.append(10)\n",
    "print(a)"
   ]
  },
  {
   "cell_type": "code",
   "execution_count": 17,
   "metadata": {},
   "outputs": [
    {
     "data": {
      "text/plain": [
       "4"
      ]
     },
     "execution_count": 17,
     "metadata": {},
     "output_type": "execute_result"
    }
   ],
   "source": [
    "#10. Continuing, check the index of value -1\n",
    "a.index(-1)"
   ]
  },
  {
   "cell_type": "code",
   "execution_count": 18,
   "metadata": {},
   "outputs": [
    {
     "name": "stdout",
     "output_type": "stream",
     "text": [
      "11\n"
     ]
    }
   ],
   "source": [
    "#11. Continuing, check the length of list\n",
    "print(len(a))"
   ]
  },
  {
   "cell_type": "code",
   "execution_count": 19,
   "metadata": {},
   "outputs": [
    {
     "name": "stdout",
     "output_type": "stream",
     "text": [
      "[-9, -7, -5, -3, -1, 1, 3, 5, 7, 9]\n"
     ]
    }
   ],
   "source": [
    "#12. Continuing, remove the value \"10\"\n",
    "a.remove(10)\n",
    "print(a)"
   ]
  },
  {
   "cell_type": "code",
   "execution_count": 20,
   "metadata": {},
   "outputs": [
    {
     "name": "stdout",
     "output_type": "stream",
     "text": [
      "[-9, -7, -5, -3, -1, 3, 5, 7, 9]\n"
     ]
    }
   ],
   "source": [
    "#13. Continuing, remove whatever value at index 5\n",
    "a.remove(a[5])\n",
    "print(a)"
   ]
  },
  {
   "cell_type": "code",
   "execution_count": 23,
   "metadata": {},
   "outputs": [
    {
     "data": {
      "text/plain": [
       "False"
      ]
     },
     "execution_count": 23,
     "metadata": {},
     "output_type": "execute_result"
    }
   ],
   "source": [
    "#14. Continuing, check whether value -20 is in the list\n",
    "-20 in a"
   ]
  },
  {
   "cell_type": "code",
   "execution_count": 28,
   "metadata": {},
   "outputs": [
    {
     "name": "stdout",
     "output_type": "stream",
     "text": [
      "[-3, -7, 9, 3, -5, 7, -1, -9, 5]\n",
      "[-9, -7, -5, -3, -1, 3, 5, 7, 9]\n"
     ]
    }
   ],
   "source": [
    "#15. Continuing, shuffle the list, and then perform sort()\n",
    "import random\n",
    "random.shuffle(a)\n",
    "print(a)\n",
    "a.sort()\n",
    "print(a)"
   ]
  },
  {
   "cell_type": "code",
   "execution_count": 30,
   "metadata": {},
   "outputs": [
    {
     "name": "stdout",
     "output_type": "stream",
     "text": [
      "-9\n",
      "-7\n",
      "-5\n",
      "-3\n",
      "-1\n",
      "3\n",
      "5\n",
      "7\n",
      "9\n"
     ]
    }
   ],
   "source": [
    "#16. Continuing, print all the values of the list by looping them\n",
    "for val in a:\n",
    "    print(val)"
   ]
  },
  {
   "cell_type": "code",
   "execution_count": 32,
   "metadata": {},
   "outputs": [
    {
     "name": "stdout",
     "output_type": "stream",
     "text": [
      "-3\n"
     ]
    }
   ],
   "source": [
    "#17. Continuing, randomly choose 1 value from the list\n",
    "print(random.choice(a))"
   ]
  },
  {
   "cell_type": "code",
   "execution_count": 33,
   "metadata": {},
   "outputs": [
    {
     "name": "stdout",
     "output_type": "stream",
     "text": [
      "[(-9, -7), (-9, -5), (-9, -3), (-9, -1), (-9, 3), (-9, 5), (-9, 7), (-9, 9), (-7, -9), (-7, -5), (-7, -3), (-7, -1), (-7, 3), (-7, 5), (-7, 7), (-7, 9), (-5, -9), (-5, -7), (-5, -3), (-5, -1), (-5, 3), (-5, 5), (-5, 7), (-5, 9), (-3, -9), (-3, -7), (-3, -5), (-3, -1), (-3, 3), (-3, 5), (-3, 7), (-3, 9), (-1, -9), (-1, -7), (-1, -5), (-1, -3), (-1, 3), (-1, 5), (-1, 7), (-1, 9), (3, -9), (3, -7), (3, -5), (3, -3), (3, -1), (3, 5), (3, 7), (3, 9), (5, -9), (5, -7), (5, -5), (5, -3), (5, -1), (5, 3), (5, 7), (5, 9), (7, -9), (7, -7), (7, -5), (7, -3), (7, -1), (7, 3), (7, 5), (7, 9), (9, -9), (9, -7), (9, -5), (9, -3), (9, -1), (9, 3), (9, 5), (9, 7)]\n"
     ]
    }
   ],
   "source": [
    "#18. Continuing, print all the posible paired-permutations\n",
    "from itertools import permutations\n",
    "print(list(permutations(a, 2)))"
   ]
  },
  {
   "cell_type": "code",
   "execution_count": 34,
   "metadata": {},
   "outputs": [
    {
     "name": "stdout",
     "output_type": "stream",
     "text": [
      "[-9, -7, -5, -3, -1, 3, 5, 7, 9]\n",
      "[-8, -6, -4, -2, 0, 4, 6, 8, 10]\n"
     ]
    }
   ],
   "source": [
    "#19. Continuing, using list comprehension, add 1 to all value in the list\n",
    "print(a)\n",
    "a = [num + 1 for num in a]  #remember to enclose with []!!\n",
    "print(a)"
   ]
  },
  {
   "cell_type": "code",
   "execution_count": 36,
   "metadata": {},
   "outputs": [
    {
     "name": "stdout",
     "output_type": "stream",
     "text": [
      "0 -8\n",
      "1 -6\n",
      "2 -4\n",
      "3 -2\n",
      "4 0\n",
      "5 4\n",
      "6 6\n",
      "7 8\n",
      "8 10\n"
     ]
    }
   ],
   "source": [
    "#20. Continuing, using a for loop and enumerate, print the value in the list, as well as their index\n",
    "for idx, val in enumerate(a):\n",
    "    print(idx, val)"
   ]
  },
  {
   "cell_type": "code",
   "execution_count": 39,
   "metadata": {},
   "outputs": [
    {
     "name": "stdout",
     "output_type": "stream",
     "text": [
      "Chaky 001\n",
      "John 002\n",
      "Carter 003\n"
     ]
    }
   ],
   "source": [
    "#21. Create two list of length 3. One list contains your friends name, and another list contains their makeup ID number.  Using zip, print the name along the ID number\n",
    "names = [\"Chaky\", \"John\", \"Carter\"]\n",
    "IDs = [\"001\", \"002\", \"003\"]\n",
    "for name, ID in zip(names, IDs):\n",
    "    print(name, ID)"
   ]
  },
  {
   "cell_type": "code",
   "execution_count": 40,
   "metadata": {},
   "outputs": [
    {
     "name": "stdout",
     "output_type": "stream",
     "text": [
      "2\n"
     ]
    }
   ],
   "source": [
    "#22. Create a list containing [1, 1, 2, 2].  Using set, print the unique values.  Then print the length of this unique set.\n",
    "a = [1, 1, 2, 2]\n",
    "unique = set(a)\n",
    "print(len(unique))"
   ]
  },
  {
   "cell_type": "code",
   "execution_count": 41,
   "metadata": {},
   "outputs": [
    {
     "name": "stdout",
     "output_type": "stream",
     "text": [
      "EEG signal:  [[[8, 9], 1], [[3, 3], 2], [[2, 3], 2]]\n",
      "EEG:  [8, 9]\n",
      "Event:  1\n",
      "EEG:  [3, 3]\n",
      "Event:  2\n",
      "EEG:  [2, 3]\n",
      "Event:  2\n",
      "Use list comprehension EEG:  [[8, 9], [3, 3], [2, 3]]\n",
      "Use list comprehension Event:  [1, 2, 2]\n"
     ]
    }
   ],
   "source": [
    "#23. See below code.  Print only the eeg signal and event separately from this nested list using (1) for loop, (2) list comprehension\n",
    "two_channel_eeg_signal1 = [8, 9]\n",
    "event1 = 1\n",
    "two_channel_eeg_signal2 = [3, 3]\n",
    "event2 = 2\n",
    "two_channel_eeg_signal3 = [2, 3]\n",
    "event3 = 2\n",
    "some_nested_list = []\n",
    "some_nested_list.append([two_channel_eeg_signal1, event1])\n",
    "some_nested_list.append([two_channel_eeg_signal2, event2])\n",
    "some_nested_list.append([two_channel_eeg_signal3, event3])\n",
    "print(\"EEG signal: \", some_nested_list)\n",
    "\n",
    "#use loop\n",
    "eeg = []\n",
    "event = []\n",
    "for each_event_list in some_nested_list:\n",
    "    each_eeg = each_event_list[0]\n",
    "    each_event = each_event_list[1]\n",
    "    eeg.append(each_eeg)\n",
    "    eeg.append(each_event)\n",
    "    print(\"EEG: \", each_eeg)\n",
    "    print(\"Event: \", each_event)\n",
    "\n",
    "#use list comprenhension\n",
    "print(\"Use list comprehension EEG: \", [i[0] for i in some_nested_list])\n",
    "print(\"Use list comprehension Event: \", [i[1] for i in some_nested_list])"
   ]
  },
  {
   "cell_type": "code",
   "execution_count": 42,
   "metadata": {},
   "outputs": [
    {
     "name": "stdout",
     "output_type": "stream",
     "text": [
      "Use list comprehension EEG:  [[3, 3], [2, 3]]\n"
     ]
    }
   ],
   "source": [
    "#24. Continuing, print only the eeg signal with event = 2 using list comprehension\n",
    "print(\"Use list comprehension EEG: \", [i[0] for i in some_nested_list if i[1]==2])"
   ]
  },
  {
   "cell_type": "markdown",
   "metadata": {},
   "source": [
    "### === Task 4 ===\n",
    "\n",
    "1. Create a tuple variable containing a person age, gender, and height, and then attempt to print the gender of the tuple variable.\n",
    "2. Create a dictionary of your age, name, gender, ID number.  Loop the dictionary and print the key - value."
   ]
  },
  {
   "cell_type": "code",
   "execution_count": 43,
   "metadata": {},
   "outputs": [
    {
     "data": {
      "text/plain": [
       "'M'"
      ]
     },
     "execution_count": 43,
     "metadata": {},
     "output_type": "execute_result"
    }
   ],
   "source": [
    "#1. Create a tuple variable containing a person age, gender, and height, and then attempt to print the gender of the tuple variable.\n",
    "person = 25, \"M\", 180\n",
    "person[1]"
   ]
  },
  {
   "cell_type": "code",
   "execution_count": 51,
   "metadata": {},
   "outputs": [
    {
     "name": "stdout",
     "output_type": "stream",
     "text": [
      "age 25\n",
      "name Chaky\n",
      "gender M\n",
      "ID 1\n"
     ]
    }
   ],
   "source": [
    "#2. Create a dictionary of your age, name, gender, ID number.  Loop the dictionary and print the key - value.\n",
    "person = {'age':25, 'name':\"Chaky\", 'gender': 'M', 'ID': 1}\n",
    "\n",
    "for k, v in person.items():\n",
    "    print(k, v)"
   ]
  },
  {
   "cell_type": "markdown",
   "metadata": {},
   "source": [
    "### === Task 5 ===\n",
    "\n",
    "1. Given height = 5, perform a for loop and print\n",
    "   <code>\n",
    "   *\n",
    "   **\n",
    "   ***\n",
    "   ****\n",
    "   *****\n",
    "   </code>\n",
    "\n",
    "2. Given height = 5, perform a for loop and print\n",
    "   <code>\n",
    "   *****\n",
    "   ****\n",
    "   ***\n",
    "   **\n",
    "   *\n",
    "   </code>\n",
    "   \n",
    "3. Given height = 3, perform a for loop and print\n",
    "   <code>\n",
    "     *\n",
    "    ***\n",
    "   *****\n",
    "   </code>\n",
    "   \n",
    "4. Put the above code into a function def pyramid(height), with default height of 2\n",
    "5. Define a function <code>is_palindrome()</code> that recognizes palindromes (i.e. words that look the same written backwards). For example, <code>is_palindrome(\"radar\")</code> should return True.\n",
    "6. Create a function that removes duplicates from a given list\n",
    "7. Define a function <code>max()</code> (without using max() built-in function) that takes list of numbers as arguments and returns the largest of them.\n",
    "8. Generate a dictionary where the keys are numbers between 1 and 20 (both included) and the values are square of keys.\n",
    "9. Create a countdown clock that counts 3, 2, 1 and done! (hint: use <code>time.sleep(1)</code>)"
   ]
  },
  {
   "cell_type": "code",
   "execution_count": 65,
   "metadata": {},
   "outputs": [
    {
     "name": "stdout",
     "output_type": "stream",
     "text": [
      "*\n",
      "**\n",
      "***\n",
      "****\n",
      "*****\n"
     ]
    }
   ],
   "source": [
    "'''\n",
    "1. Given height = 5, perform a for loop and print\n",
    "   <code>\n",
    "   *\n",
    "   **\n",
    "   ***\n",
    "   ****\n",
    "   *****\n",
    "   </code>\n",
    "'''\n",
    "height = 5\n",
    "for i in range(1, height + 1):\n",
    "    print(\"*\" * i)"
   ]
  },
  {
   "cell_type": "code",
   "execution_count": 66,
   "metadata": {},
   "outputs": [
    {
     "name": "stdout",
     "output_type": "stream",
     "text": [
      "*****\n",
      "****\n",
      "***\n",
      "**\n",
      "*\n"
     ]
    }
   ],
   "source": [
    "'''\n",
    "2. Given height = 5, perform a for loop and print\n",
    "   <code>\n",
    "   *****\n",
    "   ****\n",
    "   ***\n",
    "   **\n",
    "   *\n",
    "   </code>\n",
    "'''\n",
    "height = 5\n",
    "for i in range(height, 0, -1):\n",
    "    print(\"*\" * i)"
   ]
  },
  {
   "cell_type": "code",
   "execution_count": 141,
   "metadata": {},
   "outputs": [
    {
     "name": "stdout",
     "output_type": "stream",
     "text": [
      "   *\n",
      "  ***\n",
      " *****\n"
     ]
    }
   ],
   "source": [
    "'''\n",
    "3. Given height = 3, perform a for loop and print\n",
    "   <code>\n",
    "     *\n",
    "    ***\n",
    "   *****\n",
    "   </code>\n",
    "'''\n",
    "height = 3\n",
    "for i in range(0, height):\n",
    "    for j in reversed(range(height-i)):\n",
    "        print(\" \", end='')\n",
    "    stars = 2 * i + 1\n",
    "    print(\"*\" * stars)"
   ]
  },
  {
   "cell_type": "code",
   "execution_count": 142,
   "metadata": {},
   "outputs": [
    {
     "name": "stdout",
     "output_type": "stream",
     "text": [
      "   *\n",
      "  ***\n",
      " *****\n"
     ]
    }
   ],
   "source": [
    "#4. Put the above code into a function def pyramid(height), with default height of 2\n",
    "\n",
    "def pyramid(height = 2):\n",
    "    for i in range(0, height):\n",
    "        for j in reversed(range(height-i)):\n",
    "            print(\" \", end='')\n",
    "        stars = 2 * i + 1\n",
    "        print(\"*\" * stars)\n",
    "\n",
    "pyramid(3)"
   ]
  },
  {
   "cell_type": "code",
   "execution_count": 143,
   "metadata": {},
   "outputs": [
    {
     "name": "stdout",
     "output_type": "stream",
     "text": [
      "True\n",
      "False\n"
     ]
    }
   ],
   "source": [
    "#5. Define a function <code>is_palindrome()</code> that recognizes palindromes (i.e. words that look the same written backwards). For example, <code>is_palindrome(\"radar\")</code> should return True.\n",
    "\n",
    "def is_palindrome(input):\n",
    "    return input == input[::-1]\n",
    "\n",
    "print(is_palindrome(\"radar\"))\n",
    "print(is_palindrome(\"apple\"))"
   ]
  },
  {
   "cell_type": "code",
   "execution_count": 144,
   "metadata": {},
   "outputs": [
    {
     "name": "stdout",
     "output_type": "stream",
     "text": [
      "[1, 2, 3, 4, 5, 6, 7, 8]\n",
      "[1, 2, 3, 4, 5, 6, 7, 8]\n"
     ]
    }
   ],
   "source": [
    "#6. Create a function that removes duplicates from a given list\n",
    "def removeDuplicates(input: list):\n",
    "    if not isinstance(input, list):\n",
    "        raise ValueError(f\"{input} is not a type of list.\")\n",
    "\n",
    "    new_list = []\n",
    "    for num in input:\n",
    "        if num not in new_list:\n",
    "            new_list.append(num)\n",
    "    return new_list\n",
    "\n",
    "a = [1, 2, 2, 3, 3, 4, 5, 6, 7, 7, 8]\n",
    "print(removeDuplicates(a))\n",
    "\n",
    "#faster way - set returns a unique elements with type {set}, then typecast with list()\n",
    "print(list(set(a)))"
   ]
  },
  {
   "cell_type": "code",
   "execution_count": 145,
   "metadata": {},
   "outputs": [
    {
     "data": {
      "text/plain": [
       "3"
      ]
     },
     "execution_count": 145,
     "metadata": {},
     "output_type": "execute_result"
    }
   ],
   "source": [
    "#7. Define a function <code>max()</code> that takes list of numbers as arguments and returns the largest of them.\n",
    "def max(input: list):\n",
    "    if not isinstance(input, list):\n",
    "        raise ValueError(f\"{input} is not a type of list.\")\n",
    "    temp = 0\n",
    "    for num in input:\n",
    "        if num > temp:\n",
    "            temp = num\n",
    "    return temp\n",
    "\n",
    "a = [1, 2, 3]\n",
    "max(a)"
   ]
  },
  {
   "cell_type": "code",
   "execution_count": 52,
   "metadata": {},
   "outputs": [
    {
     "name": "stdout",
     "output_type": "stream",
     "text": [
      "1 1\n",
      "2 4\n",
      "3 9\n",
      "4 16\n",
      "5 25\n",
      "6 36\n",
      "7 49\n",
      "8 64\n",
      "9 81\n",
      "10 100\n",
      "11 121\n",
      "12 144\n",
      "13 169\n",
      "14 196\n",
      "15 225\n",
      "16 256\n",
      "17 289\n",
      "18 324\n",
      "19 361\n",
      "20 400\n"
     ]
    }
   ],
   "source": [
    "#8. Generate a dictionary where the keys are numbers between 1 and 20 (both included) and the values are square of keys.\n",
    "def squared_dict():\n",
    "    d=dict()\n",
    "    for i in range(1,21):\n",
    "        d[i]=i**2\n",
    "    for (k,v) in d.items():\n",
    "        print(k, v)\n",
    "\n",
    "squared_dict()"
   ]
  },
  {
   "cell_type": "code",
   "execution_count": 146,
   "metadata": {},
   "outputs": [
    {
     "name": "stdout",
     "output_type": "stream",
     "text": [
      "3...2...1...Go!\n"
     ]
    }
   ],
   "source": [
    "#9. Create a countdown clock that counts 3, 2, 1 and done! (hint: use <code>time.sleep(1)</code>)\n",
    "def countdown():\n",
    "    import time\n",
    "    num_seconds = 3 \n",
    "    for countdown in reversed(range(num_seconds + 1)):\n",
    "        if countdown > 0:\n",
    "            print(countdown, end='...')\n",
    "            time.sleep(1)\n",
    "        else:\n",
    "            print('Go!')\n",
    "countdown()"
   ]
  },
  {
   "cell_type": "markdown",
   "metadata": {},
   "source": [
    "### === Task 6 ===\n",
    "\n",
    "1. Create a class called `class rectangle()`. This class includes the following functions:\n",
    "\n",
    "- `__init__()` where height and width of your rectangle are initiated. \n",
    "- `setHeight()` and `setWidth()` which allow you to change height and width of your rectangle.\n",
    "- `getArea()` where the area of your rectangle is returned."
   ]
  },
  {
   "cell_type": "code",
   "execution_count": 148,
   "metadata": {},
   "outputs": [
    {
     "name": "stdout",
     "output_type": "stream",
     "text": [
      "12\n"
     ]
    }
   ],
   "source": [
    "#1\n",
    "class Rectangle:\n",
    "\n",
    "    # Circle gets instantiated with a radius (default is 1)\n",
    "    def __init__(self, width=1, height=1):\n",
    "        self.width = width \n",
    "        self.height = height\n",
    "        self.area = width * height\n",
    "\n",
    "    # Method for resetting Radius\n",
    "    def setHeight(self, new_height):\n",
    "        self.height = new_height\n",
    "        self.area = new_height * self.width\n",
    "        \n",
    "    # Method for resetting Radius\n",
    "    def setWidth(self, new_width):\n",
    "        self.width = new_width\n",
    "        self.area = new_width * self.height\n",
    "\n",
    "    # Method for getting Circumference\n",
    "    def getArea(self):\n",
    "        return self.area\n",
    "\n",
    "\n",
    "r = Rectangle()\n",
    "r.setHeight(3)\n",
    "r.setWidth(4)\n",
    "print(r.getArea())"
   ]
  }
 ],
 "metadata": {
  "kernelspec": {
   "display_name": "Python 3",
   "language": "python",
   "name": "python3"
  },
  "language_info": {
   "codemirror_mode": {
    "name": "ipython",
    "version": 3
   },
   "file_extension": ".py",
   "mimetype": "text/x-python",
   "name": "python",
   "nbconvert_exporter": "python",
   "pygments_lexer": "ipython3",
   "version": "3.6.9"
  }
 },
 "nbformat": 4,
 "nbformat_minor": 4
}
